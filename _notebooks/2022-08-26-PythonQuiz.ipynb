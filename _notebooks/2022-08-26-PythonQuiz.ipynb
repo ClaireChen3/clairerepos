{
 "cells": [
  {
   "cell_type": "markdown",
   "metadata": {},
   "source": [
    "# Python Quiz"
   ]
  },
  {
   "cell_type": "code",
   "execution_count": null,
   "metadata": {},
   "outputs": [
    {
     "name": "stdout",
     "output_type": "stream",
     "text": [
      "Hello, claire running /bin/python3\n",
      "You will be asked 2 questions.\n",
      "Question: Are you ready to take a test?\n",
      "Answer: \n",
      "Question: What is the key word to define a function?\n",
      "def is correct!\n",
      "Question: what input returns an output back to the user\n",
      "def is incorrect!\n",
      "claire you scored 1/2\n"
     ]
    }
   ],
   "source": [
    "import getpass, sys\n",
    "\n",
    "def question_and_answer(prompt):\n",
    "    print(\"Question: \" + prompt)\n",
    "    msg = input()\n",
    "    print(\"Answer: \" + msg)\n",
    "    \n",
    "def question_with_response(prompt):\n",
    "    print(\"Question: \" + prompt)\n",
    "    msg = input()\n",
    "    return msg\n",
    "\n",
    "questions = 2\n",
    "correct = 0\n",
    "\n",
    "print('Hello, ' + getpass.getuser() + \" running \" + sys.executable)\n",
    "print(\"You will be asked \" + str(questions) + \" questions.\")\n",
    "question_and_answer(\"Are you ready to take a test?\")\n",
    "\n",
    "rsp = question_with_response(\"What is the key word to define a function?\")\n",
    "if rsp == \"def\":\n",
    "    print(rsp + \" is correct!\")\n",
    "    correct += 1\n",
    "else:\n",
    "    print(rsp + \" is incorrect!\")\n",
    "\n",
    "rsp = question_with_response(\"what input returns an output back to the user\")\n",
    "if rsp == \"msg\":\n",
    "    print(rsp + \" is correct!\")\n",
    "    correct += 1\n",
    "else:\n",
    "    print(rsp + \" is incorrect!\")\n",
    "\n",
    "print(getpass.getuser() + \" you scored \" + str(correct) +\"/\" + str(questions))"
   ]
  }
 ],
 "metadata": {
  "language_info": {
   "name": "python"
  },
  "orig_nbformat": 4
 },
 "nbformat": 4,
 "nbformat_minor": 2
}
