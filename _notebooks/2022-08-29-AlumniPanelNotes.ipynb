{
 "cells": [
  {
   "cell_type": "markdown",
   "metadata": {},
   "source": [
    "# Alumni Panel Notes\n",
    "> extra credit\n",
    "\n",
    "- toc: false\n",
    "- badges: true\n",
    "- categories: [markdown, week 1]"
   ]
  },
  {
   "cell_type": "markdown",
   "metadata": {},
   "source": [
    "### How did you realize you want to do cs\n",
    "- Mechanical engineering is different than computer science\n",
    "-  create functions, programs and algorithms.\n",
    "- CSA can help solidify your knowledge on computer science\n",
    "- Might not be easy but important to learn\n",
    "- Many different majors require programming experience and logical thinking background\n",
    "- Cog sci is psychology+computer science \n",
    "    - UX UI \n",
    "    - Get technical skill from computer science\n",
    "- In csa you can learn how to apply programming skills\n",
    "    - She realized what she was creating could be used in real world\n",
    "\n",
    "\n",
    "### Hardest part\n",
    "- Having error messages (syntax errors)\n",
    "    - Solution: try to google search it \n",
    "- Egos \n",
    "    - People are not very kind and brag\n",
    "    - Solution: focus on you own path\n",
    "- Theory behind CS\n",
    "- Different structures\n",
    "- HS to college compsci is different\n",
    "- Hard to find the motivation\n",
    "    - Feeling not good enough\n",
    "    - Solution: having a purpose to apply cs to\n",
    "- Programming logic (syntax)\n",
    "- Starting compsci later (as a senior)\n",
    "    - Solution: having mindset to go above and beyond\n",
    "- Not having an organized structure\n",
    "    - Solution: don't get so stuck on a plan, just start coding\n",
    "\n",
    "\n",
    "### Project based learning\n",
    "Will see in...\n",
    "- operative courses\n",
    "- Computer science major\n",
    "- Most UCs\n",
    "- Study in groups and work with others \n",
    "\n",
    "\n",
    "### Apply compsci in non-compsci majors?\n",
    "- Copy pasting and converting data types\n",
    "- Can do advanced calculations \n",
    "- Program analysis \n",
    "- graphing/statistics (R )\n",
    "\n",
    "\n",
    "### Job with school or professor\n",
    "- Go to office hours \n",
    "- Set yourself apart from the other students (go above and beyond)\n",
    "- TA, code ninjas, LG,\n",
    "\n",
    "\n",
    "Resume done by early september for internships \n",
    "Build networks\n"
   ]
  }
 ],
 "metadata": {
  "kernelspec": {
   "display_name": "Python 3.9.12 ('base')",
   "language": "python",
   "name": "python3"
  },
  "language_info": {
   "name": "python",
   "version": "3.9.12"
  },
  "orig_nbformat": 4,
  "vscode": {
   "interpreter": {
    "hash": "ab0e85a9c08cdbd4c52a9b79d1ef72a54d0123135181235dd24754d6bea1e8b9"
   }
  }
 },
 "nbformat": 4,
 "nbformat_minor": 2
}
