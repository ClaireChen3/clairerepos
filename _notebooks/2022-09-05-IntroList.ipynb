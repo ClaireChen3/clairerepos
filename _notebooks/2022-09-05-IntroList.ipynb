{
 "cells": [
  {
   "cell_type": "code",
   "execution_count": 1,
   "metadata": {},
   "outputs": [
    {
     "name": "stdout",
     "output_type": "stream",
     "text": [
      "introduce yourself!\n",
      "my name is Claire Chen <class 'str'>\n",
      "I have 2 pets <class 'int'>\n",
      "favColor pink <class 'str'>\n",
      "threeHobbies ['making jewelry', 'biking', 'and coding'] <class 'list'>\n",
      "person {'name': 'Claire Chen', 'pets': 2, 'favColor': 'pink', 'threeHobbies': ['making jewelry', 'biking', 'and coding']} <class 'dict'>\n",
      "- person[\"name\"] Claire Chen <class 'str'>\n",
      "Hi! my name is Claire Chen , I have 2 pet(s), my favorite color is pink and three of my hobbies are: making jewelry , biking , and coding\n",
      "While loop\n",
      "\n",
      "\t name: Claire Chen\n",
      "\t pets: 2\n",
      "\t favColor: pink\n",
      "\t threeHobbies: ['making jewelry', 'biking', 'and coding']\n",
      "\n"
     ]
    }
   ],
   "source": [
    "print(\"introduce yourself!\")\n",
    "\n",
    "# name= variable and value= Claire Chen\n",
    "# type= string\n",
    "\n",
    "name = \"Claire Chen\"\n",
    "print(\"my name is\", name, type(name))\n",
    "\n",
    "# numberPets= variable and value= 2\n",
    "# type= int\n",
    "numberPets = 2\n",
    "print(\"I have\", numberPets, \"pets\", type(numberPets))\\\n",
    "    \n",
    "# favColor= variable and value= pink\n",
    "# type= string    \n",
    "favColor = \"pink\"\n",
    "print(\"favColor\", favColor, type(favColor))\n",
    "\n",
    "# name= variable and value= Claire Chen\n",
    "# type= list\n",
    "threeHobbies = [\"making jewelry\", 'biking', 'and coding']\n",
    "print(\"threeHobbies\", threeHobbies, type(threeHobbies))\n",
    "\n",
    "person = {\n",
    "    \"name\": name,\n",
    "    \"pets\": numberPets,\n",
    "    \"favColor\": favColor,\n",
    "    \"threeHobbies\": threeHobbies\n",
    "}\n",
    "print(\"person\", person, type(person))\n",
    "print('- person[\"name\"]', person[\"name\"], type(person[\"name\"]))\n",
    "\n",
    "print(\"Hi! my name is\", name, \",\", \"I have\", numberPets, \"pet(s),\", \"my favorite color is\", favColor, \"and three of my hobbies are:\", threeHobbies[0], \",\",  threeHobbies[1], \",\", threeHobbies[2]  ) \n",
    "\n",
    "\n",
    "InfoDb = []\n",
    "\n",
    "# Append to List a Dictionary of key/values related to a person and cars\n",
    "InfoDb.append({\n",
    "    \"name\": \"Claire Chen\",\n",
    "    \"pets\": \"2\",\n",
    "    \"favColor\": \"pink\",\n",
    "    \"threeHobbies\": [\"making jewelry\", 'biking', 'and coding'],\n",
    "})\n",
    "\n",
    "\n",
    "\n",
    "def print_data(d_rec):\n",
    "    print(\"\\t\", \"name:\", d_rec[\"name\"]) # \\t is a tab indent\n",
    "    print(\"\\t\", \"pets:\", d_rec[\"pets\"])\n",
    "    print(\"\\t\", \"favColor:\", d_rec[\"favColor\"])\n",
    "    print(\"\\t\", \"threeHobbies:\", d_rec[\"threeHobbies\"])\n",
    "    print()\n",
    "\n",
    "\n",
    "def while_loop():\n",
    "    print(\"While loop\\n\")\n",
    "    i = 0\n",
    "    while i < len(InfoDb):\n",
    "        record = InfoDb[i]\n",
    "        print_data(record)\n",
    "        i += 1\n",
    "    return\n",
    "while_loop()\n",
    "\n"
   ]
  }
 ],
 "metadata": {
  "kernelspec": {
   "display_name": "Python 3.8.10 64-bit",
   "language": "python",
   "name": "python3"
  },
  "language_info": {
   "codemirror_mode": {
    "name": "ipython",
    "version": 3
   },
   "file_extension": ".py",
   "mimetype": "text/x-python",
   "name": "python",
   "nbconvert_exporter": "python",
   "pygments_lexer": "ipython3",
   "version": "3.8.10"
  },
  "orig_nbformat": 4,
  "vscode": {
   "interpreter": {
    "hash": "916dbcbb3f70747c44a77c7bcd40155683ae19c65e1c03b4aa3499c5328201f1"
   }
  }
 },
 "nbformat": 4,
 "nbformat_minor": 2
}
