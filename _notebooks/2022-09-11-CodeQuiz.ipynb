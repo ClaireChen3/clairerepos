{
 "cells": [
  {
   "cell_type": "markdown",
   "metadata": {},
   "source": [
    "# App Lab Quiz\n",
    "\n",
    "- toc: true \n",
    "- badges: true\n",
    "- comments: true \n",
    "- categories: [markdown, week 3]"
   ]
  },
  {
   "cell_type": "markdown",
   "metadata": {},
   "source": [
    "Link to my [App Lab](https://studio.code.org/projects/applab/7ptsokFyN0pyuT3mKKqMvRwqHrdFYkN843sQCiclsDc)\n",
    "### Design\n",
    "#### Purpose and function: \n",
    "- to quiz people on how well they now music albums of multiple genres\n",
    "#### Quiz Topic: \n",
    "- Guess the album name by the album cover\n",
    "#### Quiz Questions: \n",
    "- multiple choice (easy mode 2 questions)\n",
    "- free response (hard mode 2 questions)\n",
    "#### Quiz layout: picture of albums at the top and multiple choice answers below\n",
    "#### Special ideas: \n",
    "- easy and hard mode\n",
    "- add sound add hints\n",
    "- add gifs\n",
    "#### albums to use\n",
    "- Renaissance\n",
    "- Abbey Road\n",
    "- Anti\n",
    "- After Hours\n",
    "#### Successes:\n",
    "- adding sound! \n",
    "#### Discoveries\n",
    "- how to use set time function\n",
    "- how to use if then\n",
    "#### Challenges\n",
    "- coding free response questions\n",
    "- using the if then function, blocks are fun!\n",
    "\n"
   ]
  }
 ],
 "metadata": {
  "kernelspec": {
   "display_name": "Python 3.8.10 64-bit",
   "language": "python",
   "name": "python3"
  },
  "language_info": {
   "name": "python",
   "version": "3.8.10"
  },
  "orig_nbformat": 4,
  "vscode": {
   "interpreter": {
    "hash": "916dbcbb3f70747c44a77c7bcd40155683ae19c65e1c03b4aa3499c5328201f1"
   }
  }
 },
 "nbformat": 4,
 "nbformat_minor": 2
}
