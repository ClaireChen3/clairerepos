{
 "cells": [
  {
   "cell_type": "markdown",
   "metadata": {},
   "source": [
    "# Code.org Quiz\n",
    "\n",
    "- toc: true \n",
    "- badges: true\n",
    "- comments: true \n",
    "- categories: [markdown, week 3]"
   ]
  },
  {
   "cell_type": "markdown",
   "metadata": {},
   "source": [
    "- Quiz Topic: Guess the album name by the album cover\n",
    "- Quiz Questions: multiple choice and free response, 4 questions\n",
    "- Quiz layout: picture of albums and the multiple choice answers below\n",
    "- Special ideas: normal and hard mode, add sound add hints, add gifs\n",
    "- albums to use\n",
    "    - Renaissance\n",
    "    - Abbey Road\n",
    "    - Anti\n",
    "    - After Hours"
   ]
  }
 ],
 "metadata": {
  "kernelspec": {
   "display_name": "Python 3.8.10 64-bit",
   "language": "python",
   "name": "python3"
  },
  "language_info": {
   "name": "python",
   "version": "3.8.10"
  },
  "orig_nbformat": 4,
  "vscode": {
   "interpreter": {
    "hash": "916dbcbb3f70747c44a77c7bcd40155683ae19c65e1c03b4aa3499c5328201f1"
   }
  }
 },
 "nbformat": 4,
 "nbformat_minor": 2
}
