{
 "cells": [
  {
   "cell_type": "markdown",
   "metadata": {},
   "source": [
    "# Creative Performance Task Outline\n",
    "\n",
    "- toc: true \n",
    "- badges: true\n",
    "- comments: true \n",
    "- categories: [markdown, week 3]"
   ]
  },
  {
   "cell_type": "markdown",
   "metadata": {},
   "source": [
    "## Ideas: \n",
    "- make an online recipe book\n",
    "- make a jewelry portfolio\n",
    "\n",
    "- ### Recipe book\n",
    "- make a blog like page with posts about every recipe I've tried\n",
    "    - the ingredients\n",
    "    - the direction\n",
    "    - my personal rating\n",
    "    - difficulty level\n",
    "    - breakfast, lunch dinner, snack?\n",
    "- try to make flipable pages online like an ebook \n",
    "- add videos and pictures and tips on how to make it\n",
    "\n",
    "- ### Make a jewelry portfolio\n",
    "- for my online etsy shop and also my shop's social media\n",
    "    - pictures of all the pieces I've created\n",
    "    - availability?\n",
    "    - customizable?\n",
    "    - price if available\n",
    "    - color, theme, length, style, \n",
    "    "
   ]
  }
 ],
 "metadata": {
  "kernelspec": {
   "display_name": "Python 3.8.10 64-bit",
   "language": "python",
   "name": "python3"
  },
  "language_info": {
   "name": "python",
   "version": "3.8.10"
  },
  "orig_nbformat": 4,
  "vscode": {
   "interpreter": {
    "hash": "916dbcbb3f70747c44a77c7bcd40155683ae19c65e1c03b4aa3499c5328201f1"
   }
  }
 },
 "nbformat": 4,
 "nbformat_minor": 2
}
