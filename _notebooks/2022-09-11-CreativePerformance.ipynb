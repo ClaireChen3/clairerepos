{
 "cells": [
  {
   "cell_type": "markdown",
   "metadata": {},
   "source": [
    "# Creative Performance Task Outline\n",
    "\n",
    "- toc: true \n",
    "- badges: true\n",
    "- comments: true \n",
    "- categories: [markdown, week 3]"
   ]
  },
  {
   "cell_type": "markdown",
   "metadata": {},
   "source": [
    "## Ideas: \n",
    "- make an online recipe book\n",
    "- make a jewelry portfolio\n",
    "\n",
    "### Program Purpose and Function\n",
    "- A blog-like program that has posts of each recipe\n",
    "### Data Abstraction\n",
    "- Make \"flippable pages\" allow user to be able to flip through the posts like pages in a recipe book \n",
    "    - TOC?\n",
    "    - Audio option?\n",
    "    - Video instructions?\n",
    "### Managing Complexity\n",
    "- use lists within  code \n",
    "### Procedural Abstraction\n",
    "- code for flippable pages (haven't figured it out yet) will help users navigate through the recipe book easily\n",
    "### Algorithm Implementation\n",
    "- make libraries so you can call things out easily and keep code organized\n",
    "  "
   ]
  }
 ],
 "metadata": {
  "kernelspec": {
   "display_name": "Python 3.8.10 64-bit",
   "language": "python",
   "name": "python3"
  },
  "language_info": {
   "name": "python",
   "version": "3.8.10"
  },
  "orig_nbformat": 4,
  "vscode": {
   "interpreter": {
    "hash": "916dbcbb3f70747c44a77c7bcd40155683ae19c65e1c03b4aa3499c5328201f1"
   }
  }
 },
 "nbformat": 4,
 "nbformat_minor": 2
}
