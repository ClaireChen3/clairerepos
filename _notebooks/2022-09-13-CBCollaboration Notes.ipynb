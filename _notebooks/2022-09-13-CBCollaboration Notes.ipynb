{
 "cells": [
  {
   "cell_type": "markdown",
   "metadata": {},
   "source": [
    "# Creative Performance Task Outline\n",
    "\n",
    "- toc: true \n",
    "- badges: true\n",
    "- comments: true \n",
    "- categories: [markdown, week 4]\n",
    "\n",
    "### Video 1:\n",
    "- companies like google collaborate to create a cohesive company (ios, android, art, social media)\n",
    "- collaboration helps us to compare or combine our ideas to \n",
    "- collaborating produces a computing innovation that reflects the diversity of talents and perspectives of those who designed it\n",
    "produce the best result.\n",
    "### Video 2: \n",
    "ways to collaborate in APCSP\n",
    "- pair programming\n",
    "    - one driver(types the program)\n",
    "    - one observer(reviews drivers code)\n",
    "- Think, Pair, Share\n",
    "    - think about a problem alone\n",
    "    - share with partner (help one another, compare)\n",
    "    - share with class/others\n",
    "- leave comments in code(\\\\)\n",
    "    - to communicate to yourself and others what the code is doing\n",
    "    - clarify function of the code\n",
    "- get feedback from others"
   ]
  }
 ],
 "metadata": {
  "language_info": {
   "name": "python"
  },
  "orig_nbformat": 4
 },
 "nbformat": 4,
 "nbformat_minor": 2
}
