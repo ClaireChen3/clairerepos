{
 "cells": [
  {
   "cell_type": "markdown",
   "metadata": {},
   "source": [
    "# Collaboration Notes\n",
    "\n",
    "- toc: true \n",
    "- badges: true\n",
    "- comments: true \n",
    "- categories: [markdown, week 4]"
   ]
  },
  {
   "cell_type": "markdown",
   "metadata": {},
   "source": [
    "\n",
    "### Video 1:\n",
    "- companies like google collaborate to create a cohesive company (ios, android, art, social media)\n",
    "- collaboration helps us to compare or combine our ideas to \n",
    "- collaborating produces a computing innovation that reflects the diversity of talents and perspectives of those who designed it\n",
    "produce the best result.\n",
    "### Video 2: \n",
    "ways to collaborate in APCSP\n",
    "- pair programming\n",
    "    - one driver(types the program)\n",
    "    - one observer(reviews drivers code)\n",
    "- Think, Pair, Share\n",
    "    - think about a problem alone\n",
    "    - share with partner (help one another, compare)\n",
    "    - share with class/others\n",
    "- leave comments in code(\\\\)\n",
    "    - to communicate to yourself and others what the code is doing\n",
    "    - clarify function of the code\n",
    "- get feedback from others\n",
    "![](https://github.com/ClaireChen3/clairerepos/blob/master/images/Screenshot%202022-09-13%20161400.jpg)"
   ]
  }
 ],
 "metadata": {
  "kernelspec": {
   "display_name": "Python 3.8.10 64-bit",
   "language": "python",
   "name": "python3"
  },
  "language_info": {
   "name": "python",
   "version": "3.8.10"
  },
  "orig_nbformat": 4,
  "vscode": {
   "interpreter": {
    "hash": "916dbcbb3f70747c44a77c7bcd40155683ae19c65e1c03b4aa3499c5328201f1"
   }
  }
 },
 "nbformat": 4,
 "nbformat_minor": 2
}
