{
 "cells": [
  {
   "cell_type": "markdown",
   "metadata": {},
   "source": [
    "# Psychology and the Good Life Video Notes\n",
    "\n",
    "- toc: true \n",
    "- badges: true\n",
    "- comments: true \n",
    "- categories: [markdown, week 4]\n",
    "\n",
    "### Notes\n",
    "- 1 of every 4 students chose to take the psychology and the good life class (there was a need for it)\n",
    "- about 50% of happiness is controlled by genes\n",
    "- people think to be happy, you have to star new, and get rid of all the bad stuff\n",
    "- ex. you assume winning the lottery will make you happy, but it doesn't\n",
    "- life circumstances aren't the whole picture to your happiness\n",
    "- permanent changes that require daily effort\n",
    "- you can read all these studies, but if you don't do the work, nothing will happen\n",
    "- knowing is half the battle is a fallacy, putting in the work to go against your intuitions of what makes you happy\n",
    "- our mind thinks if we could just get the thing that we (money, a bigger house, nicer car) want we will be happy, but you just end up wanting more\n",
    "\n",
    "### How to be happy\n",
    "- make time for social connections (spend less time alone, with friends, family, even strangers)\n",
    "- helping others (helps you)\n",
    "    - give time spend money on others\n",
    "    - study found the amount of money given to others does not effect happiness\n",
    "    - we think we want to treat ourselves, but treating others helps us more that we think\n",
    "- make time for gratitude everyday\n",
    "    - most people talk about the hassles in life in their conversations, but talking about what we're grateful for in life makes you more happy\n",
    "    - you can also write it down\n",
    "    - can express gratitude to the people that you are grateful for (social connection + gratitude\n",
    "- healthy practices matter\n",
    "    - exercise (1/2hr of exercise is equal to the effect of taking zoloft)\n",
    "    -  forget how cardio can also improve mental health, not just physical health\n",
    "    - sleep is important for mood \n",
    "- take time to be in present\n",
    "    - not on your phone \n",
    "    - notice how you're feeling (temperature, breath)\n",
    "    - no matter what you're mind wandering, your well being is less good then when you're in the present moment, even if you're doing something you don't want to do\n",
    "    - use savoring, ex. when eating  ice cream, don't go on you're phone while eating it, pay attention to what and how you're feeling while eating it\n",
    "- to become wealthy in terms of time\n",
    "    - don't be willing to sacrifice time for money even if you are busy\n",
    "\n",
    "### Connect to CSP!\n",
    "-  the glitches in our mind are like the things we think will make us happy, but in reality don't \n",
    "-  by watching this video I was able to debug my brain from these errors and learn how to actually be happier\n",
    "-  what I am grateful for today: I am grateful for air conditioning because it has been so hot recently.\n",
    "\n",
    "\n"
   ]
  }
 ],
 "metadata": {
  "kernelspec": {
   "display_name": "Python 3.9.12 ('base')",
   "language": "python",
   "name": "python3"
  },
  "language_info": {
   "name": "python",
   "version": "3.9.12"
  },
  "orig_nbformat": 4,
  "vscode": {
   "interpreter": {
    "hash": "ab0e85a9c08cdbd4c52a9b79d1ef72a54d0123135181235dd24754d6bea1e8b9"
   }
  }
 },
 "nbformat": 4,
 "nbformat_minor": 2
}
