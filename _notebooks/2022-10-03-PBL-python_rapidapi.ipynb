{
 "cells": [
  {
   "cell_type": "markdown",
   "metadata": {},
   "source": [
    "# Application Programming Interface (API)  \n",
    "- title: Python RapidAPI\n",
    "- toc: true\n",
    "- permalink: /techtalk/rapidapi\n",
    "- categories: [week 8]"
   ]
  },
  {
   "cell_type": "markdown",
   "metadata": {},
   "source": [
    "### Python, RapidAPI Terms\n",
    "> APIs and tooling like Jupyter docs allows many opportunities in fields like Data Science.  As more and more developers use APIs, they build standards in how you setup a client, send requests and receive information..."
   ]
  },
  {
   "cell_type": "markdown",
   "metadata": {},
   "source": [
    "### Covid19 RapidAPI Example\n",
    "> To begin the API journey.  You need to find an API provider.  \n",
    "\n",
    "- RapidAPI is a great option.  You must setup and account, but there are many free options.\n",
    "- Goto this page for starters, the [Corona virus World and India data](https://rapidapi.com/spamakashrajtech/api/corona-virus-world-and-india-data/)\n",
    "- Under Code Snippets pick Python - Requests\n",
    "\n",
    "RapidAPI, you will select Python Requests type of code to work with you Notebook.\n",
    "- The url is the endpoint to which the API is directed\n",
    "- The headers is a dictionary data structure to send special messaging to the endpoint \n",
    "- The requests.request() python function is used to send a request and retrieve their responses\n",
    "- The response variable receives result of of the request in JSON text\n",
    "\n",
    "Next step, is to format the response according to your data science needs"
   ]
  },
  {
   "cell_type": "code",
   "execution_count": 16,
   "metadata": {},
   "outputs": [
    {
     "name": "stdout",
     "output_type": "stream",
     "text": [
      "{\"data\":{\"detections\":[[{\"language\":\"en\",\"isReliable\":false,\"confidence\":1}]]}}\n",
      " * Serving Flask app \"__main__\" (lazy loading)\n",
      " * Environment: production\n",
      "\u001b[31m   WARNING: This is a development server. Do not use it in a production deployment.\u001b[0m\n",
      "\u001b[2m   Use a production WSGI server instead.\u001b[0m\n",
      " * Debug mode: on\n"
     ]
    },
    {
     "name": "stderr",
     "output_type": "stream",
     "text": [
      " * Running on http://127.0.0.1:5000/ (Press CTRL+C to quit)\n",
      " * Restarting with watchdog (inotify)\n",
      "/home/claire/anaconda3/lib/python3.9/site-packages/traitlets/traitlets.py:2202: FutureWarning: Supporting extra quotes around strings is deprecated in traitlets 5.0. You can use 'hmac-sha256' instead of '\"hmac-sha256\"' if you require traitlets >=5.\n",
      "  warn(\n",
      "/home/claire/anaconda3/lib/python3.9/site-packages/traitlets/traitlets.py:2157: FutureWarning: Supporting extra quotes around Bytes is deprecated in traitlets 5.0. Use 'd2543842-becb-4389-ae60-cc1035d3c835' instead of 'b\"d2543842-becb-4389-ae60-cc1035d3c835\"'.\n",
      "  warn(\n",
      "Traceback (most recent call last):\n",
      "  File \"/home/claire/anaconda3/lib/python3.9/site-packages/ipykernel_launcher.py\", line 16, in <module>\n",
      "    app.launch_new_instance()\n",
      "  File \"/home/claire/anaconda3/lib/python3.9/site-packages/traitlets/config/application.py\", line 845, in launch_instance\n",
      "    app.initialize(argv)\n",
      "  File \"/home/claire/anaconda3/lib/python3.9/site-packages/traitlets/config/application.py\", line 88, in inner\n",
      "    return method(app, *args, **kwargs)\n",
      "  File \"/home/claire/anaconda3/lib/python3.9/site-packages/ipykernel/kernelapp.py\", line 632, in initialize\n",
      "    self.init_sockets()\n",
      "  File \"/home/claire/anaconda3/lib/python3.9/site-packages/ipykernel/kernelapp.py\", line 282, in init_sockets\n",
      "    self.shell_port = self._bind_socket(self.shell_socket, self.shell_port)\n",
      "  File \"/home/claire/anaconda3/lib/python3.9/site-packages/ipykernel/kernelapp.py\", line 229, in _bind_socket\n",
      "    return self._try_bind_socket(s, port)\n",
      "  File \"/home/claire/anaconda3/lib/python3.9/site-packages/ipykernel/kernelapp.py\", line 205, in _try_bind_socket\n",
      "    s.bind(\"tcp://%s:%i\" % (self.ip, port))\n",
      "  File \"/home/claire/anaconda3/lib/python3.9/site-packages/zmq/sugar/socket.py\", line 214, in bind\n",
      "    super().bind(addr)\n",
      "  File \"zmq/backend/cython/socket.pyx\", line 540, in zmq.backend.cython.socket.Socket.bind\n",
      "  File \"zmq/backend/cython/checkrc.pxd\", line 28, in zmq.backend.cython.checkrc._check_rc\n",
      "zmq.error.ZMQError: Address already in use\n"
     ]
    },
    {
     "ename": "SystemExit",
     "evalue": "1",
     "output_type": "error",
     "traceback": [
      "An exception has occurred, use %tb to see the full traceback.\n",
      "\u001b[0;31mSystemExit\u001b[0m\u001b[0;31m:\u001b[0m 1\n"
     ]
    },
    {
     "name": "stderr",
     "output_type": "stream",
     "text": [
      "/home/claire/anaconda3/lib/python3.9/site-packages/IPython/core/interactiveshell.py:3377: UserWarning: To exit: use 'exit', 'quit', or Ctrl-D.\n",
      "  warn(\"To exit: use 'exit', 'quit', or Ctrl-D.\", stacklevel=1)\n"
     ]
    }
   ],
   "source": [
    "\"\"\"\n",
    "Requests is a HTTP library for the Python programming language. \n",
    "The goal of the project is to make HTTP requests simpler and more human-friendly. \n",
    "\"\"\"\n",
    "import requests\n",
    "\n",
    "url = \"https://google-translate1.p.rapidapi.com/language/translate/v2/detect\"\n",
    "\n",
    "payload = \"q=English%20is%20hard%2C%20but%20detectably%20so\"\n",
    "headers = {\n",
    "\t\"content-type\": \"application/x-www-form-urlencoded\",\n",
    "\t\"Accept-Encoding\": \"application/gzip\",\n",
    "\t\"X-RapidAPI-Key\": \"cfb16a4106mshdbb9be413abfd1dp1aef68jsn13566184f01a\",\n",
    "\t\"X-RapidAPI-Host\": \"google-translate1.p.rapidapi.com\"\n",
    "}\n",
    "\n",
    "response = requests.request(\"POST\", url, data=payload, headers=headers)\n",
    "\n",
    "print(response.text)\n",
    "from flask import Flask, request\n",
    "import requests\n",
    " \n",
    "app = Flask(__name__)\n",
    " \n",
    "DETECT_BASE_URL = 'https://google-translate1.p.rapidapi.com/language/translate/v2/detect'\n",
    "TRANSLATE_BASE_URL = 'https://google-translate1.p.rapidapi.com/language/translate/v2'\n",
    "HEADERS = {\n",
    "   'x-rapidapi-host': \"google-translate1.p.rapidapi.com\",\n",
    "   'x-rapidapi-key': \"YOUR-VERY-OWN-RAPID-API-KEY-GOES-HERE\",\n",
    "   'content-type': \"application/x-www-form-urlencoded\"\n",
    "   }\n",
    "\n",
    "@app.route('/')\n",
    "def health_check():\n",
    "   return 'Translation Service is up.'\n",
    "@app.route('/detect', methods=['POST'])\n",
    "def detect():\n",
    "   # parse args\n",
    "   text = request.form.get('text')\n",
    " \n",
    "   # url encode text\n",
    "   long_list_of_words = text.split(' ')\n",
    "   url_encoded_text = f\"q={'%20'.join(long_list_of_words)}\"\n",
    " \n",
    "   payload = url_encoded_text\n",
    " \n",
    "   # make the request\n",
    "   r = requests.post(DETECT_BASE_URL, data=payload, headers=HEADERS)\n",
    "  \n",
    "   return r.json()\n",
    "@app.route('/translate', methods=['POST'])\n",
    "def translate():\n",
    "   # parse args\n",
    "   text = request.form.get('text')\n",
    "   target = request.form.get('target')\n",
    " \n",
    "   # url encode text\n",
    "   long_list_of_words = text.split(' ')\n",
    "   url_encoded_text = f\"q={'%20'.join(long_list_of_words)}&target={target}\"\n",
    " \n",
    "   payload = url_encoded_text\n",
    " \n",
    "   r = requests.post(TRANSLATE_BASE_URL, data=payload, headers=HEADERS)\n",
    "  \n",
    "   return r.json()\n",
    " \n",
    " \n",
    "if __name__ == '__main__':\n",
    "   app.run(debug=True)"
   ]
  },
  {
   "cell_type": "markdown",
   "metadata": {},
   "source": [
    "### Digital Coin Example\n",
    "> This example provides digital coin feedback (ie Bitcoin).  It include popularity, price, symbols, etc.\n",
    "- A valid X-RapidAPI-Key is required.  Look in code for link to RapidAPI page\n",
    "- Read all comments in code for further guidance"
   ]
  },
  {
   "cell_type": "code",
   "execution_count": 4,
   "metadata": {},
   "outputs": [
    {
     "name": "stdout",
     "output_type": "stream",
     "text": [
      "{\"message\":\"You are not subscribed to this API.\"}\n"
     ]
    }
   ],
   "source": [
    "# Request Digital Coin\n",
    "# RapidAPI page https://rapidapi.com/Coinranking/api/coinranking1/\n",
    "\n",
    "# Begin Rapid API Code\n",
    "import requests\n",
    "\n",
    "url = \"https://coinranking1.p.rapidapi.com/coins\"\n",
    "querystring = {\"referenceCurrencyUuid\":\"yhjMzLPhuIDl\",\"timePeriod\":\"24h\",\"tiers[0]\":\"1\",\"orderBy\":\"marketCap\",\"orderDirection\":\"desc\",\"limit\":\"50\",\"offset\":\"0\"}\n",
    "headers = {\n",
    "\t\"X-RapidAPI-Key\": \"jcmbea0fa2ff5msh7f14bf69be38ca6p175482jsn6c4988114560\",  # place your key here\n",
    "\t\"X-RapidAPI-Host\": \"coinranking1.p.rapidapi.com\"\n",
    "}\n",
    "\n",
    "response = requests.request(\"GET\", url, headers=headers, params=querystring)\n",
    "print(response.text)\n",
    "# End Rapid API Code\n",
    "json = response.json()  # convert response to python json object\n",
    "\n",
    "# Observe data from an API.  This is how data transports over the internet in a \"JSON\" text form\n",
    "# - The JSON \"text\" is formed in dictionary {} and list [] divisions\n",
    "# - To read the result, Data Scientist of  Developer converts JSON into human readable form\n",
    "# - Review the first line, look for the keys --  \"status\" and \"data\""
   ]
  },
  {
   "cell_type": "markdown",
   "metadata": {},
   "source": [
    "### Formatting Digital Coin example\n",
    "> JSON text transferred from the API in the previous cell was converted to a Python Dictionary called json.  The \"coins\" in the dictionary contain a list of the most relevant data.   Look at the code and comments to see how the original text is turned into something understandable.   Additionally, there are error check to make sure we are starting the code with the expectation that the API was run correctly. "
   ]
  },
  {
   "cell_type": "code",
   "execution_count": 5,
   "metadata": {},
   "outputs": [
    {
     "name": "stdout",
     "output_type": "stream",
     "text": [
      "JSON data is Python type: <class 'dict'>\n",
      "Did you insert a valid key in X-RapidAPI-Key of API cell above?\n",
      "{'message': 'You are not subscribed to this API.'}\n"
     ]
    }
   ],
   "source": [
    "\"\"\"\n",
    "This cell is dependent on valid run of API above.\n",
    "- try and except code is making sure \"json\" was properly run above\n",
    "- inside second try is code that is used to process Coin API data\n",
    "\n",
    "Note.  Run this cell repeatedly to format data without re-activating API\n",
    "\"\"\"\n",
    "\n",
    "try:\n",
    "    print(\"JSON data is Python type: \" + str(type(json)))\n",
    "    try:\n",
    "        # Extracting Coins JSON status, if the API worked\n",
    "        status = json.get('status')\n",
    "        print(\"API status: \" + status)\n",
    "        print()\n",
    "        \n",
    "        # Extracting Coins JSON data, data about the coins\n",
    "        data = json.get('data')\n",
    "        \n",
    "        # Procedural abstraction of Print code for coins\n",
    "        def print_coin(c):\n",
    "            print(c[\"symbol\"], c[\"price\"])\n",
    "            print(\"Icon Url: \" + c[\"iconUrl\"])\n",
    "            print(\"Rank Url: \" + c[\"coinrankingUrl\"])\n",
    "\n",
    "        # Coins data was observed to be a list\n",
    "        for coin in data['coins']:\n",
    "            print_coin(coin)\n",
    "            print()\n",
    "            \n",
    "    except:\n",
    "        print(\"Did you insert a valid key in X-RapidAPI-Key of API cell above?\")\n",
    "        print(json)\n",
    "except:\n",
    "    print(\"This cell is dependent on running API call in cell above!\")"
   ]
  },
  {
   "cell_type": "markdown",
   "metadata": {},
   "source": [
    "### Go deeper into APIs\n",
    "> Web Development vs Jupyter Notebook.  A notebook is certainly a great place to start.  But, for your end of Trimester project we want you to build the skill to reference and use APIs within your Project.  Here are some resources to get you started with this journey.\n",
    "\n",
    "- In the Nighthawk Coders APCSP you can find an Overview and Examples using APIs:  [APCSP APIs menu](https://nighthawkcoders.github.io/APCSP/api/overview)\n",
    "- Using Covid RapidAPI\n",
    "    - JavaScript frontend API code in APCSP Fastpages GitHub repo: [https://github.com/nighthawkcoders/APCSP/blob/master/_posts/2022-07-10-PBL-rapidapi.md](https://github.com/nighthawkcoders/APCSP/blob/master/_posts/2022-07-10-PBL-rapidapi.md)\n",
    "- Making a Jokes API (this will next API tech talk)\n",
    "    - Frontend. JavaScript frontend code in APCSP fastpages GitHub repo: [https://github.com/nighthawkcoders/APCSP/blob/master/_posts/2022-07-10-PBL-jokes.md](https://github.com/nighthawkcoders/APCSP/blob/master/_posts/2022-07-10-PBL-jokes.md)\n",
    "    - Backend Endpoints.  Python code that allows Frontend access: [https://github.com/nighthawkcoders/flask_portfolio/blob/main/api.py](https://github.com/nighthawkcoders/flask_portfolio/blob/main/api.py)\n",
    "    - Backend Jokes Management.  Python code that support Create, Read, Update, Delete (CRUD): [https://github.com/nighthawkcoders/flask_portfolio/blob/main/model_jokes.py](https://github.com/nighthawkcoders/flask_portfolio/blob/main/model_jokes.py)"
   ]
  },
  {
   "cell_type": "markdown",
   "metadata": {},
   "source": [
    "## Hacks\n",
    "> Find and use an API as part of your project.  An API and a little coding logic will be a big step toward getting meaningful data for a project.  There are many API providers, find one that might work for your project to complete this hack. When picking an API you are looking for something that will work with either JavaScript Fetch or Python Request.  Here are some samples, these are not qualified in any way.  \n",
    "- [RapidAPI](https://rapidapi.com/collection/list-of-free-apis)\n",
    "- [GitHub Project](https://github.com/public-apis/public-apis/blob/master/README.md)\n",
    "- [No Key APIs Article](https://nordicapis.com/9-free-public-apis-that-offer-up-some-cool-open-data/)\n",
    "- [Twitter Developer](https://developer.twitter.com/en/docs/twitter-api)\n",
    "- [Google Developer](https://developers.google.com/apis-explorer)\n",
    "- [Reddit Developer](https://www.reddit.com/dev/api/)\n",
    "\n",
    "> Show API and format results in either Web Page or Jupyter Notebook.  Ultimately, I will expect that we do APIs in backend (Python/Flask).  However, for this Hack you can pick your preference.  We will discuss pros and cons in next API tech talk."
   ]
  }
 ],
 "metadata": {
  "kernelspec": {
   "display_name": "Python 3.9.12 ('base')",
   "language": "python",
   "name": "python3"
  },
  "language_info": {
   "codemirror_mode": {
    "name": "ipython",
    "version": 3
   },
   "file_extension": ".py",
   "mimetype": "text/x-python",
   "name": "python",
   "nbconvert_exporter": "python",
   "pygments_lexer": "ipython3",
   "version": "3.9.12"
  },
  "orig_nbformat": 4,
  "vscode": {
   "interpreter": {
    "hash": "ab0e85a9c08cdbd4c52a9b79d1ef72a54d0123135181235dd24754d6bea1e8b9"
   }
  }
 },
 "nbformat": 4,
 "nbformat_minor": 2
}
