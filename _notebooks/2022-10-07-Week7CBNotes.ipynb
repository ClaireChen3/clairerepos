{
 "cells": [
  {
   "cell_type": "markdown",
   "metadata": {},
   "source": [
    "# Week 7 College Board Notes\n",
    "- toc: true \n",
    "- badges: true\n",
    "- comments: true \n",
    "- categories: [markdown, week 7]"
   ]
  },
  {
   "cell_type": "markdown",
   "metadata": {},
   "source": [
    "- programmers run into a lot of errors\n",
    "    - it is expected so we need to know how to solve\n",
    "- Types of errors:\n",
    "    - logic errors:\n",
    "        - mistake in algorithm that causes unexpected output\n",
    "    - syntax errors:\n",
    "        - typo in code (doesn't follow rule in language)\n",
    "        - forget to add (\"\",:{}, etc)\n",
    "    - run-time error\n",
    "        - makes a program fail while running\n",
    "        - aka bug\n",
    "        - runs initially, but can't complete process\n",
    "        - ex. dividing by 0\n",
    "    - overflow error\n",
    "        - when program is required to calculate something that is outside of range of values.\n",
    "        \n",
    "\n",
    "\n",
    "\n",
    "\n"
   ]
  }
 ],
 "metadata": {
  "kernelspec": {
   "display_name": "Python 3.10.6 64-bit",
   "language": "python",
   "name": "python3"
  },
  "language_info": {
   "name": "python",
   "version": "3.10.6"
  },
  "orig_nbformat": 4,
  "vscode": {
   "interpreter": {
    "hash": "916dbcbb3f70747c44a77c7bcd40155683ae19c65e1c03b4aa3499c5328201f1"
   }
  }
 },
 "nbformat": 4,
 "nbformat_minor": 2
}
