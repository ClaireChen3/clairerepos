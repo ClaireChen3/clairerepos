{
 "cells": [
  {
   "cell_type": "markdown",
   "metadata": {},
   "source": [
    "# Week 7 College Board Notes\n",
    "- toc: true \n",
    "- badges: true\n",
    "- comments: true \n",
    "- categories: [markdown, week 7]"
   ]
  },
  {
   "cell_type": "markdown",
   "metadata": {},
   "source": [
    "- programmers run into a lot of errors\n",
    "    - it is expected so we need to know how to solve\n",
    "- Types of errors:\n",
    "    - logic errors:\n",
    "        - mistake in algorithm that causes unexpected output\n",
    "    - syntax errors:\n",
    "        - typo in code (doesn't follow rule in language)\n",
    "        - forget to add (\"\",:{}, etc)\n",
    "    - run-time error\n",
    "        - makes a program fail while running\n",
    "        - aka bug\n",
    "        - runs initially, but can't complete process\n",
    "        - ex. dividing by 0\n",
    "    - overflow error\n",
    "        - when program is required to calculate something that is outside of range of values.\n",
    "        \n",
    "\n",
    "\n",
    "\n",
    "\n"
   ]
  }
 ],
 "metadata": {
  "kernelspec": {
   "display_name": "Python 3.9.12 ('base')",
   "language": "python",
   "name": "python3"
  },
  "language_info": {
   "name": "python",
   "version": "3.9.12"
  },
  "orig_nbformat": 4,
  "vscode": {
   "interpreter": {
    "hash": "ab0e85a9c08cdbd4c52a9b79d1ef72a54d0123135181235dd24754d6bea1e8b9"
   }
  }
 },
 "nbformat": 4,
 "nbformat_minor": 2
}
