{
 "cells": [
  {
   "cell_type": "markdown",
   "metadata": {},
   "source": [
    "# College Board Internet Notes\n",
    "- toc: true \n",
    "- badges: true\n",
    "- comments: true \n",
    "- categories: [markdown, week 8]"
   ]
  },
  {
   "cell_type": "markdown",
   "metadata": {},
   "source": [
    "### Video 1\n",
    "- computers used to be really big but got progressively smarter\n",
    "- computers send and receive data\n",
    "- computers understand electrons represented by numbers \"talk number\" \n",
    "- we have to translate our information into numbers and packets\n",
    "- packets: small amount of data sent over a network\n",
    "    - packet includes source and destination\n",
    "- creation of computer systems \n",
    "    - computer systems are groups of computing devices and programs working together for a joint purpose\n",
    "- computer network is a group of computing devices that send and receive data\n",
    "- router helps with packet switching (guides message from sender to receiver)\n",
    "    - Packet: message that is broken up into packets and sent in any order\n",
    "- bandwidth: maximum amount of data that can be sent in an amount of time(bits per second)\n",
    "    - the more data the slower it might take to get from sender to receiver (like traffic)\n",
    "\n",
    "### Video 2\n",
    "- computer protocol (rules of the road)\n",
    "- computer protocol models\n",
    "    - OSI\n",
    "    - TCP\n",
    "        - layers you have to go through to communicate (7 layers of protocol)\n",
    "- layer 1: Network Acess layer\n",
    "    - ex. wifi card\n",
    "    - deliver packets from one network interface card (NIC) to another aka \"hop\"\n",
    "- layer 2: Internet Layer Data Transmission\n",
    "    - a packet contains data that is being transimitted and metadata(information for routing messages)\n",
    "    - one device with a certain IP address is sending a message on on that path, they run into routers that help guide them to the IP address of the other device the message is trying to reach\n",
    "- layer 3: Transport Layer\n",
    "    - TCP slower but reliable\n",
    "    - UDP faster but does not guarantee transfers\n",
    "    - computer is sending IP addresses through bits\n",
    "- layer 4: Application Layer\n",
    "    - DNS (domain name service), human language to IP address\n",
    "    - web servers are programs running on machines connected to internet\n",
    "    - www (world wide web) is a network of linked programs and data running over the internet\n",
    "- http is a protocol used by world wide web\n",
    "- routes are flexible\n",
    "- world wide web is not the internet\n",
    "\n",
    "\n"
   ]
  }
 ],
 "metadata": {
  "kernelspec": {
   "display_name": "Python 3.9.12 ('base')",
   "language": "python",
   "name": "python3"
  },
  "language_info": {
   "name": "python",
   "version": "3.9.12"
  },
  "orig_nbformat": 4,
  "vscode": {
   "interpreter": {
    "hash": "ab0e85a9c08cdbd4c52a9b79d1ef72a54d0123135181235dd24754d6bea1e8b9"
   }
  }
 },
 "nbformat": 4,
 "nbformat_minor": 2
}
