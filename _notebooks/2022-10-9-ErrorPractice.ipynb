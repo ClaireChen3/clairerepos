{
 "cells": [
  {
   "cell_type": "markdown",
   "metadata": {},
   "source": [
    "# Identifying and Correcting Errors\n",
    "- toc: true \n",
    "- badges: true\n",
    "- comments: true \n",
    "- categories: [markdown, week 7]"
   ]
  },
  {
   "cell_type": "code",
   "execution_count": 22,
   "metadata": {},
   "outputs": [
    {
     "name": "stdout",
     "output_type": "stream",
     "text": [
      "['a', 'b', 'c', 'd', 'e', 'f', 'g', 'h', 'i', 'j', 'k', 'l', 'm', 'n', 'o', 'p', 'q', 'r', 's', 't', 'u', 'v', 'w', 'x', 'y', 'z']\n",
      "what letter do you want to check?\n",
      "4\n"
     ]
    }
   ],
   "source": [
    "alphabet = \"abcdefghijklmnopqrstuvwxyz\"\n",
    "\n",
    "alphabetList = []\n",
    "\n",
    "for i in alphabet:\n",
    "    alphabetList.append(i)\n",
    "\n",
    "print(alphabetList)\n",
    "\n",
    "print(\"what letter do you want to check?\")\n",
    "\n",
    "letter = input(\"Enter letter: \")\n",
    "if letter == (\"a\"):\n",
    "    print(\"1\")\n",
    "if letter == (\"b\"):\n",
    "    print(\"2\")\n",
    "if letter == (\"c\"):\n",
    "    print(\"3\")\n",
    "if letter == (\"d\"):\n",
    "    print(\"4\")\n",
    "if letter == (\"e\"):\n",
    "    print(\"5\")\n",
    "if letter == (\"f\"):\n",
    "    print(\"6\")\n",
    "if letter == (\"g\"):\n",
    "    print(\"7\")\n",
    "if letter == (\"h\"):\n",
    "    print(\"8\")\n",
    "if letter == (\"i\"):\n",
    "    print(\"9\")\n",
    "if letter == (\"j\"):\n",
    "    print(\"10\")\n",
    "if letter == (\"k\"):\n",
    "    print(\"11\")\n",
    "if letter == (\"l\"):\n",
    "    print(\"12\")\n",
    "if letter == (\"m\"):\n",
    "    print(\"13\")\n",
    "if letter == (\"n\"):\n",
    "    print(\"14\")\n",
    "if letter == (\"o\"):\n",
    "    print(\"15\")\n",
    "if letter == (\"p\"):\n",
    "    print(\"16\")\n",
    "if letter == (\"q\"):\n",
    "    print(\"17\")\n",
    "if letter == (\"r\"):\n",
    "    print(\"18\")\n",
    "if letter == (\"s\"):\n",
    "    print(\"19\")\n",
    "if letter == (\"t\"):\n",
    "    print(\"20\")\n",
    "if letter == (\"u\"):\n",
    "    print(\"21\")\n",
    "if letter == (\"v\"):\n",
    "    print(\"22\")\n",
    "if letter == (\"w\"):\n",
    "    print(\"23\")\n",
    "if letter == (\"x\"):\n",
    "    print(\"24\")\n",
    "if letter == (\"y\"):\n",
    "    print(\"25\")\n",
    "if letter == (\"z\"):\n",
    "    print(\"26\")"
   ]
  }
 ],
 "metadata": {
  "kernelspec": {
   "display_name": "Python 3.9.12 ('base')",
   "language": "python",
   "name": "python3"
  },
  "language_info": {
   "codemirror_mode": {
    "name": "ipython",
    "version": 3
   },
   "file_extension": ".py",
   "mimetype": "text/x-python",
   "name": "python",
   "nbconvert_exporter": "python",
   "pygments_lexer": "ipython3",
   "version": "3.9.12"
  },
  "orig_nbformat": 4,
  "vscode": {
   "interpreter": {
    "hash": "ab0e85a9c08cdbd4c52a9b79d1ef72a54d0123135181235dd24754d6bea1e8b9"
   }
  }
 },
 "nbformat": 4,
 "nbformat_minor": 2
}
