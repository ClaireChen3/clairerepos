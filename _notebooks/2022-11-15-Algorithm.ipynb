{
 "cells": [
  {
   "cell_type": "markdown",
   "metadata": {},
   "source": [
    "# Algorithms\n",
    "- toc: true \n",
    "- badges: true\n",
    "- comments: true \n",
    "- categories: [markdown, week 8]"
   ]
  },
  {
   "cell_type": "markdown",
   "metadata": {},
   "source": [
    "#### A little review on Algorithms:\n",
    "what are the three components of an algorithm?\n",
    "- sel______\n",
    "- seq______\n",
    "- it_______"
   ]
  },
  {
   "cell_type": "markdown",
   "metadata": {},
   "source": [
    "Today we will be looking at algorithms from another standpoint.\n",
    "<br>Q: How many ways are there to peel a banana? Is the result the same?\n"
   ]
  },
  {
   "cell_type": "markdown",
   "metadata": {},
   "source": [
    "### Main Idea 1:\n",
    "#### Algorithms can be written in different ways and still do the same thing\n",
    "- However, Algorithms that look similar might not always have the same result\n",
    "- Different algorithms can be used to solve the same problem"
   ]
  },
  {
   "cell_type": "markdown",
   "metadata": {},
   "source": [
    "### Examples!"
   ]
  },
  {
   "cell_type": "markdown",
   "metadata": {},
   "source": [
    "The goal with the two algorithms below is to show \"Wow! Good job!\" when you get an A and show \"Nice!\" when you get a B or C (pass), if you don't pass (lower than 70) it will show \"Do Better\""
   ]
  },
  {
   "cell_type": "code",
   "execution_count": 11,
   "metadata": {},
   "outputs": [
    {
     "name": "stdout",
     "output_type": "stream",
     "text": [
      "What Grade Did You Get?\n",
      "Nice!\n"
     ]
    }
   ],
   "source": [
    "print(\"What Grade Did You Get?\")\n",
    "grade = int(input(\"Enter Grade:\"))\n",
    "if grade >= 90:\n",
    "        print(\"Wow! Good job!\")\n",
    "if 70 <= grade < 90:\n",
    "        print(\"Nice!\")\n",
    "elif grade < 70:\n",
    "        print(\"Do Better\")"
   ]
  },
  {
   "cell_type": "markdown",
   "metadata": {},
   "source": [
    "yay! it worked! Lets look at the next one. Do you notice any differences? Do you think this algorithm will still achieve the same goal? If not, what is the flaw?"
   ]
  },
  {
   "cell_type": "code",
   "execution_count": 33,
   "metadata": {},
   "outputs": [
    {
     "name": "stdout",
     "output_type": "stream",
     "text": [
      "What Grade Did You Get?\n"
     ]
    }
   ],
   "source": [
    "print(\"What Grade Did You Get?\")\n",
    "grade = int(input(\"Enter Grade:\"))\n",
    "if grade >= 90:\n",
    "        print(\"Wow! Good job!\")\n",
    "elif 70 < grade < 90:\n",
    "        print(\"Nice!\")\n",
    "elif grade < 70:\n",
    "        print(\"Do Better\")"
   ]
  },
  {
   "cell_type": "markdown",
   "metadata": {},
   "source": [
    "#### So, why is this important? Why are we even doing this?\n",
    "when 2 algorithms look extremely similar, it is easy to assume they do the same thing. However, that is not the case and we have learn how to notice small differences in code and pretty much debug.\n",
    "<br>- just know that codes that look similar don't always produce the same things:)"
   ]
  },
  {
   "cell_type": "markdown",
   "metadata": {},
   "source": [
    "#### Real-life situation (Storytime)\n",
    "Tommy and Billy are working on solving the same issue with an algorithm<br>\n",
    "Tommy creates a functioning code and yells \"I did it!\"<br>\n",
    "He looks over at his friend Billy which is having a bit of trouble and he offers help<br>\n",
    "However, Billy's code looks basically the same! which confuses them<br>\n",
    "Then they remeber that they were taught that algorithms that look similar don't always have the same results and they collaborate to do further investigation:)"
   ]
  },
  {
   "cell_type": "markdown",
   "metadata": {},
   "source": [
    "Now, without running, investigate the algorithm below. This one looks different. Do you thing it will still achieve the same goal as above?"
   ]
  },
  {
   "cell_type": "code",
   "execution_count": 9,
   "metadata": {},
   "outputs": [
    {
     "name": "stdout",
     "output_type": "stream",
     "text": [
      "What Grade Did You Get?\n",
      "Do Better\n"
     ]
    }
   ],
   "source": [
    "print(\"What Grade Did You Get?\")\n",
    "grade = int(input(\"Enter Grade:\"))\n",
    "A = grade >= 90\n",
    "B = 70 <= grade < 90\n",
    "C = grade < 70\n",
    "if A:\n",
    "        print(\"Wow! Good job!\")\n",
    "elif B:\n",
    "        print(\"Nice!\")\n",
    "elif C:\n",
    "        print(\"Do Better\")"
   ]
  },
  {
   "cell_type": "markdown",
   "metadata": {},
   "source": [
    "Why is this important?<br>\n",
    "When collaborating or working on group projects, two people might come up with two different ways to solve a problem, and that happens a lot. \n",
    "- know that same goal can be achieved in many ways (the possibilities are endless)\n",
    "- make notes in you code! (explain how it works to others or you future self)"
   ]
  },
  {
   "cell_type": "markdown",
   "metadata": {},
   "source": [
    "#### Hacks:\n",
    "Make your own version of this!\n",
    "<br>requirements: \n",
    "- main goal of algorithm \n",
    "- main/base algorithm (ideal algorithm)\n",
    "- an algorithm that visual looks like the first one but is flawed, has a different result, or both\n",
    "    - explain the flaw either in notes of your code or in a markdown\n",
    "- an algorithm that looks very different from first algorithm but has some result/ solves the same problem\n",
    "    - explanation/ comparison of this algorithm with the first one\n",
    "\n",
    "<br>The Algorithms don't have to be super complicated! But it should be complex enough to show a good understanding of this lesson as well as previous ones\n",
    "\n",
    "<br>Scoring Rubric:\n",
    "- 0.05 for an interesting goal\n",
    "- 0.05 for a well completed main algorithm\n",
    "- 0.05 for algorithm that looks the same but is different\n",
    "- 0.05 for algorithm that looks different but is the same\n",
    "- 0.05 for explanation of both algorithms above\n",
    "- total: 0.25 <br>\n",
    "\n",
    "#### Extra things to add to notes:)\n",
    "<br>\n",
    "- why having this understanding of algorithms is important to you as a coder\n"
   ]
  }
 ],
 "metadata": {
  "kernelspec": {
   "display_name": "Python 3.10.6 64-bit",
   "language": "python",
   "name": "python3"
  },
  "language_info": {
   "codemirror_mode": {
    "name": "ipython",
    "version": 3
   },
   "file_extension": ".py",
   "mimetype": "text/x-python",
   "name": "python",
   "nbconvert_exporter": "python",
   "pygments_lexer": "ipython3",
   "version": "3.10.6"
  },
  "orig_nbformat": 4,
  "vscode": {
   "interpreter": {
    "hash": "916dbcbb3f70747c44a77c7bcd40155683ae19c65e1c03b4aa3499c5328201f1"
   }
  }
 },
 "nbformat": 4,
 "nbformat_minor": 2
}
