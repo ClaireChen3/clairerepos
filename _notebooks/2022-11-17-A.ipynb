{
 "cells": [
  {
   "cell_type": "markdown",
   "metadata": {},
   "source": [
    "# Tri 2 Cumulative Notes\n",
    "- toc: true \n",
    "- badges: true\n",
    "- comments: true \n",
    "- categories: [markdown, week 13]"
   ]
  },
  {
   "cell_type": "markdown",
   "metadata": {},
   "source": [
    "meta data \n",
    "- ex. name of a person\n",
    "- meta means: kind of, sort of, like\n",
    "- data about the data\n",
    "- front matter (title description)"
   ]
  },
  {
   "cell_type": "markdown",
   "metadata": {},
   "source": [
    "liquid code\n",
    "- in html\n",
    "- on csp exam all indices start with 1"
   ]
  },
  {
   "cell_type": "markdown",
   "metadata": {},
   "source": [
    "pre processing step in actions before goes into browser to generate liquid to html code"
   ]
  }
 ],
 "metadata": {
  "kernelspec": {
   "display_name": "Python 3.9.12 ('base')",
   "language": "python",
   "name": "python3"
  },
  "language_info": {
   "name": "python",
   "version": "3.9.12"
  },
  "orig_nbformat": 4,
  "vscode": {
   "interpreter": {
    "hash": "ab0e85a9c08cdbd4c52a9b79d1ef72a54d0123135181235dd24754d6bea1e8b9"
   }
  }
 },
 "nbformat": 4,
 "nbformat_minor": 2
}
