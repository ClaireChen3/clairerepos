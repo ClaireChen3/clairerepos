{
 "cells": [
  {
   "cell_type": "markdown",
   "metadata": {},
   "source": [
    "# Algorithm College Board Notes\n",
    "- toc: true \n",
    "- badges: true\n",
    "- comments: true \n",
    "- categories: [markdown, week 13]"
   ]
  },
  {
   "cell_type": "markdown",
   "metadata": {},
   "source": [
    "#### 3.9 Video 1\n",
    "What I need to cover in this lesson:\n",
    "- Algorithms can be written in different ways and still do the same thing\n",
    "- However, Algorithms that look similar might not always have the same result\n",
    "- Different algorithms can be used to solve the same problem\n",
    "- Some conditional statements can be written as equivalent boolean expressions"
   ]
  },
  {
   "cell_type": "markdown",
   "metadata": {},
   "source": [
    "- something as minor as writing a > instead of a >= can change the result of an entire algorithm (differentiate 2 algorithms)\n",
    "    - create two algorithms that look similar but display different results for example\n",
    "    - assign fixing one of the algorithms to have both results be the same for homework\n",
    "- if else conditionals can be replaced by boolean expression\n",
    "    - create an if else statement and two boolean expressions to go with it (one that has the same result as the if else statement and one that doesn't)\n",
    "    - assigning blogging about which boolean expression can replace the if then statement and why\n",
    "- explain how being able to spot these differences in algorithms will be important to us\n",
    "    - assign blogging about how they will use knowledge about algorithms to work on team projects in the future\n",
    "\n"
   ]
  }
 ],
 "metadata": {
  "kernelspec": {
   "display_name": "Python 3.9.12 ('base')",
   "language": "python",
   "name": "python3"
  },
  "language_info": {
   "name": "python",
   "version": "3.9.12"
  },
  "orig_nbformat": 4,
  "vscode": {
   "interpreter": {
    "hash": "ab0e85a9c08cdbd4c52a9b79d1ef72a54d0123135181235dd24754d6bea1e8b9"
   }
  }
 },
 "nbformat": 4,
 "nbformat_minor": 2
}
