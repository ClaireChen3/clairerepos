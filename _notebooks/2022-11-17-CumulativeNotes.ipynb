{
 "cells": [
  {
   "cell_type": "markdown",
   "metadata": {},
   "source": [
    "# Tri 2 Cumulative Notes\n",
    "- toc: true \n",
    "- badges: true\n",
    "- comments: true \n",
    "- categories: [markdown, week 13]"
   ]
  },
  {
   "cell_type": "markdown",
   "metadata": {},
   "source": [
    "meta data \n",
    "- ex. name of a person\n",
    "- meta means: kind of, sort of, like\n",
    "- data about the data\n",
    "- front matter (title description)"
   ]
  },
  {
   "cell_type": "markdown",
   "metadata": {},
   "source": [
    "liquid code\n",
    "- in html\n",
    "- on csp exam all indices start with 1"
   ]
  },
  {
   "cell_type": "markdown",
   "metadata": {},
   "source": [
    "pre processing step in actions before goes into browser to generate liquid to html code"
   ]
  }
 ],
 "metadata": {
  "kernelspec": {
   "display_name": "Python 3.10.6 64-bit",
   "language": "python",
   "name": "python3"
  },
  "language_info": {
   "name": "python",
   "version": "3.10.6"
  },
  "orig_nbformat": 4,
  "vscode": {
   "interpreter": {
    "hash": "916dbcbb3f70747c44a77c7bcd40155683ae19c65e1c03b4aa3499c5328201f1"
   }
  }
 },
 "nbformat": 4,
 "nbformat_minor": 2
}
