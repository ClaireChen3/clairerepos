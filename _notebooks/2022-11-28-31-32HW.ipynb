{
 "cells": [
  {
   "cell_type": "markdown",
   "metadata": {},
   "source": [
    "# 3.1-3.2 Hacks\n",
    "- toc: true \n",
    "- badges: true\n",
    "- comments: true "
   ]
  },
  {
   "cell_type": "markdown",
   "metadata": {},
   "source": [
    "simplified food list: <br>lists are better because it makes your code sorter and more efficient"
   ]
  },
  {
   "cell_type": "code",
   "execution_count": 1,
   "metadata": {},
   "outputs": [
    {
     "name": "stdout",
     "output_type": "stream",
     "text": [
      "['pizza, hotdog, sushi, strawberry, sandwich']\n"
     ]
    }
   ],
   "source": [
    "foods = ['pizza, hotdog, sushi, strawberry, sandwich']\n",
    "print(foods)"
   ]
  },
  {
   "cell_type": "code",
   "execution_count": 6,
   "metadata": {},
   "outputs": [
    {
     "name": "stdout",
     "output_type": "stream",
     "text": [
      "red orange yellow green blue indigo violet\n",
      "['red, orange, yellow, green, blue, indigo, violet']\n"
     ]
    }
   ],
   "source": [
    "color1 = \"red\"\n",
    "color2 = \"orange\"\n",
    "color3 = \"yellow\"\n",
    "color4 = \"green\"\n",
    "color5 = \"blue\"\n",
    "color6 = \"indigo\"\n",
    "color7 = \"violet\"\n",
    "print(color1, color2, color3, color4, color5, color6, color7)\n",
    "\n",
    "color = ['red, orange, yellow, green, blue, indigo, violet']\n",
    "print(color)"
   ]
  },
  {
   "cell_type": "markdown",
   "metadata": {},
   "source": [
    "![]({{ site.baseurl }}/images/pythonscore.jpg)"
   ]
  },
  {
   "cell_type": "code",
   "execution_count": 3,
   "metadata": {},
   "outputs": [
    {
     "name": "stdout",
     "output_type": "stream",
     "text": [
      "[2, 3, 4]\n"
     ]
    }
   ],
   "source": [
    "num1=input(\"Input first number. \")\n",
    "num2=input(\"Input second number. \")\n",
    "num3=input(\"Input third number. \")\n",
    "add=input(\"How much would you like to add to each number? \")\n",
    "\n",
    "# Add code in the space below\n",
    "\n",
    "num1 = int(num1)\n",
    "num2 = int(num2)\n",
    "num3 = int(num3)\n",
    "numlist = [num1 , num2, num3]\n",
    "\n",
    "# The following is the code that adds the inputted addend to the other numbers. It is hidden from the user.\n",
    "\n",
    "for i in numlist:\n",
    "    numlist[i -1] += int(add)\n",
    "\n",
    "print(numlist)"
   ]
  },
  {
   "cell_type": "markdown",
   "metadata": {},
   "source": [
    "* Create a list with indices \n",
    "* Index a part of the list that you created.\n",
    "* Try to index from the end \n",
    "### index dog from front and end"
   ]
  },
  {
   "cell_type": "code",
   "execution_count": 8,
   "metadata": {},
   "outputs": [
    {
     "name": "stdout",
     "output_type": "stream",
     "text": [
      "['cat', 'dog', 'fish', 'bird']\n",
      "dog\n",
      "dog\n"
     ]
    }
   ],
   "source": [
    "petsList = [\"cat\", \"dog\", \"fish\", \"bird\"]\n",
    "print(petsList)\n",
    "\n",
    "print(petsList[1]) \n",
    "print(petsList[-3]) \n"
   ]
  },
  {
   "cell_type": "markdown",
   "metadata": {},
   "source": [
    "What is a list?\n",
    "* A list of values or variables that can be assigned all at once\n",
    "\n",
    "What is an element\n",
    "* the things in a list\n",
    "\n",
    "What is an easy way to reference the elements in a list or string?\n",
    "* print(name of list)\n",
    "\n",
    "What is an example of a string?\n",
    "* hello\n",
    "\n",
    "Create an index of your favorite foods\n",
    "\n"
   ]
  },
  {
   "cell_type": "code",
   "execution_count": 16,
   "metadata": {},
   "outputs": [
    {
     "name": "stdout",
     "output_type": "stream",
     "text": [
      "['sushi', 'pasta', 'strawberries', 'tiramisu', 'potato']\n",
      "sushi\n"
     ]
    }
   ],
   "source": [
    "favFood = [\"sushi\", \"pasta\", \"strawberries\", \"tiramisu\", \"potato\"]\n",
    "print(favFood)\n",
    "in1 = input(\"Input number\")\n",
    "print(favFood[int(in1)-1])"
   ]
  },
  {
   "cell_type": "markdown",
   "metadata": {},
   "source": [
    "In your own words, briefly explain by writing down what an assignment operator is\n",
    "* an operator that assigns values to variables\n",
    "\n",
    "In Collegeboard pseudocode, what symbol is used to assign values to variables?\n",
    "* -> an arrow\n",
    "\n",
    "A variable, x, is initially given a value of 15. Later on, the value for x is changed to 22. If you print x, would the command display 15 or 22?\n",
    "* if you print x it would display 22 because code is read from top to bottom and meaning if the variable is reassigned later on in the code, the reassigned value will be the one that is displayed"
   ]
  },
  {
   "cell_type": "code",
   "execution_count": 32,
   "metadata": {},
   "outputs": [
    {
     "name": "stdout",
     "output_type": "stream",
     "text": [
      "name:\n",
      "my name is claire\n",
      "age:\n",
      "I am 16 years old\n",
      "phone number:\n",
      "my phone number is 8582394568\n"
     ]
    }
   ],
   "source": [
    "print(\"name:\")\n",
    "name = input(\"what's your name?\")\n",
    "print(\"my name is\", name)\n",
    "\n",
    "print(\"age:\")\n",
    "age = input(\"how old are you?\")\n",
    "print(\"I am\", age, \"years old\")\n",
    "\n",
    "print(\"phone number:\")\n",
    "phoneNumber = input(\"what's your phone number\")\n",
    "print(\"my phone number is\", phoneNumber)\n"
   ]
  }
 ],
 "metadata": {
  "kernelspec": {
   "display_name": "Python 3.9.12 ('base')",
   "language": "python",
   "name": "python3"
  },
  "language_info": {
   "codemirror_mode": {
    "name": "ipython",
    "version": 3
   },
   "file_extension": ".py",
   "mimetype": "text/x-python",
   "name": "python",
   "nbconvert_exporter": "python",
   "pygments_lexer": "ipython3",
   "version": "3.9.12"
  },
  "orig_nbformat": 4,
  "vscode": {
   "interpreter": {
    "hash": "ab0e85a9c08cdbd4c52a9b79d1ef72a54d0123135181235dd24754d6bea1e8b9"
   }
  }
 },
 "nbformat": 4,
 "nbformat_minor": 2
}
