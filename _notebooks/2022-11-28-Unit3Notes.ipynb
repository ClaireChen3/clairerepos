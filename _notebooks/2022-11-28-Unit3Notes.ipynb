{
 "cells": [
  {
   "cell_type": "markdown",
   "metadata": {},
   "source": [
    "# Unit 3 Notes\n",
    "- toc: true \n",
    "- badges: true\n",
    "- comments: true \n",
    "- categories: [Uit 3 Lessons]"
   ]
  },
  {
   "cell_type": "markdown",
   "metadata": {},
   "source": [
    "#### 3.1-3.2\n",
    "* for your variables, use easy to understand words tha relates to the function/value you are assigning to it\n",
    "* this makes it easier for both the user and other people using/reading the code.\n",
    "* Datatypes: stores different types of data: sentences, numbers, tru or false\n",
    "- string\n",
    "- integers\n",
    "- boolean\n",
    "* you can use lists instead of assigning multiple variables and stringing them together to shorten your code and make it more efficient\n",
    "\n"
   ]
  },
  {
   "cell_type": "markdown",
   "metadata": {},
   "source": [
    "#### 3.3-3.4\n",
    "- sequencing is the order of how to do something (like a set of instructions)\n",
    "- selection is a decision based off of if a certain requirement is met\n",
    "- iteration is a loop to do something over and over again until a certain condition is met\n",
    "- algorithms are a combination of all of these things\n",
<<<<<<< HEAD
    "- arithmetic operators\n",
=======
    "- arithmetic operators:\n",
>>>>>>> a7f4527 (commit all)
    "    - add/ subtract\n",
    "    - multiply/ divide\n",
    "    - mod (divide remainder)\n"
   ]
  }
 ],
 "metadata": {
  "kernelspec": {
   "display_name": "Python 3.10.6 64-bit",
   "language": "python",
   "name": "python3"
  },
  "language_info": {
   "name": "python",
   "version": "3.10.6"
  },
  "orig_nbformat": 4,
  "vscode": {
   "interpreter": {
    "hash": "916dbcbb3f70747c44a77c7bcd40155683ae19c65e1c03b4aa3499c5328201f1"
   }
  }
 },
 "nbformat": 4,
 "nbformat_minor": 2
}
