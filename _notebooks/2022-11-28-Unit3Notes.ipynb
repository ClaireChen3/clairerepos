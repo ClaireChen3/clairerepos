{
 "cells": [
  {
   "cell_type": "markdown",
   "metadata": {},
   "source": [
    "# Unit 3 Notes\n",
    "- toc: true \n",
    "- badges: true\n",
    "- comments: true \n",
    "- categories: [Uit 3 Lessons]"
   ]
  },
  {
   "cell_type": "markdown",
   "metadata": {},
   "source": [
    "#### 3.1-3.2\n",
    "* for your variables, use easy to understand words tha relates to the function/value you are assigning to it\n",
    "* this makes it easier for both the user and other people using/reading the code.\n",
    "* Datatypes: stores different types of data: sentences, numbers, tru or false\n",
    "- string\n",
    "- integers\n",
    "- boolean\n",
    "* you can use lists instead of assigning multiple variables and stringing them together to shorten your code and make it more efficient\n",
    "\n"
   ]
  },
  {
   "cell_type": "markdown",
   "metadata": {},
   "source": [
    "#### 3.3-3.4\n",
    "- "
   ]
  }
 ],
 "metadata": {
  "kernelspec": {
   "display_name": "Python 3.9.12 ('base')",
   "language": "python",
   "name": "python3"
  },
  "language_info": {
   "name": "python",
   "version": "3.9.12"
  },
  "orig_nbformat": 4,
  "vscode": {
   "interpreter": {
    "hash": "ab0e85a9c08cdbd4c52a9b79d1ef72a54d0123135181235dd24754d6bea1e8b9"
   }
  }
 },
 "nbformat": 4,
 "nbformat_minor": 2
}
