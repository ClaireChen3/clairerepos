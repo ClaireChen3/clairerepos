{
 "cells": [
  {
   "cell_type": "markdown",
   "metadata": {},
   "source": [
    "#### Hack 1\n",
    "Sequencing:\n",
    "1. set item to number to search for\n",
    "2. get next number in the list\n",
    "3. if number = item, display \"item found\"\n",
    "4. if there are more numbers in the list, go back to step 2\n",
    "5. display \"item not found\" \n",
    "Selection:\n",
    "3. if number = item, display \"item found\"\n",
    "Iteration:\n",
    "4. if there are more numbers in the list, go back to step 2\n",
    "\n",
    "#### Hack 2\n",
    "num1 = 5\n",
    "num2 = num1 * 3\n",
    "num3 = num2 / num1 * (9 % 2) * 4\n",
    "result = (num3 % num1 + num2) % num3 * 3 / 5\n",
    "\n",
    "1. 5\n",
    "2. 5*3= 15\n",
    "3. 15/5=3* 1=3*4=12\n",
    "4. 12/5 +15=17 % 12 = 5*3 = 15/5 = 3\n",
    "\n",
    "#### Crossword\n",
    "1 down - iteration\n",
    "2 down - selection\n",
    "3 across - sequence\n",
    "\n",
    "\n",
    "\n"
   ]
  }
 ],
 "metadata": {
  "kernelspec": {
   "display_name": "Python 3.9.12 ('base')",
   "language": "python",
   "name": "python3"
  },
  "language_info": {
   "name": "python",
   "version": "3.9.12"
  },
  "orig_nbformat": 4,
  "vscode": {
   "interpreter": {
    "hash": "ab0e85a9c08cdbd4c52a9b79d1ef72a54d0123135181235dd24754d6bea1e8b9"
   }
  }
 },
 "nbformat": 4,
 "nbformat_minor": 2
}
