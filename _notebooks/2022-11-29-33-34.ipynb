{
 "cells": [
  {
   "cell_type": "markdown",
   "metadata": {},
   "source": [
    "# 3.3-3.4 Hacks\n",
    "- toc: true \n",
    "- badges: true\n",
    "- comments: true \n",
    "- categories: [Unit 3 Lessons]\n",
    "\n",
    "\n"
   ]
  },
  {
   "cell_type": "markdown",
   "metadata": {},
   "source": [
    "#### Hack 1\n",
    "Sequencing:\n",
    "1. set item to number to search for\n",
    "2. get next number in the list\n",
    "3. if number = item, display \"item found\"\n",
    "4. if there are more numbers in the list, go back to step 2\n",
    "5. display \"item not found\" \n",
    "Selection:\n",
    "3. if number = item, display \"item found\"\n",
    "Iteration:\n",
    "4. if there are more numbers in the list, go back to step 2\n",
    "\n",
    "#### Hack 2\n",
    "num1 = 5\n",
    "num2 = num1 * 3\n",
    "num3 = num2 / num1 * (9 % 2) * 4\n",
    "result = (num3 % num1 + num2) % num3 * 3 / 5\n",
    "\n",
    "1. 5\n",
    "2. 5*3= 15\n",
    "3. 15/5=3* 1=3*4=12\n",
    "4. 12/5 +15=17 % 12 = 5*3 = 15/5 = 3\n",
    "\n",
    "#### Crossword\n",
    "1 down - iteration\n",
    "2 down - selection\n",
    "3 across - sequence\n",
    "\n"
   ]
  }
 ],
 "metadata": {
  "kernelspec": {
   "display_name": "Python 3.10.6 64-bit",
   "language": "python",
   "name": "python3"
  },
  "language_info": {
   "name": "python",
   "version": "3.10.6"
  },
  "orig_nbformat": 4,
  "vscode": {
   "interpreter": {
    "hash": "916dbcbb3f70747c44a77c7bcd40155683ae19c65e1c03b4aa3499c5328201f1"
   }
  }
 },
 "nbformat": 4,
 "nbformat_minor": 2
}
