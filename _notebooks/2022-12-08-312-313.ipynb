{
 "cells": [
  {
   "cell_type": "markdown",
   "metadata": {},
   "source": [
    "# 3.12-3.13 Hacks\n",
    "- toc: true\n",
    "- badges: true\n",
    "- comments: true\n",
    "- permalink: /hacks812"
   ]
  },
  {
   "cell_type": "markdown",
   "metadata": {},
   "source": [
    "### Topic 3.12 (3.A):\n",
    "1. Define **procedure** and **parameter** in your own words\n",
    "    - Procedure: aka functions/methods are basically instructions that can store parameters and return values\n",
    "    - Parameter: variables used in procedure\n",
    "2. Paste a **screenshot** of completion of the quiz\n",
    "![](https://imgur.com/d4H191w)\n",
    "3. Define **Return Values** and **Output Parameters** in your own words\n",
    "    - Return Values: does a function and tells python to finish the procedure and return a certain value\n",
    "    - Output Parameters: variables used in procedure (same thing as function parameters)\n",
    "4. Code a **procedure** that finds the square root of any given number. (make sure to call and return the function)\n"
   ]
  },
  {
   "cell_type": "code",
   "execution_count": 2,
   "metadata": {},
   "outputs": [
    {
     "name": "stdout",
     "output_type": "stream",
     "text": [
      "3.0\n"
     ]
    }
   ],
   "source": [
    "# import inbuilt function\n",
    "import math\n",
    "# make function\n",
    "def root(x):\n",
    "    result = math. sqrt(x)\n",
    "    return result\n",
    "# get result and print\n",
    "result = root(9)\n",
    "print(result)\n"
   ]
  },
  {
   "cell_type": "markdown",
   "metadata": {},
   "source": [
    "### Topic 3.13 (3.B):\n",
    "1. Explain, in your own words, why abstracting away your program logic into separate, modular functions is effective\n",
    "    - it makes your code more concise, and able to do more things\n",
    "2. Create a procedure that uses other sub-procedures (other functions) within it and explain why the abstraction was needed (conciseness, shared behavior, etc.)\n",
    "    - goal: (x+1)(x-2)\n",
    "    - I can use subprocedures for this to get the product of x+1 and x-2 becuse I need to do three calculations to get the result\n",
    "    - inputed 9\n"
   ]
  },
  {
   "cell_type": "code",
   "execution_count": 1,
   "metadata": {},
   "outputs": [
    {
     "name": "stdout",
     "output_type": "stream",
     "text": [
      "70\n"
     ]
    }
   ],
   "source": [
    "# goal (x+1)(x-2)\n",
    "x = int(input())\n",
    "def add(a):\n",
    "    return a + 1\n",
    "def multiply(a):\n",
    "    return a - 2\n",
    "def equation(x):\n",
    "    addX = add(x)\n",
    "    multiplyY = multiply(x)\n",
    "    return addX * multiplyY\n",
    "\n",
    "result = equation(x)\n",
    "print(result)\n"
   ]
  },
  {
   "cell_type": "markdown",
   "metadata": {},
   "source": [
    "\n",
    "3. Add another layer of abstraction to the word counter program (HINT: create a function that can count the number of words starting with ANY character in a given string -- how can we leverage parameters for this?)\n"
   ]
  },
  {
   "cell_type": "code",
   "execution_count": 53,
   "metadata": {},
   "outputs": [
    {
     "name": "stdout",
     "output_type": "stream",
     "text": [
      "Words starting with h : 1\n"
     ]
    }
   ],
   "source": [
    "# set input as the value for x\n",
    "x = input()\n",
    "# this function takes a string as input and returns a list of words, where each word\n",
    "# is a separate element in the list\n",
    "def split_string(s):\n",
    "    # use the split() method to split the string into a list of words\n",
    "    words = s.split(\" \")\n",
    "\n",
    "\t# initialize a new list to hold all non-empty strings\n",
    "    new_words = []\n",
    "    for word in words:\n",
    "        if word != \"\":\n",
    "            # add all non-empty substrings of `words` to `new_words`\n",
    "            new_words.append(word)\n",
    "    \n",
    "    return words\n",
    "\n",
    "# this function takes a list of words as input and returns the number of words\n",
    "# that start with the given letter (case-insensitive)\n",
    "def count_words_starting_with_letter(words, letter):\n",
    "    count = 0\n",
    "    \n",
    "    # loop through the list of words and check if each word starts with the given letter\n",
    "    for word in words:\n",
    "        # use the lower() method to make the comparison case-insensitive\n",
    "        if word.lower().startswith(letter):\n",
    "            count += 1\n",
    "    \n",
    "    return count\n",
    "\n",
    "# this function takes a string as input and returns the number of words that start with 'a'\n",
    "def count_words_starting_with_x_in_string(s):\n",
    "    # use the split_string() function to split the input string into a list of words\n",
    "    words = split_string(s)\n",
    "    \n",
    "    # use the count_words_starting_with_letter() function to count the number of words\n",
    "    # that start with 'a' in the list of words\n",
    "    # set the value of the variable x as the letter the function is looking for\n",
    "    count = count_words_starting_with_letter(words, x)\n",
    "    \n",
    "    return count\n",
    "\n",
    "# example usage:\n",
    "s = \" hello claire \"\n",
    "x_count = count_words_starting_with_x_in_string(s)\n",
    "# change to be words starting with whatever letter is inputed\n",
    "print(\"Words starting with\", x, \":\", x_count)\n"
   ]
  },
  {
   "cell_type": "markdown",
   "metadata": {},
   "source": [
    "### Topic 3.13 (3.C):\n",
    "1. Define <font color=\"#ffffc2\" style=\"font-weight: bold\">procedure names</font> and <font color=\"#ffffc2\" style=\"font-weight: bold\">arguments</font> in your own words.\n",
    "  - Procedure Names: the name of the function (useful so you can call the function later)\n",
    "  - Arguments: provides information to a function from outside that function\n",
    "2. Code some <font color=\"#ffffc2\" style=\"font-weight: bold\">procedures</font> that use <font color=\"#ffffc2\" style=\"font-weight: bold\">arguments</font> and <font color=\"#ffffc2\" style=\"font-weight: bold\">parameters</font> with Javascript and HTML (make sure they are interactive on your hacks page, allowing the user to input numbers and click a button to produce an output)\n",
    "  - Add two numbers\n",
    "  - Subtract two numbers\n",
    "  - Multiply two numbers\n",
    "  - Divide two numbers\n",
    "\n",
    "I inputed 9 and 3 in each procedure\n",
    "  "
   ]
  },
  {
   "cell_type": "code",
   "execution_count": 72,
   "metadata": {
    "vscode": {
     "languageId": "javascript"
    }
   },
   "outputs": [
    {
     "name": "stdout",
     "output_type": "stream",
     "text": [
      "the sum of 9 and 3 = 12\n"
     ]
    }
   ],
   "source": [
    "def add(num1, num2):\n",
    "    return num1 + num2\n",
    "    \n",
    "num1= int(input(\"any number\"))\n",
    "num2 = int(input(\"any number\"))\n",
    "add(num1,num2)\n",
    "result = add(num1,num2)\n",
    "print(\"the sum of\", num1, \"and\", num2, \"=\", result)"
   ]
  },
  {
   "cell_type": "code",
   "execution_count": 73,
   "metadata": {
    "vscode": {
     "languageId": "javascript"
    }
   },
   "outputs": [
    {
     "name": "stdout",
     "output_type": "stream",
     "text": [
      "9 - 3 = 6\n"
     ]
    }
   ],
   "source": [
    "def sub(num1, num2):\n",
    "    return num1 - num2\n",
    "    \n",
    "num1= int(input(\"any number\"))\n",
    "num2 = int(input(\"any number\"))\n",
    "sub(num1,num2)\n",
    "result = sub(num1,num2)\n",
    "print(num1, \"-\", num2, \"=\", result)"
   ]
  },
  {
   "cell_type": "code",
   "execution_count": 74,
   "metadata": {
    "vscode": {
     "languageId": "javascript"
    }
   },
   "outputs": [
    {
     "name": "stdout",
     "output_type": "stream",
     "text": [
      "the product of 9 and 3 = 27\n"
     ]
    }
   ],
   "source": [
    "def mul(num1, num2):\n",
    "    return num1 * num2\n",
    "    \n",
    "num1= int(input(\"any number\"))\n",
    "num2 = int(input(\"any number\"))\n",
    "mul(num1,num2)\n",
    "result = mul(num1,num2)\n",
    "print(\"the product of\", num1, \"and\", num2, \"=\", result)"
   ]
  },
  {
   "cell_type": "code",
   "execution_count": 75,
   "metadata": {
    "vscode": {
     "languageId": "javascript"
    }
   },
   "outputs": [
    {
     "name": "stdout",
     "output_type": "stream",
     "text": [
      "9 divided by 3 = 3.0\n"
     ]
    }
   ],
   "source": [
    "def divi(num1, num2):\n",
    "    return num1 / num2\n",
    "    \n",
    "num1= int(input(\"any number\"))\n",
    "num2 = int(input(\"any number\"))\n",
    "divi(num1,num2)\n",
    "result = divi(num1,num2)\n",
    "print(num1, \"divided by\", num2, \"=\", result)"
   ]
  }
 ],
 "metadata": {
  "kernelspec": {
   "display_name": "Python 3.10.6 64-bit",
   "language": "python",
   "name": "python3"
  },
  "language_info": {
   "codemirror_mode": {
    "name": "ipython",
    "version": 3
   },
   "file_extension": ".py",
   "mimetype": "text/x-python",
   "name": "python",
   "nbconvert_exporter": "python",
   "pygments_lexer": "ipython3",
   "version": "3.10.6"
  },
  "orig_nbformat": 4,
  "vscode": {
   "interpreter": {
    "hash": "916dbcbb3f70747c44a77c7bcd40155683ae19c65e1c03b4aa3499c5328201f1"
   }
  }
 },
 "nbformat": 4,
 "nbformat_minor": 2
}
