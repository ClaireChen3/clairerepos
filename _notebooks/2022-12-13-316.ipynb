{
 "cells": [
  {
   "cell_type": "markdown",
   "metadata": {},
   "source": [
    "# 3.16 Hacks\n",
    "- toc: true \n",
    "- badges: true\n",
    "- comments: true \n",
    "- categories: [Unit 3 Lessons]\n"
   ]
  },
  {
   "cell_type": "markdown",
   "metadata": {},
   "source": [
    "### Hack #1 \n",
    "* Create an idea for a simulation and describe it (you don’t actually have to code it just think about/answer the guiding questions)."
   ]
  },
  {
   "cell_type": "markdown",
   "metadata": {},
   "source": [
    "A simulation that allows people to try on clothes based on their clothing size and body measurements virtually when online shopping"
   ]
  },
  {
   "cell_type": "markdown",
   "metadata": {},
   "source": [
    "### What makes it a simulation?\n",
    "    - people don't have to go through the pain of going in stores and trying on clothes to see if it fits them, instead, they can just go online, put in their measurements and the simulation will tell you if you will fit the piece of clothing\n",
    "### What are it’s advantages and disadvantages? \n",
    "    - you don't have to leave your house to by clothes that fit!\n",
    "### In your opinion, would an experiment be better in this situation?\n",
    "    - It honestly depends on the person, but for me personally, I would prefer a simulation because shopping and trying on clothes in store stresses and grosses me out so for people like me, a clothing try on simulation could be very helpful"
   ]
  },
  {
   "cell_type": "markdown",
   "metadata": {},
   "source": [
    "### Hack #2\n",
    "Screenshot for quiz score: ![](https://i.imgur.com/OEb6l7P.png)"
   ]
  },
  {
   "cell_type": "markdown",
   "metadata": {},
   "source": [
    "### Hack #3 \n",
    "* Describe the rolling dice simulation (answer guiding questions)\n",
    "how this simulation works is by asking for how many die you want to roll first and then giving you a random output from 1 through 6. The purpose of this game is to simulate rolling as many die as you want! I you wanted to roll 50 die, it might be a little hard to find that many die, so a simulation would be better\n"
   ]
  },
  {
   "cell_type": "markdown",
   "metadata": {},
   "source": [
    "### Hack #4\n",
    "* Add a feature onto the rolling dice simulation above \n",
    "    - ex: a 14-sided dice or expand the purpose of the simulation (hint: use conditionals to make dice part of a game/real life situation)"
   ]
  },
  {
   "cell_type": "code",
   "execution_count": 1,
   "metadata": {},
   "outputs": [
    {
     "name": "stdout",
     "output_type": "stream",
     "text": [
      "you rolled: [8, 7, 4, 8, 5, 10, 7, 10, 3]\n"
     ]
    }
   ],
   "source": [
    "def parse_input(input_string):\n",
    "    if input_string.strip() in {\"1\", \"2\", \"3\",\"4\", \"5\", \"6\", \"7\", \"8\", \"9\", \"10\"}:\n",
    "        return int(input_string)\n",
    "    else:\n",
    "        print(\"Please enter a number from 1 to 10.\")\n",
    "        raise SystemExit(1)\n",
    "\n",
    "import random\n",
    "\n",
    "def roll_dice(num_dice):\n",
    "    roll_results = []\n",
    "    for _ in range(num_dice):\n",
    "        roll = random.randint(1, 10)\n",
    "        roll_results.append(roll)\n",
    "    return roll_results\n",
    "\n",
    "\n",
    "num_dice_input = input(\"How many dice do you want to roll? [1-10] \")\n",
    "num_dice = parse_input(num_dice_input)\n",
    "roll_results = roll_dice(num_dice)\n",
    "\n",
    "print(\"you rolled:\", roll_results) \n"
   ]
  },
  {
   "cell_type": "markdown",
   "metadata": {},
   "source": [
    "### Extra Credit\n",
    "simulating picking petals off of flowers, good it you don't have a flower on hand:)"
   ]
  },
  {
   "cell_type": "code",
   "execution_count": 9,
   "metadata": {},
   "outputs": [
    {
     "name": "stdout",
     "output_type": "stream",
     "text": [
      "9\n",
      "he loves me not\n",
      "8\n",
      "he loves me\n",
      "7\n",
      "he loves me not\n",
      "6\n",
      "he loves me\n",
      "5\n",
      "he loves me not\n",
      "4\n",
      "he loves me\n",
      "3\n",
      "he loves me not\n",
      "2\n",
      "he loves me\n",
      "1\n",
      "he loves me not\n",
      "0\n",
      "No More Petals\n",
      "he loves me\n"
     ]
    }
   ],
   "source": [
    "numPetals = int(input(\"number of petals\"))\n",
    "while (numPetals > 0):\n",
    "    numPetals -= 1\n",
    "    print(numPetals)\n",
    "    if numPetals == 0:\n",
    "        print(\"No More Petals\")\n",
    "# EXTRA BONUS\n",
    "    if numPetals % 2 == 0:\n",
    "        print(\"he loves me\")\n",
    "    if numPetals % 2 == 1:\n",
    "        print(\"he loves me not\")"
   ]
  }
 ],
 "metadata": {
  "kernelspec": {
   "display_name": "Python 3.10.6 64-bit",
   "language": "python",
   "name": "python3"
  },
  "language_info": {
   "codemirror_mode": {
    "name": "ipython",
    "version": 3
   },
   "file_extension": ".py",
   "mimetype": "text/x-python",
   "name": "python",
   "nbconvert_exporter": "python",
   "pygments_lexer": "ipython3",
   "version": "3.10.6"
  },
  "orig_nbformat": 4,
  "vscode": {
   "interpreter": {
    "hash": "916dbcbb3f70747c44a77c7bcd40155683ae19c65e1c03b4aa3499c5328201f1"
   }
  }
 },
 "nbformat": 4,
 "nbformat_minor": 2
}
