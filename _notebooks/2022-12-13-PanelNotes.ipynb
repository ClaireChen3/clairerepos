{
 "cells": [
  {
   "cell_type": "markdown",
   "metadata": {},
   "source": [
    "# Panel Notes Extra Credit\n",
    "- toc: true \n",
    "- badges: true\n",
    "- comments: true "
   ]
  },
  {
   "cell_type": "markdown",
   "metadata": {},
   "source": [
    "### Kathyleen Beveridge\n",
    "- born in vietnam, moved to bay area, went to Santa Clara University, studied abroad in Spain, moved to San Diego\n",
    "- started in financial banking and moved to hightech\n",
    "    - investment, retirment planning\n",
    "- places she's worked at\n",
    "    - hugo packard\n",
    "    - qualcomm\n",
    "    - HP\n",
    "    - Thermofisher Scientific\n",
    "common goal to improve the world using tech\n",
    "- financial banking is 1 on 1, can only help one person at a time\n",
    "- However, high tech can change billions of people\n",
    "    - at one point qualcomm's chips were used by half the world\n",
    "- senior director of marketing and global sales.\n",
    "     - does this probduct make sense for this market \n",
    "     - commercialize product to bring to the market\n",
    "     - worked with scrum masters to commercialize their tech products\n",
    "     - bring to the market and make an impact on this world\n",
    "     - engineers and programmers turn ideas into reality and marketing helps commercialize and bring \n"
   ]
  },
  {
   "cell_type": "markdown",
   "metadata": {},
   "source": [
    "### Kris Porter\n",
    "- DevOps engineer\n",
    "    - doesn't code all day\n",
    "- Enjoyed stem in highschool \n",
    "- went to UCLA\n",
    "- his first CS class was in University and failed it \n",
    "- but he still had a tech career later on\n",
    "- he worked on the networked infomechanical systems \n",
    "- learned linux operating system\n",
    "fixed computers installed routers\n",
    "- works on deploy softwares on to internet (DevOps)\n",
    "    - prevent hacking\n",
    "    - protect emails (spam)\n",
    "    - worked on server\n",
    "    - autimation, data analytics\n",
    "- worked on streaming media infrastructure (olympics)\n",
    "- works at twitter \n",
    "    - home timeline\n",
    "- continuous learning \n",
    "    - CCNA training\n",
    "    - machine learning\n",
    "    - python\n",
    "\n",
    "\n"
   ]
  },
  {
   "cell_type": "markdown",
   "metadata": {},
   "source": [
    "### More Notes\n",
    "- agile methodology\n",
    "    - different companies have their own method of agile\n",
    "    - good skillset to have\n",
    "    - some things \n",
    "- when companies shuffle, start looking for a new job:)\n",
    "- data scientist\n",
    "    - join fragnant data bases\n",
    "    - predict where customer demand is\n",
    "    - ex. predict harvest for wine companies\n",
    "- most important skill in tech industry\n",
    "    - continuous learning\n",
    "    - learning how to learn (programming language)\n",
    "    - each company has a diffeent way of doing things (be adaptive)\n",
    "    - dont be too concerned about things you see on the news\n",
    "    - you can still get in to a tech career with a non-tech backgroung\n",
    "    - listen to requirements and translates it into how technology solves the requirements\n",
    "    - speak tech terms in normal terms\n",
    "- biggest challenge in tech and how to overcome\n",
    "    - be adaptive to big changes\n",
    "    - interview (series of timed random tests)\n",
    "- coding teaches you a way of thinking\n",
    "    - critical thinking\n",
    "    - disecting a problem\n",
    "    - problem solving and walking people through your process clearly"
   ]
  },
  {
   "cell_type": "markdown",
   "metadata": {},
   "source": [
    "#### Reflection"
   ]
  },
  {
   "cell_type": "markdown",
   "metadata": {},
   "source": [
    "I am interested in doing something in the business marketing field, similar to Kathyleen and I thought it was really nice how she was able to use her high tech background to help her get to such a high position in marketing. I also really like how Kris shared his experience with failing coding and not really taking any coding classes in college, but still being able to work hard and get into the tech field"
   ]
  }
 ],
 "metadata": {
  "kernelspec": {
   "display_name": "Python 3.10.6 64-bit",
   "language": "python",
   "name": "python3"
  },
  "language_info": {
   "name": "python",
   "version": "3.10.6"
  },
  "orig_nbformat": 4,
  "vscode": {
   "interpreter": {
    "hash": "916dbcbb3f70747c44a77c7bcd40155683ae19c65e1c03b4aa3499c5328201f1"
   }
  }
 },
 "nbformat": 4,
 "nbformat_minor": 2
}
