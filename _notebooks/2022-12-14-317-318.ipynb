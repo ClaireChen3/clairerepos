{
 "cells": [
  {
   "cell_type": "markdown",
   "metadata": {},
   "source": [
    "# 3.17-3.18 Hacks\n",
    "- toc: true \n",
    "- badges: true\n",
    "- comments: true \n",
    "- categories: [Unit 3 Lessons]\n",
    "- description: efficiancy"
   ]
  },
  {
   "cell_type": "markdown",
   "metadata": {},
   "source": [
    "#### Hack 1"
   ]
  },
  {
   "cell_type": "code",
   "execution_count": null,
   "metadata": {},
   "outputs": [],
   "source": [
    "def collatz(i):\n",
    "    while i != 1:\n",
    "        if i % 2 > 0:\n",
    "             i =((3 * i) + 1)\n",
    "             list_.append(int(i))\n",
    "        else:\n",
    "            i = (i / 2)\n",
    "            list_.append(int(i))\n",
    "    return list_\n",
    "\n",
    "\n",
    "print('Please enter a number: ', end='' + \"\\n\")\n",
    "while True:\n",
    "    try:\n",
    "        i = int(input())\n",
    "        list_ = [i]\n",
    "        break\n",
    "    except ValueError:\n",
    "        print('Invaid selection, try again: ', end='')\n",
    "\n",
    "\n",
    "l = collatz(i)\n",
    "\n",
    "print('Sequence: ')\n",
    "print(*l, sep=\" \")\n",
    "print('Number of iterations:', len(l) - 1)"
   ]
  },
  {
   "cell_type": "markdown",
   "metadata": {},
   "source": [
    "#### Hack 2\n",
    "- Code 2 algorithms: (.25)\n",
    "\n",
    "    The first Algorithm should be efficient while the second should be innefficient. Then explain what distinguishes the efficient from the non-efficient one. (In your own words)\n",
    "- Explain algorithm efficiency in your own words (.25)\n",
    "- Code an efficient program that shows your daily tasks or schedule. (We have an example shown in our lesson) (.25)"
   ]
  },
  {
   "cell_type": "code",
   "execution_count": 1,
   "metadata": {},
   "outputs": [
    {
     "name": "stdout",
     "output_type": "stream",
     "text": [
      "1\n",
      "2\n",
      "3\n"
     ]
    }
   ],
   "source": [
    "# inefficient\n",
    "a = 1\n",
    "b = 2\n",
    "c = 3\n",
    "print(a)\n",
    "print(b)\n",
    "print(c)\n"
   ]
  },
  {
   "cell_type": "code",
   "execution_count": 2,
   "metadata": {},
   "outputs": [
    {
     "name": "stdout",
     "output_type": "stream",
     "text": [
      "[1, 2, 3]\n"
     ]
    }
   ],
   "source": [
    "# efficient\n",
    "a = [1, 2, 3]\n",
    "print(a)"
   ]
  },
  {
   "cell_type": "markdown",
   "metadata": {},
   "source": [
    "this one is more efficient because it uses a list instead of three seperate variables with three values"
   ]
  },
  {
   "cell_type": "code",
   "execution_count": 3,
   "metadata": {},
   "outputs": [
    {
     "name": "stdout",
     "output_type": "stream",
     "text": [
      "do not disturb\n",
      "do not distub\n",
      "slay\n",
      "good job\n",
      "do not disturb\n"
     ]
    }
   ],
   "source": [
    "# Daily \n",
    "tasks = [\"have a snack\", \"homework\", \"gym\",  \"eat\", \"shower\", \"sleep\"]\n",
    "# use of list for efficiency\n",
    "def complete_tasks(tasks):\n",
    "    for task in tasks: \n",
    "        if task == \"have a sanck\":\n",
    "            print(\"slay\")\n",
    "        elif task == \"homework\":\n",
    "            print(\"do not disturb\")\n",
    "        elif task == \"gym\":\n",
    "            print(\"do not distub\")\n",
    "        elif task == \"eat\":\n",
    "            print(\"slay\")\n",
    "        elif task == \"shower\":\n",
    "            print(\"good job\")\n",
    "        elif task == \"sleep\":\n",
    "            print(\"do not disturb\")\n",
    "        \n",
    "        \n",
    "complete_tasks(tasks)"
   ]
  }
 ],
 "metadata": {
  "kernelspec": {
   "display_name": "Python 3.10.6 64-bit",
   "language": "python",
   "name": "python3"
  },
  "language_info": {
   "codemirror_mode": {
    "name": "ipython",
    "version": 3
   },
   "file_extension": ".py",
   "mimetype": "text/x-python",
   "name": "python",
   "nbconvert_exporter": "python",
   "pygments_lexer": "ipython3",
   "version": "3.8.10"
  },
  "orig_nbformat": 4,
  "vscode": {
   "interpreter": {
    "hash": "916dbcbb3f70747c44a77c7bcd40155683ae19c65e1c03b4aa3499c5328201f1"
   }
  }
 },
 "nbformat": 4,
 "nbformat_minor": 2
}
