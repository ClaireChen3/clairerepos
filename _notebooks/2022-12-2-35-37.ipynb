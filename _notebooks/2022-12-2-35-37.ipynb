{
 "cells": [
  {
   "cell_type": "markdown",
   "metadata": {},
   "source": [
    "# 3.5-3.7 Hacks\n",
    "- toc: true \n",
    "- badges: true\n",
    "- comments: true \n",
    "- categories: [Unit 3 Lessons]\n",
    "- permalink: /hacks57\n",
    "- description: logical operators, conditionals"
   ]
  },
  {
   "cell_type": "markdown",
   "metadata": {},
   "source": [
    "## Hack 1"
   ]
  },
  {
   "cell_type": "markdown",
   "metadata": {},
   "source": [
    "### Logical Operators"
   ]
  },
  {
   "cell_type": "markdown",
   "metadata": {},
   "source": [
    "- not \n",
    "    - Shows/does the __opposite of the data__\n",
    "    - mostly used for true false\n",
    "    - ex. if you assign __red to false__, and then you have a variablle called result that you assign the value __not(red)__ to, then it will output __true__\n",
    "    - code example:"
   ]
  },
  {
   "cell_type": "code",
   "execution_count": null,
   "metadata": {},
   "outputs": [],
   "source": [
    "isRed = False\n",
    "green = not(isRed)\n",
    "print(green)"
   ]
  },
  {
   "cell_type": "markdown",
   "metadata": {},
   "source": [
    "- and \n",
    "    - evaluates two conditions together and if both conditions are met and __only if both conditions are met__, will the final result be shown\n",
    "    - ex. if flower = red and flower = green\n",
    "    <br>print(\"christmas flower\")\n",
    "    <br>the flower has to be __both red and green__ for the algorithm to print **chirstmas flower**, if only red, **christmas flower** will not be printed\n",
    "    - code example:"
   ]
  },
  {
   "cell_type": "code",
   "execution_count": null,
   "metadata": {},
   "outputs": [],
   "source": [
    "flower = 50\n",
    "if flower >= 1 and flower <= 100:\n",
    "    print(\"bouquet\")\n",
    "if flower >= 100:\n",
    "    print(\"garden\")\n"
   ]
  },
  {
   "cell_type": "markdown",
   "metadata": {},
   "source": [
    "- or\n",
    "    - only __one of the two__ conditons has to be met\n",
    "    - ex. if temp >=100 or temp <= 20\n",
    "    <br>print (\"stay home\")\n",
    "    - code example:"
   ]
  },
  {
   "cell_type": "code",
   "execution_count": null,
   "metadata": {},
   "outputs": [],
   "source": [
    "temp = 101\n",
    "if temp >= 100 or temp <= 20:\n",
    "    print(\"stay home\")"
   ]
  },
  {
   "cell_type": "markdown",
   "metadata": {},
   "source": [
    "## Hack 2"
   ]
  },
  {
   "cell_type": "markdown",
   "metadata": {},
   "source": [
    "### Conditionals\n"
   ]
  },
  {
   "cell_type": "markdown",
   "metadata": {},
   "source": [
    "evaluates actions in the program (true or false)"
   ]
  },
  {
   "cell_type": "markdown",
   "metadata": {},
   "source": [
    "__Selection__: the result of this block of a selection depends on if a condition is true or false<br><br>\n",
    "__Algorithm__: instructions/steps to accomplish a certain task, or solve a different problem<br><br>\n",
    "__Conditional Statement__: executes certain statements depending on if it is true or false\n"
   ]
  },
  {
   "cell_type": "markdown",
   "metadata": {},
   "source": [
    "### Binary Conditional Logic"
   ]
  },
  {
   "cell_type": "code",
   "execution_count": null,
   "metadata": {},
   "outputs": [],
   "source": [
    "print(\"please enter a number\")\n",
    "x = int(input())\n",
    "\n",
    "if x % 2 == 0:\n",
    "    # if x is divisible by 2 with no remainder\n",
    "    print(x, \"is even\")\n",
    "else:\n",
    "    # if x is not divisible by 2 with no remainder\n",
    "    print(x, \"is odd\")\n"
   ]
  },
  {
   "cell_type": "markdown",
   "metadata": {},
   "source": [
    "#### Nested statement 1"
   ]
  },
  {
   "cell_type": "code",
   "execution_count": null,
   "metadata": {},
   "outputs": [],
   "source": [
    "print(\"are you happy?\")\n",
    "reply = input(\"yes or no\")\n",
    "if reply == \"no\":\n",
    "    print(\"why be sad when you can be glad\")\n",
    "if reply == \"yes\":\n",
    "    print(\"good for you\")"
   ]
  },
  {
   "cell_type": "markdown",
   "metadata": {},
   "source": [
    "#### Nested Statement 2"
   ]
  },
  {
   "cell_type": "code",
   "execution_count": null,
   "metadata": {},
   "outputs": [],
   "source": [
    "print(\"what holiday do you celebrate?\")\n",
    "reply = input(\"Christmas or Hanukkah\")\n",
    "if reply == \"Hanukkah\":\n",
    "    print(\"Happy hanukkah!\")\n",
    "elif reply == \"Christmas\":\n",
    "    print(\"Merry Chirstmas!\")\n",
    "else:\n",
    "    print(\"Happy Holidays!\")"
   ]
  },
  {
   "cell_type": "markdown",
   "metadata": {},
   "source": [
    "#### Nested Statement 3"
   ]
  },
  {
   "cell_type": "code",
   "execution_count": null,
   "metadata": {},
   "outputs": [],
   "source": [
    "print(\"are you a swiftie?\")\n",
    "reply = input(\"yes or no\")\n",
    "if reply == \"yes\":\n",
    "    print(\"slay!\")\n",
    "else:\n",
    "    print(\"oh.\")"
   ]
  },
  {
   "cell_type": "markdown",
   "metadata": {},
   "source": [
    "#### display 4 statements"
   ]
  },
  {
   "cell_type": "code",
   "execution_count": null,
   "metadata": {},
   "outputs": [],
   "source": [
    "print(\"Have you watched criminal minds?\")\n",
    "reply1 = input(\"yes or no?\")\n",
    "if reply1 == \"yes\":\n",
    "    print(\"Who's your favorite character\")\n",
    "    reply2 = input(\"favorite character\")\n",
    "    if reply2 == \"Emily\":\n",
    "        print(\"yay\")\n",
    "    else:\n",
    "        print(\"oh\")\n",
    "else:\n",
    "    print(\"you should\")"
   ]
  },
  {
   "cell_type": "markdown",
   "metadata": {},
   "source": [
    "Stem or no stem?"
   ]
  },
  {
   "cell_type": "code",
   "execution_count": null,
   "metadata": {},
   "outputs": [],
   "source": [
    "print(\"are you interested in stem?\")\n",
    "\n",
    "reply1 = input(\"yes or no\")\n",
    "if reply1 == \"yes\":\n",
    "    list1 = [\"APCSP\", \"AP Biology\", \"AP Statistics\"]\n",
    "    print(\"you should take\", list1)\n",
    "else:\n",
    "    list2 = [\"AP Human Geography\", \"AP World\", \"AP English Language\"]\n",
    "    print(\"you should take\", list2)"
   ]
  }
 ],
 "metadata": {
  "kernelspec": {
   "display_name": "Python 3.10.6 64-bit",
   "language": "python",
   "name": "python3"
  },
  "language_info": {
   "name": "python",
   "version": "3.10.6"
  },
  "orig_nbformat": 4,
  "vscode": {
   "interpreter": {
    "hash": "916dbcbb3f70747c44a77c7bcd40155683ae19c65e1c03b4aa3499c5328201f1"
   }
  }
 },
 "nbformat": 4,
 "nbformat_minor": 2
}
