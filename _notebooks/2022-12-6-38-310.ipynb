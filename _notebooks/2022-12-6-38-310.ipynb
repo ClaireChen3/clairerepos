{
 "cells": [
  {
   "cell_type": "markdown",
   "metadata": {},
   "source": [
    "# 3.8-3.10 Hacks\n",
    "- toc: true\n",
    "- badges: true\n",
    "- comments: true\n",
    "- permalink: /hacks810"
   ]
  },
  {
   "cell_type": "markdown",
   "metadata": {},
   "source": [
    "Iteration: Part of an Algorithm that repeats itself until a certain condition is met"
   ]
  },
  {
   "cell_type": "markdown",
   "metadata": {},
   "source": [
    "1. Start\n",
    "2. the number of petals on a flower is 8\n",
    "3. pick off one petal, and number of petals goes down by one\n",
    "4. How many petals are left?\n",
    "5. repeat step three until number of petals is zero\n",
    "6. Finish"
   ]
  },
  {
   "cell_type": "code",
   "execution_count": 5,
   "metadata": {},
   "outputs": [
    {
     "name": "stdout",
     "output_type": "stream",
     "text": [
      "7\n",
      "I am dumb\n",
      "6\n",
      "I am smart\n",
      "5\n",
      "I am dumb\n",
      "4\n",
      "I am smart\n",
      "3\n",
      "I am dumb\n",
      "2\n",
      "I am smart\n",
      "1\n",
      "I am dumb\n",
      "0\n",
      "No More Petals\n",
      "I am smart\n"
     ]
    }
   ],
   "source": [
    "numPetals = 8\n",
    "while (numPetals > 0):\n",
    "    numPetals -= 1\n",
    "    print(numPetals)\n",
    "    if numPetals == 0:\n",
    "        print(\"No More Petals\")\n",
    "# EXTRA BONUS\n",
    "    if numPetals % 2 == 0:\n",
    "        print(\"I am smart\")\n",
    "    if numPetals % 2 == 1:\n",
    "        print(\"I am dumb\")"
   ]
  },
  {
   "cell_type": "markdown",
   "metadata": {},
   "source": [
    "Iteration Statement: loop repeats zero or more times, until disturbed (loop is stopped)"
   ]
  },
  {
   "cell_type": "code",
   "execution_count": 7,
   "metadata": {},
   "outputs": [
    {
     "name": "stdout",
     "output_type": "stream",
     "text": [
      "3\n",
      "16\n",
      "29\n",
      "42\n",
      "55\n",
      "68\n",
      "81\n"
     ]
    }
   ],
   "source": [
    "i=3\n",
    "while i<=81:\n",
    "\tprint(i)\n",
    "\ti=i+13"
   ]
  },
  {
   "cell_type": "code",
   "execution_count": 9,
   "metadata": {},
   "outputs": [
    {
     "name": "stdout",
     "output_type": "stream",
     "text": [
      "red\n",
      "orange\n",
      "yellow\n"
     ]
    }
   ],
   "source": [
    "colors = [\"red\", \"orange\", \"yellow\", \"green\", \"blue\", \"purple\"]\n",
    "for i in colors:\n",
    "    if i == \"green\":\n",
    "        break\n",
    "    print(i)\n",
    "# it will stop printing after yellow, prints until green"
   ]
  },
  {
   "cell_type": "code",
   "execution_count": 12,
   "metadata": {},
   "outputs": [
    {
     "name": "stdout",
     "output_type": "stream",
     "text": [
      "38\n"
     ]
    }
   ],
   "source": [
    "nums = ['38', '45', '67', '83', '78']\n",
    "least = min(nums)\n",
    "# minimum\n",
    "print(min(nums))\n",
    "# print minimum\n",
    "for i in nums:\n",
    "# loop to check if there are any smaller numbers\n",
    "    if i < (min(nums)):\n",
    "#if there are any numbers that are even smaller than the one before, it will print the new one, but there isn't.\n",
    "        print(i)"
   ]
  }
 ],
 "metadata": {
  "kernelspec": {
   "display_name": "Python 3.10.6 64-bit",
   "language": "python",
   "name": "python3"
  },
  "language_info": {
   "codemirror_mode": {
    "name": "ipython",
    "version": 3
   },
   "file_extension": ".py",
   "mimetype": "text/x-python",
   "name": "python",
   "nbconvert_exporter": "python",
   "pygments_lexer": "ipython3",
   "version": "3.10.6"
  },
  "orig_nbformat": 4,
  "vscode": {
   "interpreter": {
    "hash": "916dbcbb3f70747c44a77c7bcd40155683ae19c65e1c03b4aa3499c5328201f1"
   }
  }
 },
 "nbformat": 4,
 "nbformat_minor": 2
}
