{
 "cells": [
  {
   "cell_type": "markdown",
   "metadata": {},
   "source": [
    "# Unit 3 Notes\n",
    "- toc: true\n",
    "- badges: true\n",
    "- comments: true\n",
    "- permalink: /Notes3"
   ]
  },
  {
   "cell_type": "markdown",
   "metadata": {},
   "source": [
    "## 1-2"
   ]
  },
  {
   "cell_type": "markdown",
   "metadata": {},
   "source": [
    "#### Variables\n",
    "- Variables are containers that hold a certain value/ data\n",
    "- there are different datatypes that a variable can store\n",
    "    - string (text/ letters)\n",
    "    - int (number)\n",
    "    - boolean (true false)\n",
    "- to assign a value to a variable, you use an assignment operator which is (=)\n",
    "    - -> in pseudocode\n",
    "- variables should align with the data that it stores"
   ]
  },
  {
   "cell_type": "code",
   "execution_count": 5,
   "metadata": {},
   "outputs": [
    {
     "name": "stdout",
     "output_type": "stream",
     "text": [
      "claire\n"
     ]
    }
   ],
   "source": [
    "# assign \"claire\" to the variable c with an =\n",
    "name = \"claire\"\n",
    "# can print just the variable instead of the whole name\n",
    "print(c)\n",
    "# this datatype is string so you need \"\""
   ]
  },
  {
   "cell_type": "code",
   "execution_count": 3,
   "metadata": {},
   "outputs": [
    {
     "name": "stdout",
     "output_type": "stream",
     "text": [
      "1\n"
     ]
    }
   ],
   "source": [
    "# int example\n",
    "a = 1\n",
    "# ints don't need \"\"\n",
    "print(a)"
   ]
  },
  {
   "cell_type": "code",
   "execution_count": 6,
   "metadata": {},
   "outputs": [
    {
     "name": "stdout",
     "output_type": "stream",
     "text": [
      "True\n"
     ]
    }
   ],
   "source": [
    "# boolean example\n",
    "Answer = True\n",
    "print(a)"
   ]
  },
  {
   "cell_type": "markdown",
   "metadata": {},
   "source": [
    "#### Strings and Lists\n",
    "- strings can be a series of words or numbers (including phone numbers)\n",
    "- lists store a series of variables, words, or numbers\n",
    "- syntax: square brakets\n",
    "- easier than assigning variable to each value"
   ]
  },
  {
   "cell_type": "code",
   "execution_count": 10,
   "metadata": {},
   "outputs": [
    {
     "name": "stdout",
     "output_type": "stream",
     "text": [
      "claire claire grace annika\n",
      "['claire', 'claire', 'grace', 'annika']\n"
     ]
    }
   ],
   "source": [
    "# no\n",
    "name1 = \"claire\"\n",
    "name2 = \"claire\"\n",
    "name3 = \"grace\"\n",
    "name4 = \"annika\"\n",
    "print(name1, name2, name3, name4)\n",
    "\n",
    "# yes\n",
    "names = [\"claire\", \"claire\", \"grace\", \"annika\"]\n",
    "print(names)"
   ]
  },
  {
   "cell_type": "markdown",
   "metadata": {},
   "source": [
    "## 3-4"
   ]
  },
  {
   "cell_type": "markdown",
   "metadata": {},
   "source": [
    "#### Algorithms\n",
    "- set of instructions to do certain tasks\n",
    "- parts of an algorithm\n",
    "    - sequence (order)\n",
    "    - selection (decision dependant on condition)\n",
    "    - iteration (loop until condition is met)"
   ]
  },
  {
   "cell_type": "markdown",
   "metadata": {},
   "source": [
    "##### Sequence\n",
    "- step 1\n",
    "- step 2\n",
    "- step 3\n",
    "##### Selection\n",
    "- if this is right, then do this\n",
    "- otherwise, do that\n",
    "##### Iteration\n",
    "- repeat this step until you get this"
   ]
  },
  {
   "cell_type": "markdown",
   "metadata": {},
   "source": [
    "#### Arithmetic Operators\n",
    "- add\n",
    "- subtract\n",
    "- multiply\n",
    "- divide\n",
    "- mod (remainder)"
   ]
  },
  {
   "cell_type": "code",
   "execution_count": 12,
   "metadata": {},
   "outputs": [
    {
     "name": "stdout",
     "output_type": "stream",
     "text": [
      "2\n"
     ]
    }
   ],
   "source": [
    "# add\n",
    "Answer = 1 + 1\n",
    "print(Answer)"
   ]
  },
  {
   "cell_type": "code",
   "execution_count": 13,
   "metadata": {},
   "outputs": [
    {
     "name": "stdout",
     "output_type": "stream",
     "text": [
      "0\n"
     ]
    }
   ],
   "source": [
    "# subtract\n",
    "Answer = 1 - 1\n",
    "print(Answer)"
   ]
  },
  {
   "cell_type": "code",
   "execution_count": 14,
   "metadata": {},
   "outputs": [
    {
     "name": "stdout",
     "output_type": "stream",
     "text": [
      "1\n"
     ]
    }
   ],
   "source": [
    "# multiply\n",
    "Answer = 1 * 1\n",
    "print(Answer)"
   ]
  },
  {
   "cell_type": "code",
   "execution_count": 16,
   "metadata": {},
   "outputs": [
    {
     "name": "stdout",
     "output_type": "stream",
     "text": [
      "1.0\n"
     ]
    }
   ],
   "source": [
    "# divide\n",
    "Answer = 1 / 1\n",
    "print(Answer)"
   ]
  },
  {
   "cell_type": "code",
   "execution_count": 17,
   "metadata": {},
   "outputs": [
    {
     "name": "stdout",
     "output_type": "stream",
     "text": [
      "0\n"
     ]
    }
   ],
   "source": [
    "# mod\n",
    "Answer = 1 % 1\n",
    "print(Answer)\n",
    "# 1/1 has no remainder"
   ]
  },
  {
   "cell_type": "markdown",
   "metadata": {},
   "source": [
    "#### Strings\n",
    "- len (string)\n",
    "- concat (str1, str2)\n",
    "- substring (str1, str2, length)"
   ]
  },
  {
   "cell_type": "code",
   "execution_count": 18,
   "metadata": {},
   "outputs": [
    {
     "data": {
      "text/plain": [
       "6"
      ]
     },
     "execution_count": 18,
     "metadata": {},
     "output_type": "execute_result"
    }
   ],
   "source": [
    "len(\"claire\")\n",
    "# print the number of letters\n"
   ]
  },
  {
   "cell_type": "code",
   "execution_count": 23,
   "metadata": {},
   "outputs": [
    {
     "name": "stdout",
     "output_type": "stream",
     "text": [
      "aire\n"
     ]
    }
   ],
   "source": [
    "string = \"ClaireChen\"\n",
    "print(string[2:6])\n",
    "# prints 2nd to 6th letter"
   ]
  },
  {
   "cell_type": "markdown",
   "metadata": {},
   "source": [
    "## 5-7"
   ]
  },
  {
   "cell_type": "markdown",
   "metadata": {},
   "source": [
    "- Boolean (true false)\n",
    "- rational operators\n",
    "    - equal to\n",
    "    - greater than\n",
    "    - less than\n",
    "- logical operators\n",
    "    - not (opposite)\n",
    "    - and (if both apply)\n",
    "    - or (if either apply)"
   ]
  },
  {
   "cell_type": "code",
   "execution_count": 24,
   "metadata": {},
   "outputs": [
    {
     "name": "stdout",
     "output_type": "stream",
     "text": [
      "True\n"
     ]
    }
   ],
   "source": [
    "# Boolean and logical operators\n",
    "isRaining = False\n",
    "# if it is not raining\n",
    "result = not(isRaining)\n",
    "# the result is the opposite of raining (is not raining)\n",
    "print(result)"
   ]
  },
  {
   "cell_type": "code",
   "execution_count": 31,
   "metadata": {},
   "outputs": [
    {
     "name": "stdout",
     "output_type": "stream",
     "text": [
      "passed\n"
     ]
    }
   ],
   "source": [
    "grade = 95\n",
    "if grade > 70 and grade <= 100:\n",
    "    print(\"passed\")"
   ]
  },
  {
   "cell_type": "code",
   "execution_count": 28,
   "metadata": {},
   "outputs": [
    {
     "name": "stdout",
     "output_type": "stream",
     "text": [
      "red or green flower\n"
     ]
    }
   ],
   "source": [
    "flower = \"red\"\n",
    "if flower == \"red\" or \"green\":\n",
    "    print(\"red or green flower\")\n",
    "# either red or green"
   ]
  },
  {
   "cell_type": "markdown",
   "metadata": {},
   "source": [
    "#### Conditionals\n",
    "- if\n",
    "- then\n",
    "- else if/ elif\n",
    "- this is selection"
   ]
  },
  {
   "cell_type": "code",
   "execution_count": 33,
   "metadata": {},
   "outputs": [
    {
     "name": "stdout",
     "output_type": "stream",
     "text": [
      "bouquet\n"
     ]
    }
   ],
   "source": [
    "# example\n",
    "flower = 3\n",
    "if flower == 1:\n",
    "    print(\"flower\")\n",
    "elif flower >= 1:\n",
    "    print(\"bouquet\")\n"
   ]
  },
  {
   "cell_type": "markdown",
   "metadata": {},
   "source": [
    "#### Nested Conditionals \n",
    "- conditionals within conditionals"
   ]
  },
  {
   "cell_type": "code",
   "execution_count": 34,
   "metadata": {},
   "outputs": [
    {
     "name": "stdout",
     "output_type": "stream",
     "text": [
      "Have you watched criminal minds?\n",
      "Who's your favorite character\n",
      "yay\n"
     ]
    }
   ],
   "source": [
    "print(\"Have you watched criminal minds?\")\n",
    "reply1 = input(\"yes or no?\")\n",
    "# first conditional\n",
    "if reply1 == \"yes\":\n",
    "# within the condition yes, you can enter your fav character\n",
    "    print(\"Who's your favorite character\")\n",
    "    reply2 = input(\"favorite character\")\n",
    "# if you enter Emily, it prints yay, othewise it prints oh\n",
    "    if reply2 == \"Emily\":\n",
    "        print(\"yay\")\n",
    "    else:\n",
    "        print(\"oh\")\n",
    "# from the first yes or no conditional, if you dont say yes, it prints you should\n",
    "else:\n",
    "    print(\"you should\")"
   ]
  },
  {
   "cell_type": "markdown",
   "metadata": {},
   "source": [
    "## 8-10"
   ]
  },
  {
   "cell_type": "markdown",
   "metadata": {},
   "source": [
    "- Iteration: repeats a specified number of times or until a given condition is met\n",
    "\n",
    "- Iteration Statements: repeats zero or more times, until a stopping condition is met\n",
    "- Traversing Lists: all elements in the list are accessed (can be partial or complete)\n",
    "\n"
   ]
  },
  {
   "cell_type": "code",
   "execution_count": 5,
   "metadata": {},
   "outputs": [
    {
     "name": "stdout",
     "output_type": "stream",
     "text": [
      "repeat\n",
      "repeat\n",
      "repeat\n",
      "repeat\n",
      "repeat\n"
     ]
    }
   ],
   "source": [
    "# iteration example\n",
    "\n",
    "i = 0\n",
    "# starting from 0, if from one it would print 4 times\n",
    "while (i < 5):\n",
    "# print repeat 5 times\n",
    "    print(\"repeat\")\n",
    "    i = i + 1"
   ]
  },
  {
   "cell_type": "code",
   "execution_count": 7,
   "metadata": {},
   "outputs": [
    {
     "name": "stdout",
     "output_type": "stream",
     "text": [
      "1\n",
      "2\n",
      "3\n",
      "4\n",
      "5\n",
      "6\n",
      "7\n",
      "8\n",
      "9\n",
      "10\n"
     ]
    }
   ],
   "source": [
    "# counting loop example\n",
    "for i in range(1,11):\n",
    "# start from 1 up until 11, kind of like intervals in math\n",
    "    print(i)"
   ]
  },
  {
   "cell_type": "markdown",
   "metadata": {},
   "source": [
    "#### difference between for and while loops\n"
   ]
  },
  {
   "cell_type": "markdown",
   "metadata": {},
   "source": [
    "for loop is used when the number of iterations is known\n",
    "while loop is repeated until the statement in the program is proved wrong"
   ]
  },
  {
   "cell_type": "markdown",
   "metadata": {},
   "source": [
    "list recap\n",
    "- Append adds something to the list (at the end of the list)\n",
    "- Insert adds something to the list (anywhere in the list)\n",
    "- Removes whatever is at the index you put\n",
    "- you can assign the values of a list to another list"
   ]
  },
  {
   "cell_type": "markdown",
   "metadata": {},
   "source": [
    "## 12-13"
   ]
  },
  {
   "cell_type": "markdown",
   "metadata": {},
   "source": [
    "- Procedures: basically same as function\n",
    "- Parameters are independent variables used in the procedure to produce a result. It allows a procedure to execute without initially knowing specific input values."
   ]
  },
  {
   "cell_type": "code",
   "execution_count": null,
   "metadata": {},
   "outputs": [],
   "source": [
    "# example of parameters\n",
    "x = 5\n",
    "y = 3\n",
    "\n",
    "# kind of states the variables being used in the function\n",
    "def multiply(x, y):\n",
    "    product = x * y\n",
    "    return product\n",
    "\n",
    "answer = multiply(x, y)\n",
    "print(\"The product of\", x, \"times\", y, \"is\", answer)"
   ]
  },
  {
   "cell_type": "markdown",
   "metadata": {},
   "source": [
    "#### how to call a function\n",
    "- nameFunction(parameters)"
   ]
  },
  {
   "cell_type": "code",
   "execution_count": null,
   "metadata": {},
   "outputs": [],
   "source": [
    "# example of calling\n",
    "num = 5\n",
    "# the function math is being called\n",
    "# the parameter is x\n",
    "def math(x):\n",
    "    op1 = x * 2\n",
    "    op2 = op1 - 9\n",
    "    return op2"
   ]
  },
  {
   "cell_type": "markdown",
   "metadata": {},
   "source": [
    "#### the return statemnt\n",
    "- A return statement ends the execution of a function, and returns control to the calling function"
   ]
  },
  {
   "cell_type": "code",
   "execution_count": null,
   "metadata": {},
   "outputs": [],
   "source": [
    "# example of return statement\n",
    "# called function named divide\n",
    "# parameters are num1 and num2\n",
    "def divide(num1,num2):\n",
    "      x = num1/num2\n",
    "      return x"
   ]
  },
  {
   "cell_type": "markdown",
   "metadata": {},
   "source": [
    "#### Vocab\n",
    "- Modularity - breaking a complex program into smaller, independent parts (modules) that can be used and reused in different parts of the program\n",
    "- Abstraction - hiding the details of how a particular code or system works and exposing only the essential features or functions (make it look clean)\n",
    "- Duplication - having multiple duplicate code blocks, often decreasing readability and efficiency (bad)\n",
    "- Logic - the sequence of steps and operations that a computer follows to execute a program, including the specific instructions and decision-making processes built into the code"
   ]
  },
  {
   "cell_type": "code",
   "execution_count": 8,
   "metadata": {},
   "outputs": [],
   "source": [
    "# break up into two pieces\n",
    "# this function squares numbers to avoid duplicates\n",
    "def square(a):\n",
    "    return a * a\n",
    "# this function returns the square root of the sum of the two squared legs to find the hypotenuse\n",
    "def hypotenuse_abstracted(leg1, leg2):\n",
    "    leg1_squared = square(leg1)\n",
    "    leg2_squared = square(leg2)\n",
    "    return math.sqrt(leg1_squared + leg2_squared)\n"
   ]
  },
  {
   "cell_type": "markdown",
   "metadata": {},
   "source": [
    "## 14-15"
   ]
  },
  {
   "cell_type": "markdown",
   "metadata": {},
   "source": [
    "#### Libraries"
   ]
  },
  {
   "cell_type": "markdown",
   "metadata": {},
   "source": [
    "- A library has functions that can later be accessed in new programs\n",
    "- A library is a collection of code from another source that can be used to add functionality to a program\n",
    "    - save time and effort in the development process\n",
    "    - \" .\" tells the program to look for the library and use its code"
   ]
  },
  {
   "cell_type": "code",
   "execution_count": 1,
   "metadata": {},
   "outputs": [
    {
     "data": {
      "text/plain": [
       "3.0"
      ]
     },
     "execution_count": 1,
     "metadata": {},
     "output_type": "execute_result"
    }
   ],
   "source": [
    "# math is a library\n",
    "import math\n",
    "x = int(input())\n",
    "math.sqrt(x)"
   ]
  },
  {
   "cell_type": "markdown",
   "metadata": {},
   "source": [
    "#### Random"
   ]
  },
  {
   "cell_type": "markdown",
   "metadata": {},
   "source": [
    "- randomly generates a number between a set of two given numbers\n",
    "- have to import the library random"
   ]
  },
  {
   "cell_type": "code",
   "execution_count": 5,
   "metadata": {},
   "outputs": [
    {
     "name": "stdout",
     "output_type": "stream",
     "text": [
      "1\n"
     ]
    }
   ],
   "source": [
    "import random\n",
    "\n",
    "answer1 = random.randint(0,3)\n",
    "print(answer1)"
   ]
  },
  {
   "cell_type": "markdown",
   "metadata": {},
   "source": [
    "random has a lot of different methods like \n",
    "    - seed() | Initialize the random number generator\n",
    "\n",
    "    - getstate() | Returns the current internal state of the random number generator\n",
    "\n",
    "    - setstate() | Restores the internal state of the random number generator\n",
    "\n",
    "    - getrandbits() | Returns a number representing the random bits\n",
    "\n",
    "    - randrange() | Returns a random number between the given range\n",
    "\n",
    "    - randint() | Returns a random number between the given range"
   ]
  },
  {
   "cell_type": "markdown",
   "metadata": {},
   "source": [
    "## 16"
   ]
  },
  {
   "cell_type": "markdown",
   "metadata": {},
   "source": [
    "#### Simmulation"
   ]
  },
  {
   "cell_type": "markdown",
   "metadata": {},
   "source": [
    "- def: a virtual experiment or an immitation of a process\n",
    "- ex. testing the safety of a car or a game"
   ]
  },
  {
   "cell_type": "markdown",
   "metadata": {},
   "source": [
    "#### Experiment"
   ]
  },
  {
   "cell_type": "markdown",
   "metadata": {},
   "source": [
    "- a process done to make a discovery, test a hypothesis, or demonstrate a known fact\n"
   ]
  },
  {
   "cell_type": "markdown",
   "metadata": {},
   "source": [
    "- simulations can be safer, cheaper, and more efficient, but also less accurate\n",
    "- simulations aren't always the same"
   ]
  },
  {
   "cell_type": "markdown",
   "metadata": {},
   "source": [
    "## 17-18"
   ]
  }
 ],
 "metadata": {
  "kernelspec": {
   "display_name": "Python 3.10.6 64-bit",
   "language": "python",
   "name": "python3"
  },
  "language_info": {
   "codemirror_mode": {
    "name": "ipython",
    "version": 3
   },
   "file_extension": ".py",
   "mimetype": "text/x-python",
   "name": "python",
   "nbconvert_exporter": "python",
   "pygments_lexer": "ipython3",
   "version": "3.10.6"
  },
  "orig_nbformat": 4,
  "vscode": {
   "interpreter": {
    "hash": "916dbcbb3f70747c44a77c7bcd40155683ae19c65e1c03b4aa3499c5328201f1"
   }
  }
 },
 "nbformat": 4,
 "nbformat_minor": 2
}
