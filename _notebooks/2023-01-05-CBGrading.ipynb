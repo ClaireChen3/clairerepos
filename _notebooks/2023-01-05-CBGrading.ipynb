{
 "cells": [
  {
   "cell_type": "markdown",
   "metadata": {},
   "source": [
    "# College Board Grading\n",
    "- toc: true \n",
    "- badges: true\n",
    "- comments: true \n",
    "- categories: [week 14]\n",
    "- description: comparison of mine and CB grades to become familiar with CB rubric"
   ]
  },
  {
   "cell_type": "markdown",
   "metadata": {},
   "source": [
    "![](https://i.imgur.com/xAzdmmv.png)"
   ]
  },
  {
   "cell_type": "markdown",
   "metadata": {},
   "source": [
    "![](https://i.imgur.com/YvoLmGw.png)"
   ]
  },
  {
   "cell_type": "markdown",
   "metadata": {},
   "source": [
    "Review the score given by the AP scorers and reflect:\n",
    "- on any discrepancies in your scoring versus the ap scoring\n",
    "For the fist submission, I got confused with the purpose and function so I checked it off on the checklist, but then I realized what the difference between purpose and function was and graded the second one properly\n",
    "\n",
    "\n",
    "- on what your program will need to fulfill all requirements\n",
    "    - have a user input\n",
    "    - have an out put\n",
    "    - preferably have something that shows the process of how the input resulted in the output\n",
    "    - have a clear and detailed description of the function (what the program is doing)\n",
    "    - have a clear and detailed description of the purpose (the general goal/ why you made the program)\n",
    "    - describe the input that was inputed in the demonstration video and what happens to it in order to get the output\n",
    "\n",
    "- on the criteria and why a submission may have failed to meet the standard\n",
    "the first submission didn't meet the standard because their descriptions for everything could've been a lot more detailed and they probably got confused on the difference between a function and a purpose like I did and just put the function, so they didn't get the point for the missing purpose."
   ]
  }
 ],
 "metadata": {
  "kernelspec": {
   "display_name": "Python 3.10.6 64-bit",
   "language": "python",
   "name": "python3"
  },
  "language_info": {
   "name": "python",
   "version": "3.10.6"
  },
  "orig_nbformat": 4,
  "vscode": {
   "interpreter": {
    "hash": "916dbcbb3f70747c44a77c7bcd40155683ae19c65e1c03b4aa3499c5328201f1"
   }
  }
 },
 "nbformat": 4,
 "nbformat_minor": 2
}
