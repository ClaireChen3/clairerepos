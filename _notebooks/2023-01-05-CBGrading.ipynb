{
 "cells": [
  {
   "cell_type": "markdown",
   "metadata": {},
   "source": [
    "# College Board Grading 1\n",
    "- toc: true \n",
    "- badges: true\n",
    "- comments: true \n",
    "- categories: [week 17]\n",
    "- description: comparison of mine and CB grades to become familiar with CB rubric"
   ]
  },
  {
   "cell_type": "markdown",
   "metadata": {},
   "source": [
    "Review the score given by the AP scorers and reflect:\n",
    "- on any discrepancies in your scoring versus the ap scoring\n",
    "<br>For the fist row of the first submission, I got confused with the purpose and function so I checked it off on the checklist, but then I realized what the difference between purpose and function and noticed that the student did not have the purpose and probably got confused like I did. Other than that, my grading was pretty much the same as the college board ones.\n",
    "\n",
    "\n",
    "- on what your program will need to fulfill all requirements\n",
    "    - have a user input\n",
    "    - have an out put\n",
    "    - preferably have something that shows the process of how the input resulted in the output\n",
    "    - have a clear and detailed description of the function (what the program is doing)\n",
    "    - have a clear and detailed description of the purpose (the general goal/ why you made the program)\n",
    "    - describe the input that was inputed in the demonstration video and what happens to it in order to get the output\n",
    "    - use lists that help manage complexity\n",
    "    - have a function that can be called multiple times.\n",
    "    - the function should include all the components of an algorithm\n",
    "<br>\n",
    "\n",
    "- on the criteria and why a submission may have failed to meet the standard\n",
    "<br>The first submission didn't meet the standard because their descriptions for everything could've been a lot more detailed and they were missing purpose of their project. Also, their list didn't help to manage the complexity of the program"
   ]
  }
 ],
 "metadata": {
  "kernelspec": {
   "display_name": "Python 3.10.6 64-bit",
   "language": "python",
   "name": "python3"
  },
  "language_info": {
   "name": "python",
   "version": "3.8.10"
  },
  "orig_nbformat": 4,
  "vscode": {
   "interpreter": {
    "hash": "916dbcbb3f70747c44a77c7bcd40155683ae19c65e1c03b4aa3499c5328201f1"
   }
  }
 },
 "nbformat": 4,
 "nbformat_minor": 2
}
