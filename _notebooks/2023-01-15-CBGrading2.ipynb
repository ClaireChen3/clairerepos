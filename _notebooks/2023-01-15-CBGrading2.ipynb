{
 "cells": [
  {
   "cell_type": "markdown",
   "metadata": {},
   "source": [
    "# College Board Grading\n",
    "- toc: true \n",
    "- badges: true\n",
    "- comments: true \n",
    "- categories: [week 18]\n",
    "- description: comparison of mine and CB grades to become familiar with CB rubric"
   ]
  },
  {
   "cell_type": "markdown",
   "metadata": {},
   "source": [
    "Review the score given by the AP scorers and reflect:\n",
    "- on any discrepancies in your scoring versus the ap scoring\n",
    "<br>My scores this time are definitely more like the college board scoring as I am getting more familiar with what the rubric is really looking for, but i still got a little confused on some small things, for example, what managing complexity through a list really looks like.\n",
    "\n",
    "\n",
    "- on what your program will need to fulfill all requirements\n",
    "    - have a user input\n",
    "    - have an out put\n",
    "    - preferably have something that shows the process of how the input resulted in the output\n",
    "    - have a clear and detailed description of the function (what the program is doing)\n",
    "    - have a clear and detailed description of the purpose (the general goal/ why you made the program)\n",
    "    - describe the input that was inputed in the demonstration video and what happens to it in order to get the output\n",
    "    - use lists that help manage complexity\n",
    "    - have a function that can be called multiple times.\n",
    "    - the function should include all the components of an algorithm\n",
    "<br>\n",
    "\n",
    "- on the criteria and why a submission may have failed to meet the standard\n",
    "<br>The forth submission didn't meet the standard for the third row because although they did have two lists, one of the lists wasn't really contributing anything to the functionality of the program and, therefore, didn't count"
   ]
  }
 ],
 "metadata": {
  "kernelspec": {
   "display_name": "Python 3.9.12 ('base')",
   "language": "python",
   "name": "python3"
  },
  "language_info": {
   "name": "python",
   "version": "3.9.12"
  },
  "orig_nbformat": 4,
  "vscode": {
   "interpreter": {
    "hash": "ab0e85a9c08cdbd4c52a9b79d1ef72a54d0123135181235dd24754d6bea1e8b9"
   }
  }
 },
 "nbformat": 4,
 "nbformat_minor": 2
}
