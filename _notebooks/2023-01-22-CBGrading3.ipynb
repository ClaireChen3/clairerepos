{
 "cells": [
  {
   "cell_type": "markdown",
   "metadata": {},
   "source": [
    "# College Board Grading 3\n",
    "- toc: true \n",
    "- badges: true\n",
    "- comments: true \n",
    "- categories: [week 19]\n",
    "- description: comparison of mine and CB grades to become familiar with CB rubric"
   ]
  },
  {
   "cell_type": "markdown",
   "metadata": {},
   "source": [
    "Review the score given by the AP scorers and reflect:\n",
    "- on any discrepancies in your scoring versus the ap scoring\n",
    "<br>There aren't many differences between my grading and the college board grading, but here are some things I've noticed and picked up on in their grading.\n",
    "\n",
    "- They like very detailed descriptions, especially when describing the algorithm that you make.\n",
    "- both lists made have to contribute to program and show that it manages complexity\n",
    "\n",
    "- on what your program will need to fulfill all requirements\n",
    "    - have a user input and output when running\n",
    "    - have a clear and detailed description of the function (what the program is doing)\n",
    "    - have a clear and detailed description of the purpose (the general goal/ why you made the program)\n",
    "    - have two lists that help manage complexity and store data\n",
    "    have detailed descriptions of these lists and how they manage complexity\n",
    "    - have a function that can be called multiple times and describe what that function is doing to help the program function\n",
    "    - the function should include all the components of an algorithm \n",
    "    - have a detailed description of the algorithm (step by step what it is doing)\n",
    "    - describe the calls and the conditions it is testing\n",
    "    - show result of the call\n",
    "<br>\n",
    "\n",
    "- on the criteria and why a submission may have failed to meet the standard\n",
    "<br>The 1st submission didn't meet the standard for the 1st row because there was no description of the overall function of the program and they mixed up the input and the output and didn't explain them"
   ]
  }
 ],
 "metadata": {
  "kernelspec": {
   "display_name": "Python 3.9.12 ('base')",
   "language": "python",
   "name": "python3"
  },
  "language_info": {
   "name": "python",
   "version": "3.9.12"
  },
  "orig_nbformat": 4,
  "vscode": {
   "interpreter": {
    "hash": "ab0e85a9c08cdbd4c52a9b79d1ef72a54d0123135181235dd24754d6bea1e8b9"
   }
  }
 },
 "nbformat": 4,
 "nbformat_minor": 2
}
