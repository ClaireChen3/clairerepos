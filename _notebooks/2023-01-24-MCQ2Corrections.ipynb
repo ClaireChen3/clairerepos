{
 "cells": [
  {
   "cell_type": "markdown",
   "metadata": {},
   "source": [
    "# College Board MCQ 2 Corrections\n",
    "- toc: true \n",
    "- badges: true\n",
    "- comments: true \n",
    "- categories: [week 20]"
   ]
  },
  {
   "cell_type": "markdown",
   "metadata": {},
   "source": [
    "### Q5\n",
    "![](https://i.imgur.com/L8zK2Ro.png)\n",
    "The answer is B because you have to set the temporary variable to one of the values before you switch the values"
   ]
  },
  {
   "cell_type": "markdown",
   "metadata": {},
   "source": [
    "### Q10\n",
    "![](https://i.imgur.com/LUMzW46.png)\n",
    "The answer is B and C because since it just has to be greater than or equal to, it just can't be less then."
   ]
  },
  {
   "cell_type": "markdown",
   "metadata": {},
   "source": [
    "### Q16\n",
    "![](https://i.imgur.com/2l8vH8H.png)\n",
    "The answer is C because it needs a selection to test the condition if the number is an integer and is an even number"
   ]
  },
  {
   "cell_type": "markdown",
   "metadata": {},
   "source": [
    "### Q39\n",
    "![](https://i.imgur.com/IKMk7UB.png)\n",
    "The answer is C because on the 2nd step, the robot needs to turn right 3 times to go left"
   ]
  }
 ],
 "metadata": {
  "kernelspec": {
   "display_name": "Python 3.9.12 ('base')",
   "language": "python",
   "name": "python3"
  },
  "language_info": {
   "name": "python",
   "version": "3.9.12"
  },
  "orig_nbformat": 4,
  "vscode": {
   "interpreter": {
    "hash": "ab0e85a9c08cdbd4c52a9b79d1ef72a54d0123135181235dd24754d6bea1e8b9"
   }
  }
 },
 "nbformat": 4,
 "nbformat_minor": 2
}
