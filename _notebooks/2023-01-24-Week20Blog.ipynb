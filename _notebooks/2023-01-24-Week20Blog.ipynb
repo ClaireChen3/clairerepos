{
 "cells": [
  {
   "cell_type": "markdown",
   "metadata": {},
   "source": [
    "# Project Approval\n",
    "- toc: true \n",
    "- badges: true\n",
    "- comments: true \n",
    "- categories: [week 19]"
   ]
  },
  {
   "cell_type": "markdown",
   "metadata": {},
   "source": [
    "### Individual: 5.1, 5.2 Blog\n",
    "Think of three beneficial effects of your projects based on 5.1 Unit\n",
    "- Women can track their periods by simply putting in the date of their last period\n",
    "- People can learn more about period symptoms and how to relieve them\n",
    "- People can get motivational quotes when they feel down or are experiencing PMS\n",
    "\n",
    "<br>Think of a potential harmful effect of your project.\n",
    "- our project does not have many harmful affects, but it isn't that applicable to men\n",
    "<br>\n",
    "Answer with an opinion and learnings so far this year:  \n",
    "\n",
    "- What are pros/cons on internet blockers at router and lack of admin password on lab machines at school?\n",
    "\n",
    "pros:\n",
    "    - only appropriate content will be accessed by students\n",
    "cons:\n",
    "    - some websites needed for school might be blocked\n",
    "\n",
    "- What concerns do you have personally about the digital divide? For yourself or for others<br>\n",
    "some countries that don't have that much access to as much technology might fall behind economically because they don't have the resources they need to progress."
   ]
  }
 ],
 "metadata": {
  "kernelspec": {
   "display_name": "Python 3.9.12 ('base')",
   "language": "python",
   "name": "python3"
  },
  "language_info": {
   "name": "python",
   "version": "3.9.12"
  },
  "orig_nbformat": 4,
  "vscode": {
   "interpreter": {
    "hash": "ab0e85a9c08cdbd4c52a9b79d1ef72a54d0123135181235dd24754d6bea1e8b9"
   }
  }
 },
 "nbformat": 4,
 "nbformat_minor": 2
}
