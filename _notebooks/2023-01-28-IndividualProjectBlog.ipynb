{
 "cells": [
  {
   "cell_type": "markdown",
   "metadata": {},
   "source": [
    "# Individual Project Blog\n",
    "- toc: true \n",
    "- badges: true\n",
    "- comments: true \n",
    "- categories: [week 20]"
   ]
  },
  {
   "cell_type": "markdown",
   "metadata": {},
   "source": [
    " Each individual performs starts \"pre-view\" outline/write-up of materials required for College Board. <br>\n",
    "Describe portion of Project you will use for Create Performance task<br>\n",
    "Describe code plan as it is required for CB,<br>\n",
    "Consider what will be demonstrated in video, aka video plan<br>"
   ]
  },
  {
   "cell_type": "markdown",
   "metadata": {},
   "source": [
    "I will probably use the user sign in for my create performance task as it uses lists and shows a connection between the frontend and backend. I plan to show the input and output of the symptoms checklist and describe the purpose and the function like I did in this weeks presentation. I will show data storage through a list in the backend. This data will then be used to predict symptoms for each day of the user's period or cycle. Show and describe the function I made for the symptoms checklist and where is is called. Explain how the checklist function uses sequencing, selection, and iteration. Describe the conditions that the function is testing and the result of that.\n",
    "<br>visuals included for video\n",
    "- show usage of the symptoms checklist (input and output)\n",
    "- show how it updates the user input list "
   ]
  }
 ],
 "metadata": {
  "kernelspec": {
   "display_name": "Python 3.9.12 ('base')",
   "language": "python",
   "name": "python3"
  },
  "language_info": {
   "name": "python",
   "version": "3.9.12"
  },
  "orig_nbformat": 4,
  "vscode": {
   "interpreter": {
    "hash": "ab0e85a9c08cdbd4c52a9b79d1ef72a54d0123135181235dd24754d6bea1e8b9"
   }
  }
 },
 "nbformat": 4,
 "nbformat_minor": 2
}
