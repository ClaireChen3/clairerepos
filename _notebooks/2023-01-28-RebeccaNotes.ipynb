{
 "cells": [
  {
   "cell_type": "markdown",
   "metadata": {},
   "source": [
    "# Notes on Rebecca and Aadya's Project Outline\n",
    "- toc: true \n",
    "- badges: true\n",
    "- comments: true \n",
    "- categories: [week 20]"
   ]
  },
  {
   "cell_type": "markdown",
   "metadata": {},
   "source": [
    "- mentioned both purpose and audience (bigger picture)\n",
    "- their website applies to us (Del Norte students)\n",
    "- includes their goal/function and their progress on it so far\n",
    "- CRUD (create, remove, update, delete)\n",
    "- uses lists in backend to save user data\n",
    "- sign up AND login page for new and existing users\n",
    "- we can add a user input for reviews, and other women's input or motivation\n",
    "- add some ways men can help, contribute to this\n",
    "- Model, View, Control: submit data and send to backend, info will then be saved and stored and only admin can edit, new files will be saved.\n"
   ]
  }
 ],
 "metadata": {
  "kernelspec": {
   "display_name": "Python 3.9.12 ('base')",
   "language": "python",
   "name": "python3"
  },
  "language_info": {
   "name": "python",
   "version": "3.9.12"
  },
  "orig_nbformat": 4,
  "vscode": {
   "interpreter": {
    "hash": "ab0e85a9c08cdbd4c52a9b79d1ef72a54d0123135181235dd24754d6bea1e8b9"
   }
  }
 },
 "nbformat": 4,
 "nbformat_minor": 2
}
