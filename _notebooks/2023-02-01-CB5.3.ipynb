{
 "cells": [
  {
   "cell_type": "markdown",
   "metadata": {},
   "source": [
    "# College Board 5.3 and 5.4\n",
    "- toc: true \n",
    "- badges: true\n",
    "- comments: true \n",
    "- categories: [week 21]\n",
    "- description: Computing Bias"
   ]
  },
  {
   "cell_type": "markdown",
   "metadata": {},
   "source": [
    "## 5.3 hacks\n",
    "### Intentional or Purposeful bias\n",
    "- Google “What age groups use Facebook” vs “… TikTok”? What does the data say? Is there purposeful exclusion in these platforms? Is it harmful? Should it be corrected? Is it good business?<br><br>\n",
    "My Ideas: Facebook has an older audience, and Tiktok has a younger audience. Facebook's audience is typically 25-34 years old while Tiktok's audience is 13-17 years old. There's no purposeful exclusion because the apps don't exclude anyone, but people of different ages and generations choose to use certain apps. It is not harmful because anyone can have access to have either apps, so there's no need to correct it. However, this can be good for business because certain apps with a younger audience can target certain<br><br>\n",
    "Other Student's Ideas: Tiktok targets the younger generation's shortened attention span. Facebook is an older social media platform, so it would make sense that older generations use it more.\n",
    "<br>\n",
    "\n",
    "- Why do virtual assistants have female voices? Amazon, Alexa Google, Apple Siri. Was this purposeful? Is it harmful? Should it be corrected? Is it good business?<br><br>\n",
    "My Ideas: Virtual assistants have female voices because women are seen as gentler figures and society has given women the role of helping others. Furthermore, female voices tend to articulate vowel sounds more clearly. It is not harmful because it research shows that women's voices are typically more clear so it would be better for the users so it doesn't need to be corrected. \n",
    "\n",
    "- Talk about an algorithm that influences your decisions, think about these companies (ie FAANG - Facebook, Amazon, Apple,Netflix, Google)<br><br>\n",
    "My Ideas: Algorithms that influence your decisions like facebook are typically good for business because it advertises and shows you things that you would like or want according to past searches or things you've interacted with to interact with, and therefore makes you spend more time on their website or app. However this can also lead to things that can be misleading."
   ]
  },
  {
   "cell_type": "markdown",
   "metadata": {},
   "source": [
    "### HP Computers are Racist\n",
    "Come up with some thoughts on the video and be ready to discuss them as I call on you. Here are some ideas…\n",
    "- Does the owner of the computer think this was intentional? If yes or no, justify you conclusion.<br>\n",
    "The owner does think that the computer was intentionally not tracking his face because it is \"racist\"\n",
    "- How do you think this happened?<br>\n",
    "because the company didn't test their feature on black people.\n",
    "- Is this harmful? Was it intended to be harmful or exclude?<br>\n",
    "probably not, it was likely just not tested on enough black people.\n",
    "- Should it be corrected?<br>\n",
    "yes, it should be corrected because this feature should be available to anyone that buys the computer.\n",
    "- What would you or should you do to produce a better outcome?<br>\n",
    "maybe make the camera more sensitive to faces with lower contrast."
   ]
  },
  {
   "cell_type": "markdown",
   "metadata": {},
   "source": [
    "## 5.4 Hacks\n",
    "- CompSci has 150 ish principles students. Describe a crowdsource idea and how you might initiate it in our environment?<br> \n",
    "Students can use slack to get other people's insights on your issues.\n",
    "\n",
    "- What about Del Norte crowdsourcing? Could your project be better with crowdsourcing?<br> \n",
    "we can add a user input for users to add remedies that work for them personally that might help others with the same symptoms. (kinda like a Q and A)\n",
    "\n",
    "- What kind of data could you capture at N@tM to make evening interesting? Perhaps use this data to impress Teachers during finals week.<br> \n",
    "we could collect people's suggestions on remedies to symptoms and even information on periods in general if we run into anyone that might know more than we do about periods and women's health."
   ]
  }
 ],
 "metadata": {
  "kernelspec": {
   "display_name": "Python 3.9.12 ('base')",
   "language": "python",
   "name": "python3"
  },
  "language_info": {
   "name": "python",
   "version": "3.9.12"
  },
  "orig_nbformat": 4,
  "vscode": {
   "interpreter": {
    "hash": "ab0e85a9c08cdbd4c52a9b79d1ef72a54d0123135181235dd24754d6bea1e8b9"
   }
  }
 },
 "nbformat": 4,
 "nbformat_minor": 2
}
