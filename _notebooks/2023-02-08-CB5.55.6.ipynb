{
 "cells": [
  {
   "cell_type": "markdown",
   "metadata": {},
   "source": [
    "# College Board 5.5 and 5.6\n",
    "- toc: true \n",
    "- badges: true\n",
    "- comments: true \n",
    "- categories: [week 22]"
   ]
  },
  {
   "cell_type": "markdown",
   "metadata": {},
   "source": [
    "### 5.5\n",
    "- When you create a GitHub repository it requests a license type. Review the license types in relationship to this Tech Talk and make some notes in your personal blog.\n",
    "<br><br>\n",
    "Open Source:<br>\n",
    "MIT: allows you to code freely and distribute closed source versions. Credit for MIT licensing is adding the authors name in comments<br>\n",
    "GPL: allows you to code freely,but can't distribute closed source versions.<br>\n",
    "\n",
    "- In your blog, summarize the discussions and personal analysis on Software Licenses/Options, Digital Rights, and other Legal and Ethical thoughts from this College Board topic.\n",
    "<br><br>\n",
    "A software License helps distribute software, some with copyright protection, and some without.<br>\n",
    "Digital rights help protect the content that is being distributed online, like movies and music<br>\n",
    "Legal and Ethically: accepting terms and conditions, not copyrighting music, not pirating movies or images.<br>\n",
    "\n",
    "\n",
    "- Make a license for your personal (blog) and Team repositories for the CPT project. Be sure to have a license for both Team GitHub repositories (frontend/backend). Document license(s) you picked and why. FYI, frontend, since it is built on GitHub pages may come with a license and restrictions. Document in blog how team made license choice and process of update.\n",
    "<br>\n",
    "\n",
    "### 5.6\n",
    "- Describe PII you have seen on project in CompSci Principles.\n",
    "<br>\n",
    "the private and public key, maybe a login feature<br>\n",
    "\n",
    "- What are your feelings about PII and your personal exposure?\n",
    "<br>\n",
    "I think PII's are necessary and can enhance user experience, but it is best to keep your information as safe as possible by not giving random websites or people information like you location or financial information.\n",
    "\n",
    "- Describe good and bad passwords? What is another step that is used to assist in authentication.\n",
    "<br>\n",
    "A good password is one that only you know that is unique and doesn't really have a relation to anything (random). Another step that is used to assist identification is username and maybe even email.<br>\n",
    "\n",
    "- Try to describe Symmetric and Asymmetric encryption.\n",
    "<br>\n",
    "Symmetric encryption is encryption where only one key (a secret key) is used to both encrypt and decrypt electronic information<br>\n",
    "Asymmetric cryptography is a process that uses a pair of related keys – one public key and one private key – to encrypt and decrypt a message and protect it from unauthorized access or use.<br>\n",
    "\n",
    "- Provide an example of encryption we used in AWS deployment.\n",
    "<br>\n",
    "port numbers \n",
    "\n",
    "- Describe a phishing scheme you have learned about the hard way. Describe some other phishing techniques.\n",
    "<br>\n",
    "sending you a message that you won some type of lottery or contest and giving you a link to go to to retrieve the reward, when it is just trying to steal your information."
   ]
  }
 ],
 "metadata": {
  "kernelspec": {
   "display_name": "Python 3.9.12 ('base')",
   "language": "python",
   "name": "python3"
  },
  "language_info": {
   "name": "python",
   "version": "3.9.12"
  },
  "orig_nbformat": 4,
  "vscode": {
   "interpreter": {
    "hash": "ab0e85a9c08cdbd4c52a9b79d1ef72a54d0123135181235dd24754d6bea1e8b9"
   }
  }
 },
 "nbformat": 4,
 "nbformat_minor": 2
}
