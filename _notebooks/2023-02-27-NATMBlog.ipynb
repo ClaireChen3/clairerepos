{
 "cells": [
  {
   "cell_type": "markdown",
   "metadata": {},
   "source": [
    "# 2023 Night at the Museum Blog\n",
    "- toc: true \n",
    "- badges: true\n",
    "- comments: true \n",
    "- categories: [week 24] "
   ]
  },
  {
   "cell_type": "markdown",
   "metadata": {},
   "source": [
    "![](https://i.imgur.com/KbwEfgw.png)\n",
    "<br>\n",
    "<br>\n",
    "first me and my group set up our website and presented to some parents as well as other students, not only showing them what our website is about, but also asking them questions about how we can improve our websites interface. We let them use our symptoms feature which gave them remedies and products for your symptoms and also let them take a quiz to test their knowledge on periods. \n",
    "<br>\n",
    "<br>\n",
    "![](https://i.imgur.com/17jELDt.png)\n",
    "<br>\n",
    "<br>\n",
    "Then we walked around and looked at other groups websites. One of the websites that caught my attention was bria's friend website because the user interface was really pretty and comfortable to use and also I have never thought of making a social website that you can connect with people on (kind of like social media) and I thought it was a really good idea.\n",
    "<br>\n",
    "<br>\n",
    "![](https://i.imgur.com/dMFPZ50.png)\n",
    "<br>\n",
    "<br>\n",
    "Claire Zhao and I also went to see the digital animation exhibits which were all really cool and looked pretty realistic. Claire is posing with one of the donuts in this picture but the ones I loved the most were the interior design and house ones. Something like that could definitely be useful to designing an actually home or any place.\n",
    "<br>\n",
    "<br>\n",
    "![](https://i.imgur.com/Bxbji5P.png)\n",
    "<br>\n",
    "<br>\n",
    "lastly, we walked down to the ceramics class to see some cool pieces and sculptures that students have made. My favorite one was this turtle because I really liked how detailed it is and also the colors and how their blended. I also like how it is also a teapot because you can use it as a teapot but also as a decoration when you're not using it as a teapot.\n",
    "<br>\n",
    "<br>"
   ]
  },
  {
   "cell_type": "markdown",
   "metadata": {},
   "source": [
    "Overall, night at the museum started a little stressful, but in the end, things ended up going pretty well, and it was really fun to see what other students from other classes have been working on"
   ]
  }
 ],
 "metadata": {
  "kernelspec": {
   "display_name": "Python 3.9.12 ('base')",
   "language": "python",
   "name": "python3"
  },
  "language_info": {
   "name": "python",
   "version": "3.9.12"
  },
  "orig_nbformat": 4,
  "vscode": {
   "interpreter": {
    "hash": "ab0e85a9c08cdbd4c52a9b79d1ef72a54d0123135181235dd24754d6bea1e8b9"
   }
  }
 },
 "nbformat": 4,
 "nbformat_minor": 2
}
