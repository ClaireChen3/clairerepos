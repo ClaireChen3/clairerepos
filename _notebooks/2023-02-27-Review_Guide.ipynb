{
 "cells": [
  {
   "cell_type": "markdown",
   "metadata": {},
   "source": [
    "# Review Guide \n",
    "- toc: true \n",
    "- badges: true\n",
    "- comments: true \n",
    "- categories: [week 24] \n",
    "- description: "
   ]
  },
  {
   "cell_type": "markdown",
   "metadata": {},
   "source": [
    "### Row 1: \n",
    "Video:\n",
    " - input\n",
    " - program functionality\n",
    " - Output\n",
    "\n",
    "Written:\n",
    " - describes the overall purpose of the program.\n",
    " - describes what functionality of the program is demonstrated in the video.\n",
    " - describes the input and output of the program demonstrated in the video.\n",
    "<br><br>\n",
    "\n",
    "My Response:\n",
    "\n",
    "- This program’s purpose is to help women find remedies to their period symptoms and build a community where women can share what remedies work for them and help others\n",
    "- This program’s function is to provide a comment section where people can input the symptom they are addressing as well as the remedy for that symptom and check off the symptoms they experience in the checkbox to find remedies and products that can help\n",
    "- In the video, the user imputed the symptom they were addressing, cramps, and a remedy that worked for them which was tylenol. When the user clicked ‘post’ and ‘see all comments’, their comment was there even when the page was refreshed, the user’s comment was also saved into the database. The input was the symptom she imputed which was cramp, as well as the comment she imputed, which was tylenol, and the output was the same thing but displayed in the comments table. The comment is then stored in the database as a list\n"
   ]
  },
  {
   "cell_type": "markdown",
   "metadata": {},
   "source": [
    "### Row 2: \n",
    "- one code segment that shows the data in this same list being used as part of fulfilling the program’s purpose.\n",
    "- one code segment that identifies the name of the variable representing the list being used in this response.\n",
    "- describes what the data contained in this list is representing in the program.\n",
    "<br>\n",
    "\n",
    "My Response:\n",
    "The data contained in ‘myObj’ is the symptom and comment that is being added into the comment section to give other people advice on helping ease their period symptoms\n",
    "\n",
    "\n"
   ]
  },
  {
   "cell_type": "code",
   "execution_count": null,
   "metadata": {
    "vscode": {
     "languageId": "javascript"
    }
   },
   "outputs": [],
   "source": [
    "function addData(){\n",
    "    if(document.getElementById(\"symptoms\").value&&document.getElementById(\"comment-box\").value){\n",
    "      myObj = { \"symptom\":document.getElementById(\"symptoms\").value, \"comment\":document.getElementById(\"comment-box\").value};\n",
    "      //alert(document.getElementById(\"symptoms\").value);\n",
    "      //alert(document.getElementById(\"comment-box\").value);\n",
    "      add_row(myObj);\n",
    "    }\n",
    "  }"
   ]
  },
  {
   "cell_type": "markdown",
   "metadata": {},
   "source": [
    "### Row 3: \n",
    "- includes a program code segment that shows a list being used to manage complexity in the program.\n",
    "- explains how the named, selected list manages complexity in the program code by explaining why the program code could not be written, or how it would be written differently, without using this list.\n",
    "<br>\n",
    "\n",
    "My Response:\n",
    "\n",
    "- This list 'myObj' manages complexity and the program code could not be written without it because getting the value of the symptom and the comment is needed to save them both in to the database. You could write two separate functions to add symptom and comment into a database, but it wouldn't be as concise, might lead to more errors in the code, and the inputs might not be stored together in the database which could also be confusing.\n",
    "\n"
   ]
  },
  {
   "cell_type": "code",
   "execution_count": null,
   "metadata": {
    "vscode": {
     "languageId": "javascript"
    }
   },
   "outputs": [],
   "source": [
    "function addData(){\n",
    "    if(document.getElementById(\"symptoms\").value&&document.getElementById(\"comment-box\").value){\n",
    "      myObj = { \"symptom\":document.getElementById(\"symptoms\").value, \"comment\":document.getElementById(\"comment-box\").value};\n",
    "      //alert(document.getElementById(\"symptoms\").value);\n",
    "      //alert(document.getElementById(\"comment-box\").value);\n",
    "      add_row(myObj);\n",
    "    }\n",
    "  }"
   ]
  },
  {
   "cell_type": "markdown",
   "metadata": {},
   "source": [
    "### Row 4: \n",
    "- a code segment showing a student-developed procedure with at least one parameter that has an effect on the functionality of the procedure.\n",
    "- one code segment showing where the student-developed procedure is being called.\n",
    "- describes what the identified procedure does and how it contributes to the overall functionality of the program.\n",
    "<br>\n",
    "\n",
    "My Response:\n",
    "\n",
    "- The first function \"fHide\" hides all the hyperlinks when you first click on the page by using a for loop to go through all the hyperlinks and changing their visibility to hidden. \n",
    "\n",
    "- Then the second function \"fDisplay\" also uses a for loop that goes through the checklist and looks for the ones that are checked. If it is checked, then it will change the visibility from hidden to not hidden, but if it is not checked, it will remain hidden.\n"
   ]
  },
  {
   "cell_type": "code",
   "execution_count": null,
   "metadata": {
    "vscode": {
     "languageId": "javascript"
    }
   },
   "outputs": [],
   "source": [
    "// this function hides all the links at first\n",
    "fHide(1, 11);\n",
    "function fHide(startIndex, endIndex) {\n",
    "  for (var i = startIndex; i <= endIndex; i++) {\n",
    "    document.getElementById(\"s\" + i).style.visibility = \"hidden\";\n",
    "  }\n",
    "}\n",
    "// when this function is called, it will display the remedies to the symptoms that have been checked\n",
    "function fDisplay(startIndex, endIndex, checkboxPrefix) {\n",
    "  for (var i = startIndex; i <= endIndex; i++) {\n",
    "    var checkboxId = checkboxPrefix + i;\n",
    "    var element = document.getElementById(\"s\" + i);\n",
    "    if (document.getElementById(checkboxId).checked) {\n",
    "      element.style.visibility = \"\";\n",
    "    } else {\n",
    "      element.style.visibility = \"hidden\";\n",
    "    }\n",
    "  }\n",
    "}"
   ]
  },
  {
   "cell_type": "markdown",
   "metadata": {},
   "source": [
    "### Row 5: \n",
    "- includes a program code segment of a student developed algorithm that includes sequencing, selection, and iteration\n",
    "- explains in detailed steps how the identified algorithm works in enough detail that someone else could recreate it.\n",
    "\n",
    "<br>\n",
    "\n",
    "My Response:\n",
    "\n",
    "- For my function ‘fDisplay’, I used a for loop(iteration) and set the variable i to 1 and added one to i each time it ran until i reached 12. This results in the function checking all 11 of the symptoms in my checkbox and checking them for a certain condition. I then used an if statement(selection) to check if the checkboxes were checked off or not. If the condition of it being checked came out to be true, then the visibility of the corresponding hyperlink to that symptom would become visible. If not, the corresponding hyperlink to that symptom would remain hidden.\n",
    "\n",
    "\n",
    "\n"
   ]
  },
  {
   "cell_type": "code",
   "execution_count": null,
   "metadata": {
    "vscode": {
     "languageId": "javascript"
    }
   },
   "outputs": [],
   "source": [
    "// when this function is called, it will display the remedies to the symptoms that have been checked\n",
    "function fDisplay(startIndex, endIndex, checkboxPrefix) {\n",
    "    for (var i = startIndex; i <= endIndex; i++) {\n",
    "      var checkboxId = checkboxPrefix + i;\n",
    "      var element = document.getElementById(\"s\" + i);\n",
    "      if (document.getElementById(checkboxId).checked) {\n",
    "        element.style.visibility = \"\";\n",
    "      } else {\n",
    "        element.style.visibility = \"hidden\";\n",
    "      }\n",
    "    }\n",
    "  }"
   ]
  },
  {
   "cell_type": "markdown",
   "metadata": {},
   "source": [
    "### Row 6: \n",
    "- describes two calls to the selected procedure identified in written response. Each call must pass a different argument(s) that causes a different segment of code in the algorithm to execute.\n",
    "- describes the condition(s) being tested by each call to the procedure.\n",
    "- identifies the result of each call.\n",
    "\n",
    "<br>\n",
    "\n",
    "My Response:\n",
    "\n",
    "- fHide is called at the beginning of the code so that right as you click on the page all the hyperlinks start off being invisible.\n",
    "The result of this call is the hyperlinks becoming invisible\n",
    "\n",
    "- fDisplay is called when you press the ‘See Remedies to Button’ so it gives you the link to the remedy of your symptom(s) after you submit your checklist.\n",
    "The conditions being tested in this call is whether or not the checkbox is checked.\n",
    "The result is it outputting the hyperlinks to the remedies to the corresponding symptoms that have been checked off\n",
    "\n",
    "\n",
    "\n",
    "\n",
    "\n"
   ]
  },
  {
   "cell_type": "code",
   "execution_count": null,
   "metadata": {
    "vscode": {
     "languageId": "html"
    }
   },
   "outputs": [],
   "source": [
    "<button type=\"button\" id=rem onclick =\"fDisplay(1, 11, 'chk')\" style = \"color: white\"><font color=\"darkred\"> See Remedies To:</font></button>"
   ]
  }
 ],
 "metadata": {
  "kernelspec": {
   "display_name": "Python 3.9.12 ('base')",
   "language": "python",
   "name": "python3"
  },
  "language_info": {
   "name": "python",
   "version": "3.9.12"
  },
  "orig_nbformat": 4,
  "vscode": {
   "interpreter": {
    "hash": "ab0e85a9c08cdbd4c52a9b79d1ef72a54d0123135181235dd24754d6bea1e8b9"
   }
  }
 },
 "nbformat": 4,
 "nbformat_minor": 2
}
