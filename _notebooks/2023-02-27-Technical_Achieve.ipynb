{
 "cells": [
  {
   "cell_type": "markdown",
   "metadata": {},
   "source": [
    "# Technical Achievements \n",
    "- toc: true \n",
    "- badges: true\n",
    "- comments: true \n",
    "- categories: [week 24] "
   ]
  },
  {
   "cell_type": "markdown",
   "metadata": {},
   "source": [
    "Personally, I progressed more in my frontend coding skills with learning how to debug, add style, and make functions, but I also learned and struggled a lot about backend coding and how classes/objects are used to store things in a database as well as things like methods and innerHTML"
   ]
  },
  {
   "cell_type": "markdown",
   "metadata": {},
   "source": [
    "### Create (post)"
   ]
  },
  {
   "cell_type": "code",
   "execution_count": null,
   "metadata": {},
   "outputs": [],
   "source": [
    "def post(self):\n",
    "            ''' Read data for json body '''\n",
    "            body = request.get_json()\n",
    "            \n",
    "            ''' Avoid garbage in, error checking '''\n",
    "            # validate comment (makes sure it is more than two characters)\n",
    "            comment = body.get('comment')\n",
    "            if comment is None or len(comment) < 2:\n",
    "                return {'message': f'Comment is missing, or is less than 2 characters'}, 400\n",
    "            # validate symptom (makes sure it is more than two characters)\n",
    "            symptom = body.get('symptom')\n",
    "            if symptom is None or len(symptom) < 2:\n",
    "                return {'message': f'Symptom is missing, or is less than 2 characters'}, 400\n",
    "\n",
    "            ''' #1: Key code block, setup USER OBJECT '''\n",
    "            uo = Symptom(comment=comment, \n",
    "                      symptom=symptom)\n",
    "            \n",
    "            \n",
    "            ''' #2: Key Code block to add user to database '''\n",
    "            # create comment in database\n",
    "            user = uo.create()\n",
    "            # success returns json of comment\n",
    "            if user:\n",
    "                return jsonify(user.read())\n",
    "            # failure returns error\n",
    "            return {'message': f'Processed {comment}, either a format error or {symptom} is duplicate'}, 400\n"
   ]
  },
  {
   "cell_type": "markdown",
   "metadata": {},
   "source": [
    "I used selection to test the conditions of the comment and symptom(inputs) to make sure there is no garbage going in like repetitions and comments or symptoms that are less than to characters. I used the things we learned from class like if then statements, len(), return, condition. The second chunk of code is adding the comment to the database which can then be accessed from frontend."
   ]
  },
  {
   "cell_type": "code",
   "execution_count": null,
   "metadata": {
    "vscode": {
     "languageId": "javascript"
    }
   },
   "outputs": [],
   "source": [
    "    // URL for Create API\n",
    "    // Fetch API call to the database to create a new comment\n",
    "    fetch(create_fetch, requestOptions)\n",
    "      .then(response => {\n",
    "        // trap error response from Web API\n",
    "        if (response.status !== 200) {\n",
    "          const errorMsg = 'Database create error: ' + response.status;\n",
    "          console.log(errorMsg);\n",
    "          const tr = document.createElement(\"tr\");\n",
    "          const td = document.createElement(\"td\");\n",
    "          td.innerHTML = errorMsg;\n",
    "          tr.appendChild(td);\n",
    "          resultContainer.appendChild(tr);\n",
    "          return;\n",
    "        }\n",
    "        // response contains valid result\n",
    "        response.json().then(data => {\n",
    "            console.log(data);\n",
    "            //add a table row for the new/created userid\n",
    "            //add_row(data);\n",
    "        })\n",
    "    })"
   ]
  },
  {
   "cell_type": "markdown",
   "metadata": {},
   "source": [
    "In frontend, I fetched the API from the backend and added the data in the database to the table in the frontend as rows."
   ]
  },
  {
   "cell_type": "markdown",
   "metadata": {},
   "source": [
    "### Create (get)"
   ]
  },
  {
   "cell_type": "code",
   "execution_count": null,
   "metadata": {},
   "outputs": [],
   "source": [
    "class _Read(Resource):\n",
    "        def get(self):\n",
    "            users = Symptom.query.all()    # read/extract all comments from database\n",
    "            json_ready = [user.read() for user in users]  # prepare output in json\n",
    "            return jsonify(json_ready)  # jsonify creates Flask response object, more specific to APIs than json.dumps\n",
    "    "
   ]
  },
  {
   "cell_type": "markdown",
   "metadata": {},
   "source": [
    "This backend code gets the data from the database through \"query\" and outputs it in json through \"jsonify\""
   ]
  },
  {
   "cell_type": "code",
   "execution_count": null,
   "metadata": {
    "vscode": {
     "languageId": "javascript"
    }
   },
   "outputs": [],
   "source": [
    "// Display User Table, data is fetched from Backend Database\n",
    "  function read_users() {\n",
    "    // prepare fetch options\n",
    "    const read_options = {\n",
    "      method: 'GET', // *GET, POST, PUT, DELETE, etc.\n",
    "      mode: 'cors', // no-cors, *cors, same-origin\n",
    "      cache: 'default', // *default, no-cache, reload, force-cache, only-if-cached\n",
    "      credentials: 'omit', // include, *same-origin, omit\n",
    "      headers: {\n",
    "        'Content-Type': 'application/json'\n",
    "      }\n",
    "    }"
   ]
  },
  {
   "cell_type": "markdown",
   "metadata": {},
   "source": [
    "Now in fronted I use the get method to fetch the data. Now frontend and backend are connected through POST and GET!"
   ]
  },
  {
   "cell_type": "markdown",
   "metadata": {},
   "source": [
    "#### Reflection:\n",
    "Though challenging, I do realize that backend coding is arguably one of the most crucial parts of building a website and my experience with backend coding and the skills I am just starting to learn  will get better and more applicable as I continue to code in the future."
   ]
  }
 ],
 "metadata": {
  "kernelspec": {
   "display_name": "Python 3.9.12 ('base')",
   "language": "python",
   "name": "python3"
  },
  "language_info": {
   "name": "python",
   "version": "3.9.12"
  },
  "orig_nbformat": 4,
  "vscode": {
   "interpreter": {
    "hash": "ab0e85a9c08cdbd4c52a9b79d1ef72a54d0123135181235dd24754d6bea1e8b9"
   }
  }
 },
 "nbformat": 4,
 "nbformat_minor": 2
}
