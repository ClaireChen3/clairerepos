{
 "cells": [
  {
   "cell_type": "markdown",
   "metadata": {},
   "source": [
    "# STEM at CSUSM\n",
    "- toc: true \n",
    "- badges: true\n",
    "- comments: true \n",
    "- categories: [week 27]\n",
    "- description: "
   ]
  },
  {
   "cell_type": "markdown",
   "metadata": {},
   "source": [
    "Notes: \n",
    "<br>Cal State San Marcos\n",
    "- one of the few CSUs with physics\n",
    "- she failed a few calc classes, but she kept persevering\n",
    "    - \"failures don't define you\"\n",
    "- good support system at CSUSM\n",
    "- John started at palomar, physics, and computer science\n",
    "- took six years to get his bachelors degree\n",
    "- computer science is a very versatile degree\n",
    "- can't run away from computer science\n",
    "- CSUSM has a lot of new science/stem buildings\n",
    "- easy to get internships from local companies\n",
    "- many stem pathways\n",
    "    - chem\n",
    "    - physics\n",
    "    - computer engineering\n",
    "    - mathematics\n",
    "    - electrical engineering\n",
    "    - biochemistry\n",
    "    - software engineering\n",
    "- a lot of STEM based clubs\n",
    "    - a lot of these clubs give students a lot of opportunities\n",
    "- how to get internships\n",
    "    - network with people\n",
    "    - check e-mails\n",
    "    - join clubs\n",
    "    - go to campus events\n",
    "    - avoid unpaid internships\n",
    "    - ask faculty members for help on applications or essays\n",
    "- programs\n",
    "    - summer scholars program\n",
    "        - paid\n",
    "        - provides students with research experience\n",
    "- cs can collaborate with chem\n",
    "    - make virtual reality labs\n",
    "- grant: gov funded money\n",
    "- scholarship: privately funded(you have to find them yourself)\n",
    "- a semester is $3,000 at CSUSM\n",
    "- apply for FASA ASAP\n",
    "- masters degree is usually 2 years\n",
    "\n",
    "\n",
    "\n",
    "\n",
    "\n",
    "\n",
    "\n",
    "\n",
    "\n"
   ]
  },
  {
   "cell_type": "markdown",
   "metadata": {},
   "source": [
    "Reflect: \n",
    "<br>I find this panel to be very inspiring because the stress of college applications and decisions has been getting to me recently. I have also been feeling pressured to get into prestigious colleges like UCs because I feel like that is the only way I will get good opportunities and a good job in the future. However, this panel proved me wrong. They offers so many courses and programs, as well as clubs and other resources that I feel like could really help me have a good college experience and get me a job I enjoy. Ashley, one of the speakers, also said some inspiring things, like how failure is normal and doesn't define you. Lastly, the activity at the end was very fun."
   ]
  }
 ],
 "metadata": {
  "kernelspec": {
   "display_name": "Python 3.9.12 ('base')",
   "language": "python",
   "name": "python3"
  },
  "language_info": {
   "name": "python",
   "version": "3.9.12"
  },
  "orig_nbformat": 4,
  "vscode": {
   "interpreter": {
    "hash": "ab0e85a9c08cdbd4c52a9b79d1ef72a54d0123135181235dd24754d6bea1e8b9"
   }
  }
 },
 "nbformat": 4,
 "nbformat_minor": 2
}
