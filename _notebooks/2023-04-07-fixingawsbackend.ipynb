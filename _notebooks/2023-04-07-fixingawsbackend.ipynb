{
 "cells": [
  {
   "cell_type": "markdown",
   "metadata": {},
   "source": [
    "# Fixing Backend\n",
    "- toc: true \n",
    "- badges: true\n",
    "- comments: true \n",
    "- categories: [week 27]\n",
    "- description: "
   ]
  },
  {
   "cell_type": "markdown",
   "metadata": {},
   "source": [
    "right now my DNS is pointing to the wrong host, Most of my stuff is on Yeung's instance, but my DNS is pointing to 3.130.255.192 which is the IP to Mortensen host"
   ]
  },
  {
   "cell_type": "markdown",
   "metadata": {},
   "source": [
    "My plan is to get a new domain name, that points to the right IP (Yeung's) and then edit my nginx file to be the new domain name. From there I will do the certbot steps and if all goes well, I will delete from Yeung's instance and move to Mortensen's instance."
   ]
  },
  {
   "cell_type": "markdown",
   "metadata": {},
   "source": [
    "getting the correct IP<br>\n",
    "![](https://i.imgur.com/3vjg7nv.png)<br>\n",
    "setting that IP to my new domain flowperiod<br>\n",
    "![](https://i.imgur.com/9FI8N8p.png)<br>"
   ]
  },
  {
   "cell_type": "markdown",
   "metadata": {},
   "source": [
    "Ok, now I am going to update the domain in my nginx file"
   ]
  },
  {
   "cell_type": "markdown",
   "metadata": {},
   "source": [
    "change from flowhealth to flowperiod<br>\n",
    "![](https://i.imgur.com/quuORT3.png)<br>\n",
    "create symbolic link (myUniqueName: gacc)<br>\n",
    "![](https://i.imgur.com/bo3R8Zw.png)<br>\n",
    "test successful!<br>\n",
    "![](https://i.imgur.com/SGwvQH4.png)<br>\n",
    "restart nginx <br>\n",
    "![](https://i.imgur.com/wgrbvGr.png)<br>\n",
    "flowperiod is up and running!<br>\n",
    "![](https://i.imgur.com/LHbncTL.png)<br>"
   ]
  },
  {
   "cell_type": "markdown",
   "metadata": {},
   "source": [
    "Now we can move on to certbot!<br>\n",
    "![](https://i.imgur.com/6o9YEd4.png)<br>\n",
    "success!<br>\n",
    "flowperiod is now secure<br>\n",
    "![](https://i.imgur.com/B1lI9WO.png)<br>"
   ]
  }
 ],
 "metadata": {
  "language_info": {
   "name": "python"
  },
  "orig_nbformat": 4
 },
 "nbformat": 4,
 "nbformat_minor": 2
}
