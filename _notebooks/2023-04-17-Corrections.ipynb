{
 "cells": [
  {
   "cell_type": "markdown",
   "metadata": {},
   "source": [
    "# MCQ Corrections 4/16/2023\n",
    "- toc: true \n",
    "- badges: true\n",
    "- comments: true \n",
    "- categories: [week 27]\n",
    "- description: "
   ]
  },
  {
   "cell_type": "markdown",
   "metadata": {},
   "source": [
    "![](https://i.imgur.com/nHDOtL5.png)\n",
    "the locations should be distributed so the experiment should not take place in all the same place.\n",
    "![](https://i.imgur.com/vE8MWcv.png)\n",
    "Since it needs at least 200 characters, there would have to be 8 bits (2^8=256)\n",
    "![](https://i.imgur.com/WxqPQ5D.png)\n",
    "the number of steps is just the number of items squared,so it should run in a reasonable time"
   ]
  }
 ],
 "metadata": {
  "kernelspec": {
   "display_name": "Python 3.9.12 ('base')",
   "language": "python",
   "name": "python3"
  },
  "language_info": {
   "name": "python",
   "version": "3.9.12"
  },
  "orig_nbformat": 4,
  "vscode": {
   "interpreter": {
    "hash": "ab0e85a9c08cdbd4c52a9b79d1ef72a54d0123135181235dd24754d6bea1e8b9"
   }
  }
 },
 "nbformat": 4,
 "nbformat_minor": 2
}
