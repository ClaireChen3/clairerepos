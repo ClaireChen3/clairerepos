{
 "cells": [
  {
   "cell_type": "markdown",
   "metadata": {},
   "source": [
    "# Big Idea 3 Hacks\n",
    "- toc: true \n",
    "- badges: true\n",
    "- comments: true \n",
    "- categories: [week 30]\n",
    "- description: games"
   ]
  },
  {
   "cell_type": "markdown",
   "metadata": {},
   "source": [
    "# Hacks: Your Score/1\n",
    "\n",
    "\n",
    "## General 0.3\n",
    "- Copy this noteboook into your personal fastpages\n",
    "- Answer all questions\n",
    "    - put the question in a new markdown block (so we can grade faster)"
   ]
  },
  {
   "cell_type": "markdown",
   "metadata": {},
   "source": [
    "# All Questions\n",
    "## 1: 2D Array\n",
    "> Tic Tac Toe: Kush Sirohi\n",
    "\n",
    "- What are some examples of 2d Arrays\n",
    "    - Tic-tac-toe game board: This is a classic example of a 2D array, where the game board is represented as a 3x3 grid.\n",
    "\n",
    "    - Spreadsheet software: Spreadsheets are often organized as a 2D arrays for a modern-day game that could be classified as a 2D array, a good example would be the popular puzzle game \"Sudoku\". In Sudoku, the game board is represented as a 9x9 grid of cells, with each cell containing a number from 1 to 9. The game involves filling in the missing numbers in each row, column, and 3x3 sub-grid, following certain rules. The game board can be easily represented as a 2D array in programming, with each cell being an element in the array.y of cells, where each cell has a row and column index.\n",
    "\n",
    "    - Pixel art: Pixel art is often created on a 2D grid, where each square represents a pixel in the image.\n",
    "- What is a modern day game that could be classified as a 2D array\n",
    "    - As for a modern-day game that could be classified as a 2D array, a good example would be the popular puzzle game \"Sudoku\". In Sudoku, the game board is represented as a 9x9 grid of cells, with each cell containing a number from 1 to 9. The game involves filling in the missing numbers in each row, column, and 3x3 sub-grid, following certain rules. The game board can be easily represented as a 2D array in programming, with each cell being an element in the array.\n",
    "## How I used 2D Arrays (game example)\n",
    "- Describe a 2D array in your own words\n",
    "    - A 2D array is a grid that stores data in rows and columns, commonly used in programming to represent data in a two-dimensional space.\n",
    "## 2: Iteration\n",
    "> Robot Game: Finn Carpenter\n",
    "- What is the defenition of iteration in your own words\n",
    "    - Iterations mean repeating a set of instructions or steps multiple times, often used in programming to execute a block of code repeatedly to achieve a specific goal.\n",
    "## How I used iteration (game example)\n",
    "- What parts of the code use iteration\n",
    "    - the movements\n",
    "## How I used List to make a game\n",
    "- Explain which parts of the code use lists\n",
    "    - it uses a list to store the words\n",
    "- Explain what list manipulation is happening in that part\n",
    "    - a word is being randomly selected from the list and being scrambled"
   ]
  },
  {
   "cell_type": "markdown",
   "metadata": {},
   "source": [
    "## Iteration 0.2 (can get up to 0.23)\n",
    "- Get to level 5\n",
    "    - Take ScreenShots of your name inside the box an put them in your ticket\n",
    "![](https://i.imgur.com/uJeQG2a.png)\n",
    "![](https://i.imgur.com/MZzAYdc.png)\n",
    "![](https://i.imgur.com/QU8gUn9.png)\n",
    "![](https://i.imgur.com/JTLjQV1.png)\n",
    "![](https://i.imgur.com/oSjTlKG.png)\n",
    "- Create a code segment with iteration that does something cool\n"
   ]
  },
  {
   "cell_type": "code",
   "execution_count": null,
   "metadata": {},
   "outputs": [],
   "source": [
    "limit = int(input(\"Enter a limit for the Fibonacci sequence: \"))\n",
    "\n",
    "# initialize the first two numbers in the sequence\n",
    "a, b = 0, 1\n",
    "\n",
    "# iterate through the sequence and print each number\n",
    "while a < limit:\n",
    "    print(a)\n",
    "    a, b = b, a + b"
   ]
  },
  {
   "cell_type": "markdown",
   "metadata": {},
   "source": [
    "\n",
    "## 2D array 0.2 (can get up to 0.23)\n",
    "- Explain how the tic tac toe game works\n",
    "    - The game is played on a 3x3 board represented by a nested list called 'board'. The 'print_board()' function prints the current state of the board, showing the row and column indices and the symbols ('X' or 'O') that have been placed on the board. The 'check_win(player)' function checks if the player who made the move has won the game. It checks for winning combinations on the rows, columns, and diagonals of the board. The 'check_tie()' function checks if the game is a tie. If all the spaces on the board have been filled and no player has won, the game is a tie. The 'play_game()' function starts the game loop. It initializes the player to 'X' and the turn counter to 0. In each iteration of the loop, it prints the current state of the board, prompts the player for their move, checks if the move is valid, updates the board, checks if the player has won or the game is a tie, switches to the other player if the game is not over, and repeats the loop. Finally, the 'play_game()' function is called to start the game. It prints the initial state of the board and starts the game loop until a winner is found or the game ends in a tie.\n",
    "- Give 3 Examples of games that can be made from 2D arrays\n",
    "    - Tic-Tac-Toe: A 2D array can represent a 3x3 grid for the game, with each element storing a value ('X', 'O', or empty) for the current state of the game.\n",
    "\n",
    "    - Minesweeper: A 2D array can represent a grid for the game, with each element storing a value (mine or not, covered or uncovered) for the state of each cell.\n",
    "\n",
    "    - Sokoban: A 2D array can represent a grid for the game, with each element representing a tile. The player and boxes can be separate objects that move around the grid, with the state of the game updated by checking for collisions and events.\n",
    "\n",
    "## List and Dictionaries 0.2 (can get up to 0.23)\n",
    "- Explain the differences between Lists and Dictionaries\n",
    "    - Lists are ordered collections of items, where each item is assigned an index based on its position in the list. Lists are created using square brackets, and items are separated by commas. Lists can contain any type of data, including other lists. \n",
    "- Make a code block that manipulates either a list or a dictionary"
   ]
  },
  {
   "cell_type": "code",
   "execution_count": 3,
   "metadata": {},
   "outputs": [
    {
     "name": "stdout",
     "output_type": "stream",
     "text": [
      "{'apple': 3, 'orange': 2, 'banana': 1}\n"
     ]
    }
   ],
   "source": [
    "my_dict = {'apple': 3, 'banana': 1, 'orange': 2}\n",
    "\n",
    "# Convert the dictionary into a list of tuples\n",
    "my_list = list(my_dict.items())\n",
    "\n",
    "# Sort the list by the values in descending order\n",
    "my_list.sort(key=lambda x: x[1], reverse=True)\n",
    "\n",
    "# Convert the list back to a dictionary\n",
    "sorted_dict = dict(my_list)\n",
    "\n",
    "print(sorted_dict)"
   ]
  }
 ],
 "metadata": {
  "kernelspec": {
   "display_name": "Python 3.9.12 ('base')",
   "language": "python",
   "name": "python3"
  },
  "language_info": {
   "codemirror_mode": {
    "name": "ipython",
    "version": 3
   },
   "file_extension": ".py",
   "mimetype": "text/x-python",
   "name": "python",
   "nbconvert_exporter": "python",
   "pygments_lexer": "ipython3",
   "version": "3.9.12"
  },
  "orig_nbformat": 4,
  "vscode": {
   "interpreter": {
    "hash": "ab0e85a9c08cdbd4c52a9b79d1ef72a54d0123135181235dd24754d6bea1e8b9"
   }
  }
 },
 "nbformat": 4,
 "nbformat_minor": 2
}
