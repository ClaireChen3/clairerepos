{
 "cells": [
  {
   "attachments": {},
   "cell_type": "markdown",
   "metadata": {},
   "source": [
    "#  P4-M 4/28 Binary Lesson HACKS\n",
    "> Learn the basics of binary including truth tables, boolean expressions, binary conversions, and binary searches.\n",
    "- toc: true\n",
    "- permalink: /binary/lesson\n",
    "- comments: true\n",
    "- categories: [week 31, binary, lesson]"
   ]
  },
  {
   "attachments": {},
   "cell_type": "markdown",
   "metadata": {},
   "source": [
    "# Lesson Note Taker\n",
    "> Fill in the blanks below during the binary presentation. You can visit our [website here!](https://theoh32.github.io/Runtime_Terror/2023-3-30-mainlesson.html)\n",
    "^ Due to last minute deployment issues, may need to run a local server\n",
    "\n",
    "1. git clone https://github.com/TheoH32/Runtime_Terror.git\n",
    "2. run: \n",
    "- bundle install\n",
    "- bundle exec jekyll serve"
   ]
  },
  {
   "attachments": {},
   "cell_type": "markdown",
   "metadata": {},
   "source": [
    "## Binary \n",
    "\n",
    "1. Binary is a base 2 number system.\n",
    "2. 0 represents off and 1 represents on.\n",
    "3. A bit is the minimum unit of binary information stored in a computer system.\n",
    "\n",
    "## Boolean Expressions\n",
    "\n",
    "1. A Boolean expression is a logical statement that is either TRUE or FALSE and compares data.\n",
    "\n",
    "## Truth Tables\n",
    "\n",
    "1. The logical operations shown in truth tables are and, or, xor, and not."
   ]
  },
  {
   "cell_type": "code",
   "execution_count": 1,
   "metadata": {},
   "outputs": [
    {
     "data": {
      "text/plain": [
       "True"
      ]
     },
     "execution_count": 1,
     "metadata": {},
     "output_type": "execute_result"
    }
   ],
   "source": [
    "# Run this code!! See how boolean expressions work and show the outputs of truth tables.\n",
    "\n",
    "# AND\n",
    "5 > 3 and 5 == 3 + 2"
   ]
  },
  {
   "cell_type": "code",
   "execution_count": 2,
   "metadata": {},
   "outputs": [
    {
     "data": {
      "text/plain": [
       "False"
      ]
     },
     "execution_count": 2,
     "metadata": {},
     "output_type": "execute_result"
    }
   ],
   "source": [
    "\n",
    "5 < 3 and 5 == 5"
   ]
  },
  {
   "cell_type": "code",
   "execution_count": 3,
   "metadata": {},
   "outputs": [
    {
     "data": {
      "text/plain": [
       "True"
      ]
     },
     "execution_count": 3,
     "metadata": {},
     "output_type": "execute_result"
    }
   ],
   "source": [
    "# OR\n",
    "5 == 5 or 5 != 5"
   ]
  },
  {
   "cell_type": "code",
   "execution_count": 4,
   "metadata": {},
   "outputs": [
    {
     "data": {
      "text/plain": [
       "False"
      ]
     },
     "execution_count": 4,
     "metadata": {},
     "output_type": "execute_result"
    }
   ],
   "source": [
    "5 < 3 or 5 != 5"
   ]
  },
  {
   "attachments": {},
   "cell_type": "markdown",
   "metadata": {},
   "source": [
    "### Real Life Example using Boolean Expressions\n",
    "\n",
    "Try changing the conditions and/or the logical operation below! Run the code to see if you are eligible to vote."
   ]
  },
  {
   "cell_type": "code",
   "execution_count": 5,
   "metadata": {},
   "outputs": [
    {
     "name": "stdout",
     "output_type": "stream",
     "text": [
      "You are eligible to vote.\n"
     ]
    }
   ],
   "source": [
    "# Real life example\n",
    "age = 18\n",
    "citizen = True\n",
    "\n",
    "if age >= 18 and citizen:\n",
    "    print(\"You are eligible to vote.\")\n",
    "else:\n",
    "    print(\"You are not eligible to vote.\")"
   ]
  },
  {
   "attachments": {},
   "cell_type": "markdown",
   "metadata": {},
   "source": [
    "## Binary Conversions\n",
    "\n",
    "### Binary to Decimal\n",
    "\n",
    "1. We can count in binary by using powers of 2.\n",
    "2. In binary, we read from right to left.\n",
    "3. 0111 has a value of 14.\n",
    "\n",
    "\n",
    "### Binary Search\n",
    "\n",
    "For a binary search, the list must be sorted in ascending or descending order.\n",
    "In a binary search, computers start at the middle of the list.\n",
    "The number of steps required in a binary search follows the equation: log2(n), where n is the size of the list.\n",
    "Binary searches also work with a list of strings. We can sort them alphabetically.\n",
    "Binary searches can be represented in tree diagrams."
   ]
  },
  {
   "attachments": {},
   "cell_type": "markdown",
   "metadata": {},
   "source": [
    "# Hacks\n",
    "> You will NOT be awarded any points for sections that are INCOMPLETE\n",
    "\n",
    "### Note Taker\n",
    "\n",
    "1. Fill in all of the blanks above.\n",
    "\n",
    "### Lesson Quiz\n",
    "\n",
    "1. Complete the lesson quiz\n",
    "2. SCREENSHOT SCORE and paste it here (or paste screenshot with submission)\n",
    "\n",
    "### Binary Game\n",
    "\n",
    "1. Complete the Binary game and reach a minimum score of 10! \n",
    "2. SCREENSHOT SCORE and paste it here (or with submission)"
   ]
  },
  {
   "attachments": {},
   "cell_type": "markdown",
   "metadata": {},
   "source": [
    "### Binary Conversions Practice\n",
    "\n",
    "1. Convert the decimal number \"17\" into binary.<br>\n",
    "17 / 2 = 8 remainder 1\n",
    " 8 / 2 = 4 remainder 0\n",
    " 4 / 2 = 2 remainder 0\n",
    " 2 / 2 = 1 remainder 0\n",
    " 1 / 2 = 0 remainder 1\n",
    " 10001\n",
    "2. Convert the binary number 1010 into decimal.<br>\n",
    "1 * 2^1 + 0 * 2^2 + 1 * 2^3 + 0 * 2^4\n",
    "= 2 + 0 + 8 + 0\n",
    "= 10\n",
    "3. Convert the decimal number \"122\" into hexadecimal.<br>\n",
    "122 / 16 = 7 remainder 10 (A)\n",
    "  7 / 16 = 0 remainder 7\n",
    "7A\n",
    "4. Convert the hexadecimal number \"09\" into binary.<br>\n",
    "0 = 0000\n",
    "9 = 1001\n",
    "00001001"
   ]
  },
  {
   "attachments": {},
   "cell_type": "markdown",
   "metadata": {},
   "source": [
    "### Binary Search Questions\n",
    "\n",
    "1. Make a binary search tree of different the list [1,2,4,15,25,30,31]<br>\n",
    "         15\n",
    "        /  \\\n",
    "       2    30\n",
    "      / \\   / \\\n",
    "     1   4 25  31\n",
    "2. Put this list of strings in a order that can be used for binary search [\"Donut”,\"Cake”,\"Soda”,\"Banana”,\"Fruit”]<br>\n",
    "[\"Banana\", \"Cake\", \"Donut\", \"Fruit\", \"Soda\"]\n",
    "3. Explain why Binary Search is more efficient than Sequential Search.<br>\n",
    "- reduces the number of comparisons required to find a target value\n",
    "- reduces the search space exponentially, resulting in a much faster search time for large lists\n",
    "- binary search requires the list to be sorted, but sorting the list beforehand can often be done once and reused for multiple searches, making it more efficient in the long run.\n",
    "\n",
    "\n",
    "\n"
   ]
  },
  {
   "attachments": {},
   "cell_type": "markdown",
   "metadata": {},
   "source": [
    "### Extra Credit:\n",
    "\n",
    "- Translate the binary number, 1001010, into octal (base 8). <mark>SHOW YOUR WORK AND EXPLAIN YOUR THINKING.</mark>\n",
    "<br><br>\n",
    "- first, split up into 3 sections\n",
    "    - 010, 101, 001\n",
    "- now evaluate each section\n",
    "    - 010= 2^1 =1\n",
    "    - 101= 2^0+2^2 =5\n",
    "    - 001=2^0 =1\n",
    "<br>\n",
    "=512\n",
    "<br><br>\n",
    "OR\n",
    "- write the best rap line (determined during the lesson by group)\n"
   ]
  },
  {
   "attachments": {},
   "cell_type": "markdown",
   "metadata": {},
   "source": [
    "# Hacks Scoring\n",
    "\n",
    "| Hack | Comments | Grade |\n",
    "|---|---|---|\n",
    "| Note Taker | fill in the blanks above | 0.1 |\n",
    "| Lesson Quiz | under 100% = 0.1 only | 0.2 |\n",
    "| Binary Game | must score at least 10 points | 0.2 |\n",
    "| Binary Conversions Practice | if incorrect= 0.2 awarded | 0.2 |\n",
    "| Binary Search Questions | if incorrect= 0.2 awarded | 0.2 |\n",
    "| Extra Credit | MUST SHOW WORK | 0.1 |\n",
    "| Total | expected= 0.9/1 | 1/1 |"
   ]
  }
 ],
 "metadata": {
  "kernelspec": {
   "display_name": "Python 3.9.12 ('base')",
   "language": "python",
   "name": "python3"
  },
  "language_info": {
   "codemirror_mode": {
    "name": "ipython",
    "version": 3
   },
   "file_extension": ".py",
   "mimetype": "text/x-python",
   "name": "python",
   "nbconvert_exporter": "python",
   "pygments_lexer": "ipython3",
   "version": "3.9.12"
  },
  "orig_nbformat": 4,
  "vscode": {
   "interpreter": {
    "hash": "ab0e85a9c08cdbd4c52a9b79d1ef72a54d0123135181235dd24754d6bea1e8b9"
   }
  }
 },
 "nbformat": 4,
 "nbformat_minor": 2
}
