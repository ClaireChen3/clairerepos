{
 "cells": [
  {
   "cell_type": "markdown",
   "metadata": {},
   "source": [
    "# 2020 Practice Exam 1 MCQ Corrections\n",
    "- toc: true \n",
    "- badges: true\n",
    "- comments: true \n",
    "- categories: [week 27]\n",
    "- description: "
   ]
  },
  {
   "cell_type": "markdown",
   "metadata": {},
   "source": [
    "55/67<br>\n",
    "2<br>\n",
    "![](https://i.imgur.com/MS3GFjX.png)<br>\n",
    "6<br>\n",
    "![](https://i.imgur.com/BRvB8Xb.png)<br>\n",
    "17<br>\n",
    "![](https://i.imgur.com/QPf8ZHU.png)<br>\n",
    "20<br>\n",
    "![](https://i.imgur.com/ke5YNAa.png)<br>\n",
    "30<br>\n",
    "![](blob:https://imgur.com/d76ec8df-ced7-4bc8-ab40-3e97c353c436)<br>\n",
    "31<br>\n",
    "![](https://i.imgur.com/lR7teak.png)<br>\n",
    "40<br>\n",
    "![](https://i.imgur.com/P22e0n4.png)<br>\n",
    "43<br>\n",
    "![](https://i.imgur.com/P22e0n4.png)<br>\n",
    "46<br>\n",
    "![](https://i.imgur.com/4S8hjsn.png)<br>\n",
    "57<br>\n",
    "![](https://i.imgur.com/HYKlOTb.png)<br>\n",
    "64<br>\n",
    "![](https://i.imgur.com/Y4L9hNb.png)<br>\n",
    "67<br>\n",
    "![](https://i.imgur.com/GPVoZGg.png)<br>"
   ]
  }
 ],
 "metadata": {
  "kernelspec": {
   "display_name": "Python 3.9.12 ('base')",
   "language": "python",
   "name": "python3"
  },
  "language_info": {
   "name": "python",
   "version": "3.9.12"
  },
  "orig_nbformat": 4,
  "vscode": {
   "interpreter": {
    "hash": "ab0e85a9c08cdbd4c52a9b79d1ef72a54d0123135181235dd24754d6bea1e8b9"
   }
  }
 },
 "nbformat": 4,
 "nbformat_minor": 2
}
