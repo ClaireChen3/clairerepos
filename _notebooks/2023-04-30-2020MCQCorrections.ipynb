{
 "cells": [
  {
   "cell_type": "markdown",
   "metadata": {},
   "source": [
    "# 2020 Practice Exam 1 MCQ Corrections\n",
    "- toc: true \n",
    "- badges: true\n",
    "- comments: true \n",
    "- categories: [week 27]\n",
    "- description: "
   ]
  },
  {
   "cell_type": "markdown",
   "metadata": {},
   "source": [
    "55/67<br>\n",
    "2. The distributed individuals are more likely to not be as experienced which can mess up the data<br>\n",
    "![](https://i.imgur.com/MS3GFjX.png)<br>\n",
    "6. They both move the bot to the gray square because it says repeat until goal reached so the bot will stop at the gray square<br>\n",
    "![](https://i.imgur.com/BRvB8Xb.png)<br>\n",
    "17. all of them can be represented by a sequence of bits<br>\n",
    "![](https://i.imgur.com/QPf8ZHU.png)<br>\n",
    "20. The two line graphs are roughly the same shape, indicating that the average amount of data stored per user remained about the same across all eight years.<br>\n",
    "![](https://i.imgur.com/ke5YNAa.png)<br>\n",
    "30. n is never gonna be greater than one, so out of range will never be displayed<br>\n",
    "![](https://i.imgur.com/P22e0n4.png)<br>\n",
    "31. In order to share the application without violating copyright, the student should receive permission from the copyright owner.<br>\n",
    "![](https://i.imgur.com/lR7teak.png)<br>\n",
    "40. Certificate authorities are entities that issue digital certificates, which are used to certify the ownership of public keys.<br>\n",
    "![](https://i.imgur.com/P22e0n4.png)<br>\n",
    "43. It is possible to have redundant routing in both configurations. In configuration I, some possible routes between computers Q and V include Q-P-V, Q-T-V, and Q-R-S-V. In configuration II, some possible routes between computers Q and V include Q-S-V, Q-R-T-V, and Q-P-T-V.<br>\n",
    "![](https://i.imgur.com/P22e0n4.png)<br>\n",
    "46. It is possible to have redundant routing in both configurations. In configuration I, some possible routes between computers Q and V include Q-P-V, Q-T-V, and Q-R-S-V. In configuration II, some possible routes between computers Q and V include Q-S-V, Q-R-T-V, and Q-P-T-V.<br>\n",
    "![](https://i.imgur.com/4S8hjsn.png)<br>\n",
    "57. protocols are to establish common standards<br>\n",
    "![](https://i.imgur.com/HYKlOTb.png)<br>\n",
    "64. I didn't choose two options<br>\n",
    "![](https://i.imgur.com/Y4L9hNb.png)<br>\n",
    "67. It is birch because it returns 1 instead of 2<br>\n",
    "![](https://i.imgur.com/GPVoZGg.png)<br>"
   ]
  }
 ],
 "metadata": {
  "kernelspec": {
   "display_name": "Python 3.9.12 ('base')",
   "language": "python",
   "name": "python3"
  },
  "language_info": {
   "name": "python",
   "version": "3.9.12"
  },
  "orig_nbformat": 4,
  "vscode": {
   "interpreter": {
    "hash": "ab0e85a9c08cdbd4c52a9b79d1ef72a54d0123135181235dd24754d6bea1e8b9"
   }
  }
 },
 "nbformat": 4,
 "nbformat_minor": 2
}
