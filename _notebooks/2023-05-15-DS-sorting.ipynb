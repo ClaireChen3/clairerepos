{
 "cells": [
  {
   "attachments": {},
   "cell_type": "markdown",
   "metadata": {},
   "source": [
    "# Sorting Algorithms\n",
    "> Working with Data Structures and manipulating data.\n",
    "\n",
    "- toc: true\n",
    "- categories: []\n",
    "- type: pbl\n",
    "- week: 34"
   ]
  },
  {
   "attachments": {},
   "cell_type": "markdown",
   "metadata": {},
   "source": [
    "[wget link](https://raw.githubusercontent.com/nighthawkcoders/APCSP/master/_notebooks/2023-05-15-DS-sorting.ipynb)"
   ]
  },
  {
   "cell_type": "code",
   "execution_count": 18,
   "metadata": {},
   "outputs": [
    {
     "name": "stdout",
     "output_type": "stream",
     "text": [
      "Random List\n",
      "[6, 83, 94, 40, 10, 7, 79, 60, 76, 82]\n"
     ]
    }
   ],
   "source": [
    "import random\n",
    "\n",
    "numbers = []\n",
    "for i in range(10):\n",
    "    numbers.append(random.randint(0,100))\n",
    "print(\"Random List\")\n",
    "print(numbers)"
   ]
  },
  {
   "attachments": {},
   "cell_type": "markdown",
   "metadata": {},
   "source": [
    "# Warm Up\n",
    "\n",
    "> Discuss with a partner... \n",
    "What are some strategies you would use to sort this list? (Don't worry about writing code for now)\n",
    "- bubble sort"
   ]
  },
  {
   "attachments": {},
   "cell_type": "markdown",
   "metadata": {},
   "source": [
    "# Explore\n",
    "\n",
    "Get into groups of 3\n",
    "\n",
    "We will be focusing on 4 algorithms today.\n",
    "\n",
    "We will look at the first one together, Bubble Sort\n",
    "\n",
    "![](images/bubble-sort.png)\n",
    "\n",
    "What is happening with this sort?\n",
    "\n",
    "In your groups you will each choose to be an expert on a sorting algorithm. Merge, Selection, and Insertion.\n",
    "Take about 5 minutes to read about your algorithm (Geek for Geeks linked below) and be ready to explain it to your other group members. \n",
    "\n",
    "[Merge](https://www.geeksforgeeks.org/merge-sort/#)\n",
    "\n",
    "[Selection](https://www.geeksforgeeks.org/selection-sort/)\n",
    "\n",
    "[Insertion](https://www.geeksforgeeks.org/insertion-sort/)"
   ]
  },
  {
   "attachments": {},
   "cell_type": "markdown",
   "metadata": {},
   "source": [
    "## Practice\n",
    "\n",
    "[75, 17, 46, 80, 67, 45, 69, 79, 40, 0]\n",
    "\n",
    "How would you sort this list with... \n",
    "- Bubble Sort<br>\n",
    "with bubble sort, you compare the two elements in the list at a time and swap the order if it is wrong, the same step is repeated to the next two elements in the list until the list is completely sorted.\n",
    "- Selection Sort<br>\n",
    "with selection sort, you repeatedly find the minimum element from the unsorted part of the list and swap it with the element at the beginning of the unsorted part. \n",
    "> Explain.\n"
   ]
  },
  {
   "cell_type": "markdown",
   "metadata": {},
   "source": [
    "[88, 39, 53, 39, 58, 43, 74, 81, 71, 51]\n",
    "\n",
    "How would you sort this list with... \n",
    "- Merge Sort<br>\n",
    "with merge sort you divide  the list into two until no longer divisible (creating a triangle), then you merge the elements back together in order from least to greatest until the full list is put back together (creating a diamond)\n",
    "- Insertion Sort<br>\n",
    "with insertion sort you compare elements in pairs. Starting with the first pair you compare, if they are in ascending order then you leave it as is and move on to the next pair to the right. However, if it is not in ascending order, then the pair is swapped. If, down the line, a number that is smaller than all the previous ones occur, then it will continue to get swapped until it is pushed up to the front.\n",
    "\n",
    "> Explain."
   ]
  },
  {
   "attachments": {},
   "cell_type": "markdown",
   "metadata": {},
   "source": [
    "# Sorting Words\n",
    "> Sorting strings works in the same way as integers. Using your expertise algorithm, sort the following list of random words."
   ]
  },
  {
   "cell_type": "code",
   "execution_count": 1,
   "metadata": {},
   "outputs": [
    {
     "name": "stderr",
     "output_type": "stream",
     "text": [
      "[nltk_data] Downloading package words to /home/claire/nltk_data...\n",
      "[nltk_data]   Package words is already up-to-date!\n"
     ]
    },
    {
     "name": "stdout",
     "output_type": "stream",
     "text": [
      "Random List\n",
      "['poiser', 'bafaro', 'acanthion', 'adhesive', 'lateralis', 'whimmy', 'porphyraceous', 'overthwartness', 'pathoplastically', 'lilaceous']\n"
     ]
    }
   ],
   "source": [
    "import nltk\n",
    "import random\n",
    "\n",
    "nltk.download('words')  # Download the word list (only required once)\n",
    "\n",
    "from nltk.corpus import words\n",
    "\n",
    "english_words = words.words()\n",
    "#print(len(english_words))  # Prints the number of words in the list\n",
    "\n",
    "# You can now use the 'english_words' list in your code\n",
    "\n",
    "words = []\n",
    "for i in range(10):\n",
    "    words.append(english_words[random.randint(0,len(english_words))])\n",
    "print(\"Random List\")\n",
    "print(words)"
   ]
  },
  {
   "attachments": {},
   "cell_type": "markdown",
   "metadata": {},
   "source": [
    "## Discuss \n",
    "Answer the following with your group.\n",
    "\n",
    "- When should you use each algorithm? What makes an algorithm the right choice?<br>\n",
    "you should use merge sort when there are a lot of elements to sort through, bubble sort when you have a smaller dataset as it is easier to use, selection sort when memory space is constricted, and insertion sort when the dataset is already partially sorted.\n",
    "- Given the following lists...\n",
    "    - [0, 2, 6, 4, 8, 10]<br>\n",
    "    for this data set I would use insertion because it isn;t a big dataset and is also very close to being sorted\n",
    "    - [Elephant, Banana, Cat, Dog, Apple]<br>\n",
    "    for this dataset I would use merge sort because it is more efficient due to its stability and time complexity\n",
    "    - [29, 13, 83, 47, 32, 78, 100, 60, 65, 15, 24, 9, 40, 68, 53, 8, 90, 58, 39, 32, 34, 91, 74, 94, 49, 87, 34, 87, 23, 17, 27, 2, 38, 58, 84, 15, 9, 46, 74, 40, 44, 8, 55, 28, 81, 92, 81, 88, 53, 38, 19, 21, 9, 54, 21, 67, 3, 41, 3, 74, 13, 71, 70, 45, 5, 36, 80, 64, 97, 86, 73, 74, 94, 79, 49, 32, 20, 68, 64, 69, 1, 77, 31, 56, 100, 80, 48, 75, 85, 93, 67, 57, 26, 56, 43, 53, 59, 28, 67, 50]<br>\n",
    "    for this dataset I would use merge sort as well because it is a pretty big dataset.\n",
    "Select the algorithm you believe is best for each, explain."
   ]
  },
  {
   "attachments": {},
   "cell_type": "markdown",
   "metadata": {},
   "source": [
    "## HACKS\n",
    "> Provided below is a Bubble Sort Algorithm sorting a list of dictionaries based off of selected key.\n",
    "\n",
    "- Now it's time to do some coding...\n",
    "\n",
    "- Run code and then research and answer these questions...\n",
    "    - Is a list and/or dictionary in python considered a primitive or collection type?  Why?<br>\n",
    "    In Python, a list and a dictionary are considered collection types rather than primitive types. This is because they can hold multiple values or elements of different data types, making them more complex and versatile than primitive types. Lists are ordered collections that allow indexing and slicing operations, while dictionaries are unordered collections that store key-value pairs for efficient access to values. \n",
    "    - Is the list passed into bubble sort \"pass-by-value\" or \"pass-by-reference? Describe why in relation to output.<br>\n",
    "    The list passed into the bubbleSort function is pass-by-reference. In Python, objects, including lists, are passed by reference when used as function arguments. When a list is passed as an argument to the bubbleSort function, it is passed by reference, meaning modifications made to the list within the function affect the original list outside. The bubbleSort function sorts the list in-place by swapping elements, and these modifications directly impact the original list. This demonstrates that the list is indeed passed by reference, allowing the function to modify the original list directly.\n",
    "    \n",
    "- Implement new cell(s) and/or organize cells to do the following.\n",
    "    - Create your own list\n",
    "    - Use your expertise sorting algorithm (selection, insertion, merge). Note, I got my bubble sort from Geek for Geeks and made modifications. Each student in a group should have a unique algorithm.\n",
    "    - Test your list with my bubble sort\n",
    "    - Test my list with your new sort\n",
    "    - Research analysis on sorting: comparisons, swaps, time.  Build this into your hacks.\n",
    "    - Find a better way to print the data, key first, then other elements in viewable form.\n",
    "\n",
    "Use the code below to help guide your adventure"
   ]
  },
  {
   "cell_type": "code",
   "execution_count": 20,
   "metadata": {},
   "outputs": [
    {
     "name": "stdout",
     "output_type": "stream",
     "text": [
      "Original\n",
      "[{'name': 'Risa', 'age': 18, 'city': 'New York'}, {'name': 'John', 'age': 63, 'city': 'Eugene'}, {'name': 'Shekar', 'age': 18, 'city': 'San Francisco'}, {'name': 'Ryan', 'age': 21, 'city': 'Los Angeles'}]\n",
      "name\n",
      "[{'name': 'John', 'age': 63, 'city': 'Eugene'}, {'name': 'Risa', 'age': 18, 'city': 'New York'}, {'name': 'Ryan', 'age': 21, 'city': 'Los Angeles'}, {'name': 'Shekar', 'age': 18, 'city': 'San Francisco'}]\n",
      "age\n",
      "[{'name': 'Risa', 'age': 18, 'city': 'New York'}, {'name': 'Shekar', 'age': 18, 'city': 'San Francisco'}, {'name': 'Ryan', 'age': 21, 'city': 'Los Angeles'}, {'name': 'John', 'age': 63, 'city': 'Eugene'}]\n",
      "city\n",
      "[{'name': 'John', 'age': 63, 'city': 'Eugene'}, {'name': 'Ryan', 'age': 21, 'city': 'Los Angeles'}, {'name': 'Risa', 'age': 18, 'city': 'New York'}, {'name': 'Shekar', 'age': 18, 'city': 'San Francisco'}]\n"
     ]
    }
   ],
   "source": [
    "\"\"\"\n",
    "* Creator: Nighthawk Coding Society\n",
    "Bubble Sort of a List with optimizations\n",
    "\"\"\"\n",
    "\n",
    "# bubble sorts a list of dictionaries, base off of provided key\n",
    "def bubbleSort(list, key):\n",
    "    n = len(list) - 1  # list are indexed 0 to n-1, len is n\n",
    "    \n",
    "    # Traverse through list with i index\n",
    "    for i in range(n):\n",
    "        swapped = False  # optimize code, so it exits if now swaps on inner loop\n",
    "\n",
    "        # Inner traversal using j index\n",
    "        for j in range(n-i):  # n-i as positions on right are in order in bubble\n",
    " \n",
    "            # Swap if the element KeyN is greater KeyN1\n",
    "            keyN = list[j].get(key)\n",
    "            keyN1 = list[j+1].get(key)\n",
    "            if keyN > keyN1:\n",
    "                swapped = True\n",
    "                list[j], list[j + 1] = list[j + 1], list[j]  # single line swap\n",
    "         \n",
    "        if not swapped:  # if no swaps on inner pass, list is sorted\n",
    "            return  # exit function\n",
    "    \n",
    "\n",
    "if __name__ == \"__main__\":\n",
    "    # list/dictionary sample\n",
    "    list_of_people = [\n",
    "    {\"name\": \"Risa\", \"age\": 18, \"city\": \"New York\"},\n",
    "    {\"name\": \"John\", \"age\": 63, \"city\": \"Eugene\"},\n",
    "    {\"name\": \"Shekar\", \"age\": 18, \"city\": \"San Francisco\"},\n",
    "    {\"name\": \"Ryan\", \"age\": 21, \"city\": \"Los Angeles\"}\n",
    "    ]\n",
    "    \n",
    "    # assuming uniform keys, pick 1st row as source of keys\n",
    "    key_row = list_of_people[0]\n",
    "\n",
    "    # print list as defined\n",
    "    print(\"Original\")\n",
    "    print(list_of_people)\n",
    "    \n",
    "    for key in key_row:  # finds each key in the row\n",
    "        print(key)\n",
    "        bubbleSort(list_of_people, key)  # sort list of people\n",
    "        print(list_of_people)"
   ]
  },
  {
   "cell_type": "code",
   "execution_count": 27,
   "metadata": {},
   "outputs": [
    {
     "name": "stdout",
     "output_type": "stream",
     "text": [
      "Original\n",
      "[{'name': 'panini', 'cost': '$10'}, {'name': 'sushi', 'cost': '12'}, {'name': 'ramen', 'cost': '15'}, {'name': 'pizza', 'cost': '$15'}]\n",
      "name\n",
      "[{'name': 'panini', 'cost': '$10'}, {'name': 'pizza', 'cost': '$15'}, {'name': 'ramen', 'cost': '15'}, {'name': 'sushi', 'cost': '12'}]\n",
      "cost\n",
      "[{'name': 'panini', 'cost': '$10'}, {'name': 'pizza', 'cost': '$15'}, {'name': 'sushi', 'cost': '12'}, {'name': 'ramen', 'cost': '15'}]\n"
     ]
    }
   ],
   "source": [
    "# bubble sorts a list of dictionaries, base off of provided key\n",
    "def bubbleSort(list, key):\n",
    "    n = len(list) - 1  # list are indexed 0 to n-1, len is n\n",
    "    \n",
    "    # Traverse through list with i index\n",
    "    for i in range(n):\n",
    "        swapped = False  # optimize code, so it exits if now swaps on inner loop\n",
    "\n",
    "        # Inner traversal using j index\n",
    "        for j in range(n-i):  # n-i as positions on right are in order in bubble\n",
    " \n",
    "            # Swap if the element KeyN is greater KeyN1\n",
    "            keyN = list[j].get(key)\n",
    "            keyN1 = list[j+1].get(key)\n",
    "            if keyN > keyN1:\n",
    "                swapped = True\n",
    "                list[j], list[j + 1] = list[j + 1], list[j]  # single line swap\n",
    "         \n",
    "        if not swapped:  # if no swaps on inner pass, list is sorted\n",
    "            return  # exit function\n",
    "        \n",
    "if __name__ == \"__main__\":\n",
    "    list_of_food = [\n",
    "                {\"name\": \"panini\", \"cost\": \"$10\"},\n",
    "                {\"name\": \"sushi\", \"cost\": \"12\"},\n",
    "                {\"name\": \"ramen\", \"cost\": \"15\"},\n",
    "                {\"name\": \"pizza\", \"cost\": \"$15\"},\n",
    "    ]\n",
    "    key_row = list_of_food[0]\n",
    "    print(\"Original\")\n",
    "    print(list_of_food)\n",
    "    \n",
    "    for key in key_row:\n",
    "        print(key)\n",
    "        bubbleSort(list_of_food, key) \n",
    "        print(list_of_food)\n"
   ]
  },
  {
   "cell_type": "code",
   "execution_count": 28,
   "metadata": {},
   "outputs": [
    {
     "name": "stdout",
     "output_type": "stream",
     "text": [
      "Original:\n",
      "{'name': 'Risa', 'age': 18, 'city': 'New York'}\n",
      "{'name': 'John', 'age': 63, 'city': 'Eugene'}\n",
      "{'name': 'Shekar', 'age': 18, 'city': 'San Francisco'}\n",
      "{'name': 'Ryan', 'age': 21, 'city': 'Los Angeles'}\n",
      "\n",
      "Sorted by age:\n",
      "{'name': 'Risa', 'age': 18, 'city': 'New York'}\n",
      "{'name': 'Shekar', 'age': 18, 'city': 'San Francisco'}\n",
      "{'name': 'Ryan', 'age': 21, 'city': 'Los Angeles'}\n",
      "{'name': 'John', 'age': 63, 'city': 'Eugene'}\n"
     ]
    }
   ],
   "source": [
    "def insertionSort(lst, key):\n",
    "    for i in range(1, len(lst)):\n",
    "        current = lst[i]\n",
    "        j = i - 1\n",
    "        while j >= 0 and lst[j][key] > current[key]:\n",
    "            lst[j + 1] = lst[j]\n",
    "            j -= 1\n",
    "        lst[j + 1] = current\n",
    "\n",
    "list_of_people = [\n",
    "    {\"name\": \"Risa\", \"age\": 18, \"city\": \"New York\"},\n",
    "    {\"name\": \"John\", \"age\": 63, \"city\": \"Eugene\"},\n",
    "    {\"name\": \"Shekar\", \"age\": 18, \"city\": \"San Francisco\"},\n",
    "    {\"name\": \"Ryan\", \"age\": 21, \"city\": \"Los Angeles\"}\n",
    "]\n",
    "\n",
    "print(\"Original:\")\n",
    "for person in list_of_people:\n",
    "    print(person)\n",
    "\n",
    "insertionSort(list_of_people, \"age\")\n",
    "\n",
    "print(\"\\nSorted by age:\")\n",
    "for person in list_of_people:\n",
    "    print(person)\n"
   ]
  },
  {
   "cell_type": "markdown",
   "metadata": {},
   "source": [
    "Comparison: In the merge sort algorithm, comparisons are used to determine the relative order of elements during the merging process. The comparisons are performed based on a specified key or attribute of the elements being sorted.\n",
    "\n",
    "Swaps: In the merge sort algorithm, swaps are not directly used to reorder elements. Instead, the merging process in merge sort involves creating new lists or arrays to store the sorted elements. The elements from the original list are selectively placed in the appropriate positions in the new merged list.\n",
    "\n",
    "Time: Estimate of how the algorithm's performance scales with the input size. Merge sort has a time complexity of O(n log n), where n is the number of elements in the list. This means that as the list size doubles, the time taken to sort it will increase by a factor of approximately two times the logarithm of the list size.\n",
    "\n",
    "Better way of printing data:"
   ]
  },
  {
   "cell_type": "code",
   "execution_count": 3,
   "metadata": {},
   "outputs": [
    {
     "name": "stdout",
     "output_type": "stream",
     "text": [
      "Original:\n",
      "{'name': 'panini', 'cost': '$10'}\n",
      "{'name': 'sushi', 'cost': '12'}\n",
      "{'name': 'ramen', 'cost': '15'}\n",
      "{'name': 'pizza', 'cost': '$15'}\n",
      "\n",
      "Sorted by Name:\n",
      "{'name': 'panini', 'cost': '$10'}\n",
      "{'name': 'pizza', 'cost': '$15'}\n",
      "{'name': 'ramen', 'cost': '15'}\n",
      "{'name': 'sushi', 'cost': '12'}\n",
      "\n",
      "Sorted by Cost:\n",
      "{'name': 'panini', 'cost': '$10'}\n",
      "{'name': 'pizza', 'cost': '$15'}\n",
      "{'name': 'sushi', 'cost': '12'}\n",
      "{'name': 'ramen', 'cost': '15'}\n"
     ]
    }
   ],
   "source": [
    "def mergeSort(arr, key):\n",
    "    if len(arr) <= 1:\n",
    "        return arr\n",
    "\n",
    "    mid = len(arr) // 2\n",
    "    left = arr[:mid]\n",
    "    right = arr[mid:]\n",
    "\n",
    "    left = mergeSort(left, key)\n",
    "    right = mergeSort(right, key)\n",
    "\n",
    "    return merge(left, right, key)\n",
    "\n",
    "def merge(left, right, key):\n",
    "    result = []\n",
    "    i = j = 0\n",
    "\n",
    "    while i < len(left) and j < len(right):\n",
    "        if left[i][key] <= right[j][key]:\n",
    "            result.append(left[i])\n",
    "            i += 1\n",
    "        else:\n",
    "            result.append(right[j])\n",
    "            j += 1\n",
    "\n",
    "    result.extend(left[i:])\n",
    "    result.extend(right[j:])\n",
    "\n",
    "    return result\n",
    "\n",
    "if __name__ == \"__main__\":\n",
    "    list_of_food = [\n",
    "                {\"name\": \"panini\", \"cost\": \"$10\"},\n",
    "                {\"name\": \"sushi\", \"cost\": \"12\"},\n",
    "                {\"name\": \"ramen\", \"cost\": \"15\"},\n",
    "                {\"name\": \"pizza\", \"cost\": \"$15\"},\n",
    "    ]\n",
    "\n",
    "    key_row = list_of_food[0]\n",
    "\n",
    "    print(\"Original:\")\n",
    "    for food in list_of_food:\n",
    "        print(food)\n",
    "\n",
    "    print(\"\\nSorted by Name:\")\n",
    "    sorted_list = mergeSort(list_of_food, \"name\")\n",
    "    for food in sorted_list:\n",
    "        print(food)\n",
    "\n",
    "    print(\"\\nSorted by Cost:\")\n",
    "    sorted_list = mergeSort(list_of_food, \"cost\")\n",
    "    for food in sorted_list:\n",
    "        print(food)"
   ]
  }
 ],
 "metadata": {
  "kernelspec": {
   "display_name": "Python 3.9.12 ('base')",
   "language": "python",
   "name": "python3"
  },
  "language_info": {
   "codemirror_mode": {
    "name": "ipython",
    "version": 3
   },
   "file_extension": ".py",
   "mimetype": "text/x-python",
   "name": "python",
   "nbconvert_exporter": "python",
   "pygments_lexer": "ipython3",
   "version": "3.9.12"
  },
  "orig_nbformat": 4,
  "vscode": {
   "interpreter": {
    "hash": "ab0e85a9c08cdbd4c52a9b79d1ef72a54d0123135181235dd24754d6bea1e8b9"
   }
  }
 },
 "nbformat": 4,
 "nbformat_minor": 2
}
