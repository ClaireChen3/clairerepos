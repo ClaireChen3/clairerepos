{
 "cells": [
  {
   "cell_type": "markdown",
   "metadata": {},
   "source": [
    "# CPT Plans\n",
    "- toc: true \n",
    "- badges: true\n",
    "- comments: true \n",
    "- categories: [week 27]\n",
    "- description: "
   ]
  },
  {
   "cell_type": "markdown",
   "metadata": {},
   "source": [
    "Plan to Complete\n",
    "\n",
    "- Fix Typeerror by next week\n",
    "- Improve the frontend to look more visually appealing\n",
    "- add an update feature so users can easily update their comments\n",
    "\n"
   ]
  }
 ],
 "metadata": {
  "kernelspec": {
   "display_name": "Python 3.9.12 ('base')",
   "language": "python",
   "name": "python3"
  },
  "language_info": {
   "name": "python",
   "version": "3.9.12"
  },
  "orig_nbformat": 4,
  "vscode": {
   "interpreter": {
    "hash": "ab0e85a9c08cdbd4c52a9b79d1ef72a54d0123135181235dd24754d6bea1e8b9"
   }
  }
 },
 "nbformat": 4,
 "nbformat_minor": 2
}
